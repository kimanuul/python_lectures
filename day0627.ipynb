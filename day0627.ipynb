{
  "nbformat": 4,
  "nbformat_minor": 0,
  "metadata": {
    "colab": {
      "name": "day0627.ipynb",
      "provenance": [],
      "collapsed_sections": [],
      "authorship_tag": "ABX9TyP267VzH/E+AV21h8Gg5d6/",
      "include_colab_link": true
    },
    "kernelspec": {
      "name": "python3",
      "display_name": "Python 3"
    },
    "language_info": {
      "name": "python"
    }
  },
  "cells": [
    {
      "cell_type": "markdown",
      "metadata": {
        "id": "view-in-github",
        "colab_type": "text"
      },
      "source": [
        "<a href=\"https://colab.research.google.com/github/kimanuul/python_lectures/blob/main/day0627.ipynb\" target=\"_parent\"><img src=\"https://colab.research.google.com/assets/colab-badge.svg\" alt=\"Open In Colab\"/></a>"
      ]
    },
    {
      "cell_type": "markdown",
      "source": [
        "---\n",
        "title: \"Python 기초문법\"\n",
        "date: '2022-06-27'\n",
        "---"
      ],
      "metadata": {
        "id": "fiqn3oCrzD2t"
      }
    },
    {
      "cell_type": "markdown",
      "source": [
        "- Hello World"
      ],
      "metadata": {
        "id": "hICKLJRbzYTs"
      }
    },
    {
      "cell_type": "code",
      "source": [
        "print(\"Hello World\")"
      ],
      "metadata": {
        "colab": {
          "base_uri": "https://localhost:8080/"
        },
        "id": "QZKxUFF8z8yE",
        "outputId": "f76cd0cb-da12-45cb-be1f-2c04c6e8b1f2"
      },
      "execution_count": null,
      "outputs": [
        {
          "output_type": "stream",
          "name": "stdout",
          "text": [
            "Hello World\n"
          ]
        }
      ]
    },
    {
      "cell_type": "markdown",
      "source": [
        "## 주석처리\n",
        "- 1줄 주석\n",
        "- 여러줄 주석처리\n",
        "  + 함수 또는 클래스를 문서화할 때 주로 사용\n",
        "  \n",
        "- 프로젝트 할 때\n",
        "  + 전체 공정 100\n",
        "  + 코드 / 코드 문서화 / 한글작업 문서화"
      ],
      "metadata": {
        "id": "nM3luTEc0H-8"
      }
    },
    {
      "cell_type": "code",
      "source": [
        "# print() 함수 사용\n",
        "print (\"1줄 주석\")\n",
        "\n",
        "\"\"\"\n",
        "여러줄 주석\n",
        "쌍따옴표 3개를 입력해주세요\n",
        "앞과 뒤로\n",
        "\"\"\"\n",
        "\n",
        "print(\"여러줄 주석\")"
      ],
      "metadata": {
        "colab": {
          "base_uri": "https://localhost:8080/"
        },
        "id": "U0lefcMB0LFt",
        "outputId": "95d3b3e2-2beb-4b69-ef7c-3a0ffcf01379"
      },
      "execution_count": null,
      "outputs": [
        {
          "output_type": "stream",
          "name": "stdout",
          "text": [
            "1줄 주석\n",
            "여러줄 주석\n"
          ]
        }
      ]
    },
    {
      "cell_type": "markdown",
      "source": [
        "## 변수(Sclarar)\n",
        "- 자료형\n",
        "- Scalar형, Non-Scalar형"
      ],
      "metadata": {
        "id": "kk_M-hAh5eFK"
      }
    },
    {
      "cell_type": "markdown",
      "source": [
        "## 수치형 자료형\n",
        "int, float"
      ],
      "metadata": {
        "id": "LrVIvlmi5mzS"
      }
    },
    {
      "cell_type": "code",
      "source": [
        "num_int = 1\n",
        "print(num_int)\n",
        "print(type(num_int))"
      ],
      "metadata": {
        "colab": {
          "base_uri": "https://localhost:8080/"
        },
        "id": "leaOQjvX5smS",
        "outputId": "6b883800-63a2-4de7-e0e3-48e49a4208fe"
      },
      "execution_count": null,
      "outputs": [
        {
          "output_type": "stream",
          "name": "stdout",
          "text": [
            "1\n",
            "<class 'int'>\n"
          ]
        }
      ]
    },
    {
      "cell_type": "code",
      "source": [
        "num_float = 0.1\n",
        "print(num_float)\n",
        "print(type(num_float))"
      ],
      "metadata": {
        "colab": {
          "base_uri": "https://localhost:8080/"
        },
        "id": "vCcgbN1g6J_S",
        "outputId": "eb2b008f-4f5e-4621-eb69-2e73502f9702"
      },
      "execution_count": null,
      "outputs": [
        {
          "output_type": "stream",
          "name": "stdout",
          "text": [
            "0.1\n",
            "<class 'float'>\n"
          ]
        }
      ]
    },
    {
      "cell_type": "markdown",
      "source": [
        "### Bool형\n",
        "- True, False\n",
        "- R : TRUE, FALSE\n"
      ],
      "metadata": {
        "id": "9uBUBKb06U5i"
      }
    },
    {
      "cell_type": "code",
      "source": [
        "bool_true = True\n",
        "print(bool_true)\n",
        "print(type(bool_true))"
      ],
      "metadata": {
        "colab": {
          "base_uri": "https://localhost:8080/"
        },
        "id": "90AueKjm6hWx",
        "outputId": "93e7c4c6-ee5a-41cf-c177-e9c8af850708"
      },
      "execution_count": null,
      "outputs": [
        {
          "output_type": "stream",
          "name": "stdout",
          "text": [
            "True\n",
            "<class 'bool'>\n"
          ]
        }
      ]
    },
    {
      "cell_type": "markdown",
      "source": [
        "### None 자료형\n",
        "- Null 값, 값이 정해지지 않은 자료형"
      ],
      "metadata": {
        "id": "xlYBOCcm6xOB"
      }
    },
    {
      "cell_type": "code",
      "source": [
        "none_x = None\n",
        "print(none_x)\n",
        "print(type(none_x))"
      ],
      "metadata": {
        "colab": {
          "base_uri": "https://localhost:8080/"
        },
        "id": "fUEEASYA65Ch",
        "outputId": "0de23ff5-8981-4d04-8d3b-f4373c03116e"
      },
      "execution_count": null,
      "outputs": [
        {
          "output_type": "stream",
          "name": "stdout",
          "text": [
            "None\n",
            "<class 'NoneType'>\n"
          ]
        }
      ]
    },
    {
      "cell_type": "markdown",
      "source": [
        "## 사칙연산\n",
        "- 정수형 사칙연산, 실수형 사칙연산\n",
        "- 결과값의 자료형"
      ],
      "metadata": {
        "id": "1vPee6_D7avh"
      }
    },
    {
      "cell_type": "markdown",
      "source": [
        "## 정수형 사칙 연산\n",
        "- +, -, /, *"
      ],
      "metadata": {
        "id": "JsZ7nsgn7oSJ"
      }
    },
    {
      "cell_type": "code",
      "source": [
        "a = 3\n",
        "b = 2\n",
        "print('a + b = ', a+b)\n",
        "print('a - b = ', a-b)\n",
        "print('a / b = ', a/b)\n",
        "print('a * b = ', a*b)"
      ],
      "metadata": {
        "colab": {
          "base_uri": "https://localhost:8080/"
        },
        "id": "kh6eY5QY7qSB",
        "outputId": "83fc8fb6-65af-407d-b7dc-2140de5201c8"
      },
      "execution_count": null,
      "outputs": [
        {
          "output_type": "stream",
          "name": "stdout",
          "text": [
            "a + b =  5\n",
            "a - b =  1\n",
            "a / b =  1.5\n",
            "a * b =  6\n"
          ]
        }
      ]
    },
    {
      "cell_type": "code",
      "source": [
        ""
      ],
      "metadata": {
        "id": "iDMdU6jB89Fg"
      },
      "execution_count": null,
      "outputs": []
    },
    {
      "cell_type": "markdown",
      "source": [
        "## 실수형 사칙 연산"
      ],
      "metadata": {
        "id": "QUtt66tE75CL"
      }
    },
    {
      "cell_type": "code",
      "source": [
        "a = 1.5\n",
        "b = 2.5\n",
        "print('a + b = ', a+b)"
      ],
      "metadata": {
        "colab": {
          "base_uri": "https://localhost:8080/"
        },
        "id": "Lhothczj77UA",
        "outputId": "96cfc477-8294-42d8-a288-5ab5e350c473"
      },
      "execution_count": null,
      "outputs": [
        {
          "output_type": "stream",
          "name": "stdout",
          "text": [
            "a + b =  4.0\n"
          ]
        }
      ]
    },
    {
      "cell_type": "markdown",
      "source": [
        "## 논리형 연산자\n",
        "- Bool형\n",
        "- True와 False 값으로 정의\n",
        "- 조건식\n",
        "  + 교집합(=and)\n",
        "  +합집합(=or)"
      ],
      "metadata": {
        "id": "65Oas-2Q9cLz"
      }
    },
    {
      "cell_type": "code",
      "source": [
        "print(True and True)\n",
        "print(True and False)\n",
        "print(False and True)\n",
        "print(False and False)"
      ],
      "metadata": {
        "colab": {
          "base_uri": "https://localhost:8080/"
        },
        "id": "6rtBh-kU9u-4",
        "outputId": "f4a79541-a2fe-4f22-9ea8-d0104539ba90"
      },
      "execution_count": null,
      "outputs": [
        {
          "output_type": "stream",
          "name": "stdout",
          "text": [
            "True\n",
            "False\n",
            "False\n",
            "False\n"
          ]
        }
      ]
    },
    {
      "cell_type": "code",
      "source": [
        "print(True or True)\n",
        "print(True or False)\n",
        "print(False or True)\n",
        "print(False or False)"
      ],
      "metadata": {
        "colab": {
          "base_uri": "https://localhost:8080/"
        },
        "id": "o8DUHJue98FA",
        "outputId": "8c1194a8-f39f-47ff-c52c-3ac440254c6c"
      },
      "execution_count": null,
      "outputs": [
        {
          "output_type": "stream",
          "name": "stdout",
          "text": [
            "True\n",
            "True\n",
            "True\n",
            "False\n"
          ]
        }
      ]
    },
    {
      "cell_type": "markdown",
      "source": [
        "## 비교 연산자\n",
        "- 비교 연산자는 부등호를 의미한다."
      ],
      "metadata": {
        "id": "QA_p2Pyx-LjA"
      }
    },
    {
      "cell_type": "code",
      "source": [
        "print(4 > 3) # 참 = True\n",
        "print(4 < 3) # 거짓 = False\n",
        "\n",
        "print(4 > 3 and 4 < 3) # False"
      ],
      "metadata": {
        "colab": {
          "base_uri": "https://localhost:8080/"
        },
        "id": "2gr0Ds2a-PL4",
        "outputId": "8af35ba9-45d2-466c-9c36-47028d11ed63"
      },
      "execution_count": null,
      "outputs": [
        {
          "output_type": "stream",
          "name": "stdout",
          "text": [
            "True\n",
            "False\n",
            "False\n"
          ]
        }
      ]
    },
    {
      "cell_type": "markdown",
      "source": [
        "## 논리형 & 비교 연산자 응용\n",
        "- input()\n",
        "- 형변환\n",
        "  + 데이터 타입을 바꾸는 것"
      ],
      "metadata": {
        "id": "IUdALUwF-uwP"
      }
    },
    {
      "cell_type": "code",
      "source": [
        "var = int(input(\"숫자를 입력하세요..!\"))\n",
        "print(var)\n",
        "print(type(var))"
      ],
      "metadata": {
        "colab": {
          "base_uri": "https://localhost:8080/"
        },
        "id": "_m2hqKrk-774",
        "outputId": "336013f7-36aa-4a73-ac17-3030d26964ea"
      },
      "execution_count": null,
      "outputs": [
        {
          "output_type": "stream",
          "name": "stdout",
          "text": [
            "숫자를 입력하세요..!3\n",
            "3\n",
            "<class 'int'>\n"
          ]
        }
      ]
    },
    {
      "cell_type": "code",
      "source": [
        "num1 = int(input(\"첫번째 숫자를 입력하세요..!\"))\n",
        "num2 = int(input(\"두번째 숫자를 입력하세요..!\"))\n",
        "num3 = int(input(\"세번째 숫자를 입력하세요..!\"))\n",
        "num4 = int(input(\"네번째 숫자를 입력하세요..!\"))\n"
      ],
      "metadata": {
        "colab": {
          "base_uri": "https://localhost:8080/"
        },
        "id": "y7TiQxBX_ybJ",
        "outputId": "3bf73b72-ff08-4e89-df94-7d0aa40d7897"
      },
      "execution_count": null,
      "outputs": [
        {
          "name": "stdout",
          "output_type": "stream",
          "text": [
            "첫번째 숫자를 입력하세요..!10\n",
            "두번째 숫자를 입력하세요..!20\n",
            "세번째 숫자를 입력하세요..!50\n",
            "네번째 숫자를 입력하세요..!100\n"
          ]
        }
      ]
    },
    {
      "cell_type": "code",
      "source": [
        "var1 = num1 >= num2\n",
        "var2 = num3 < num4\n",
        "\n",
        "print(var1 and var2)"
      ],
      "metadata": {
        "colab": {
          "base_uri": "https://localhost:8080/"
        },
        "id": "rNmo7VTZ_-cH",
        "outputId": "d8f4934b-f14e-4186-ac03-df8d7c1df5b3"
      },
      "execution_count": null,
      "outputs": [
        {
          "output_type": "stream",
          "name": "stdout",
          "text": [
            "False\n"
          ]
        }
      ]
    },
    {
      "cell_type": "markdown",
      "source": [
        "## String\n",
        "- Non Scarlar"
      ],
      "metadata": {
        "id": "pEIexBVkB1Vn"
      }
    },
    {
      "cell_type": "code",
      "source": [
        "print('Hello World')\n",
        "print(\"Hello World\")\n",
        "print(\"'Hello World'\")\n",
        "print('\"Hello World\"')"
      ],
      "metadata": {
        "colab": {
          "base_uri": "https://localhost:8080/"
        },
        "id": "GtxN3jqoB5P2",
        "outputId": "246dabd1-d506-4042-a1e2-b4a24dcd2fff"
      },
      "execution_count": null,
      "outputs": [
        {
          "output_type": "stream",
          "name": "stdout",
          "text": [
            "Hello World\n",
            "Hello World\n",
            "'Hello World'\n",
            "\"Hello World\"\n"
          ]
        }
      ]
    },
    {
      "cell_type": "markdown",
      "source": [
        "## String Operators\n",
        "- 문자열 연산자\n",
        "- +, * 가능"
      ],
      "metadata": {
        "id": "75YVZMlPCeQH"
      }
    },
    {
      "cell_type": "code",
      "source": [
        "str1 = \"Hello \"\n",
        "str2 = \"World \"\n",
        "print(str1 + str2)"
      ],
      "metadata": {
        "colab": {
          "base_uri": "https://localhost:8080/"
        },
        "id": "9tThe902CGUi",
        "outputId": "7d228467-e978-4246-a76d-88609dac4bee"
      },
      "execution_count": null,
      "outputs": [
        {
          "output_type": "stream",
          "name": "stdout",
          "text": [
            "Hello World \n"
          ]
        }
      ]
    },
    {
      "cell_type": "code",
      "source": [
        "greet = str1 + str2\n",
        "print(greet * 3)"
      ],
      "metadata": {
        "colab": {
          "base_uri": "https://localhost:8080/"
        },
        "id": "4RwiJ_ARC2Dm",
        "outputId": "ae001473-9deb-441d-c1cf-7275624f4c73"
      },
      "execution_count": null,
      "outputs": [
        {
          "output_type": "stream",
          "name": "stdout",
          "text": [
            "Hello World Hello World Hello World \n"
          ]
        }
      ]
    },
    {
      "cell_type": "markdown",
      "source": [
        "## 문자열 인덱싱\n",
        "- 인덱싱은 0번째부터 시작"
      ],
      "metadata": {
        "id": "T8vVxY7mht-4"
      }
    },
    {
      "cell_type": "code",
      "source": [
        "greeting = \"Hello Kaggle\"\n",
        "i = int(input(\"숫자를 입력하세요..!\"))\n",
        "print(greeting[i])"
      ],
      "metadata": {
        "colab": {
          "base_uri": "https://localhost:8080/"
        },
        "id": "iOQlW-7jh2l_",
        "outputId": "1aa020f4-27d0-4c0b-9d73-be0e44ae22d7"
      },
      "execution_count": null,
      "outputs": [
        {
          "output_type": "stream",
          "name": "stdout",
          "text": [
            "숫자를 입력하세요..!4\n",
            "o\n"
          ]
        }
      ]
    },
    {
      "cell_type": "markdown",
      "source": [
        "## 슬라이싱"
      ],
      "metadata": {
        "id": "Ezm4aTD8i8zB"
      }
    },
    {
      "cell_type": "code",
      "source": [
        "greeting = \"Hello Kaggle\"\n",
        "# print(greeting[시작인덱스:끝인덱스])\n",
        "print(greeting[0:4])\n",
        "print(greeting[2:-5])\n",
        "print(greeting[0:10:2]) #2칸 띄어가며 쓰기"
      ],
      "metadata": {
        "colab": {
          "base_uri": "https://localhost:8080/"
        },
        "id": "3zqYGbC5i_dG",
        "outputId": "b54cc3ea-76f2-4c5a-aad4-c4a397c0d986"
      },
      "execution_count": null,
      "outputs": [
        {
          "output_type": "stream",
          "name": "stdout",
          "text": [
            "Hell\n",
            "llo K\n",
            "HloKg\n"
          ]
        }
      ]
    },
    {
      "cell_type": "markdown",
      "source": [
        "- 문자열 관련 메서드\n",
        "  + split()\n",
        "  + sort()\n",
        "  + etc\n"
      ],
      "metadata": {
        "id": "OyhTyheNmAgO"
      }
    },
    {
      "cell_type": "markdown",
      "source": [
        "## 리스트\n",
        "- []로 표시\n",
        "- [item1, item2, item3]"
      ],
      "metadata": {
        "id": "YynxJ2egmQmv"
      }
    },
    {
      "cell_type": "code",
      "source": [
        "a = [] # 빈 리스트\n",
        "a_func = list() # 빈 리스트 생성\n",
        "b = [1] # 숫자 요소\n",
        "c = ['apple'] # 문자 요소\n",
        "d = [1, 2, ['apple'], 'apple']\n",
        "print(d)"
      ],
      "metadata": {
        "colab": {
          "base_uri": "https://localhost:8080/"
        },
        "id": "9j4gGIpwmfGu",
        "outputId": "1052763d-5221-4ea4-8170-94a9b33ad2c5"
      },
      "execution_count": null,
      "outputs": [
        {
          "output_type": "stream",
          "name": "stdout",
          "text": [
            "[1, 2, ['apple'], 'apple']\n"
          ]
        }
      ]
    },
    {
      "cell_type": "markdown",
      "source": [
        "### 리스트 값 수정하기\n",
        "- 리스트 값 수정"
      ],
      "metadata": {
        "id": "YhqC2VgInMCN"
      }
    },
    {
      "cell_type": "code",
      "source": [
        "a = [0, 1, 2]\n",
        "a[1] = \"random\"\n",
        "print(a)"
      ],
      "metadata": {
        "colab": {
          "base_uri": "https://localhost:8080/"
        },
        "id": "ue-IB9eanRQt",
        "outputId": "a395b8c2-a3d3-48b6-fbb6-e939e59b9e1e"
      },
      "execution_count": null,
      "outputs": [
        {
          "output_type": "stream",
          "name": "stdout",
          "text": [
            "[0, 'random', 2]\n"
          ]
        }
      ]
    },
    {
      "cell_type": "markdown",
      "source": [
        "### 리스트 값 추가하기\n",
        "- 메서드 사용"
      ],
      "metadata": {
        "id": "Eq94bj4Nnno9"
      }
    },
    {
      "cell_type": "code",
      "source": [
        "a = [100, 200, 300]\n",
        "a.append(400) # 이게 (내장) 메서드\n",
        "print(a)\n",
        "\n",
        "a.append([500, 600])\n",
        "print(a)\n",
        "\n",
        "a = [100, 200, 300]\n",
        "a.extend([400, 500]) #리스트 형태로 삽입하는 (내장) 메서드\n",
        "print(a)"
      ],
      "metadata": {
        "colab": {
          "base_uri": "https://localhost:8080/"
        },
        "id": "cQucfS-1nqlF",
        "outputId": "0c6fad36-5571-41fb-ff1a-132e1d6982b4"
      },
      "execution_count": null,
      "outputs": [
        {
          "output_type": "stream",
          "name": "stdout",
          "text": [
            "[100, 200, 300, 400]\n",
            "[100, 200, 300, 400, [500, 600]]\n",
            "[100, 200, 300, 400, 500]\n"
          ]
        }
      ]
    },
    {
      "cell_type": "markdown",
      "source": [
        "- insert(인덱스 위치, 값)\n"
      ],
      "metadata": {
        "id": "uMmEALNypCcF"
      }
    },
    {
      "cell_type": "code",
      "source": [
        "a = [100, 200, 300]\n",
        "a.insert(1,1000)\n",
        "print(a)"
      ],
      "metadata": {
        "colab": {
          "base_uri": "https://localhost:8080/"
        },
        "id": "VfFkJdPepMEt",
        "outputId": "196e0503-a63c-4c4a-ade8-ee27f5c725c9"
      },
      "execution_count": null,
      "outputs": [
        {
          "output_type": "stream",
          "name": "stdout",
          "text": [
            "[100, 1000, 200, 300]\n"
          ]
        }
      ]
    },
    {
      "cell_type": "markdown",
      "source": [
        "### 리스트 값 삭제하기\n",
        "- remove()\n",
        "- del"
      ],
      "metadata": {
        "id": "gC_UplfLpdtz"
      }
    },
    {
      "cell_type": "code",
      "source": [
        "a = [1, 2, 1, 2]\n",
        "a.remove(1) # 처음 등장하는 해당 값만 삭제\n",
        "print(a)\n",
        "\n",
        "a.remove(1)\n",
        "print(a)"
      ],
      "metadata": {
        "colab": {
          "base_uri": "https://localhost:8080/"
        },
        "id": "-U-GAsCSpidL",
        "outputId": "566bb6c8-6913-4ef2-d22c-2f7c44e1256f"
      },
      "execution_count": null,
      "outputs": [
        {
          "output_type": "stream",
          "name": "stdout",
          "text": [
            "[2, 1, 2]\n",
            "[2, 2]\n"
          ]
        }
      ]
    },
    {
      "cell_type": "markdown",
      "source": [
        "- del"
      ],
      "metadata": {
        "id": "5tIBgRu1qCkF"
      }
    },
    {
      "cell_type": "code",
      "source": [
        "a = [0, 1, 2, 3, 4]\n",
        "del a[1] # 해당 인덱스의 값만 삭제\n",
        "print(a)\n",
        "\n",
        "del a[0:2]\n",
        "print(a)"
      ],
      "metadata": {
        "colab": {
          "base_uri": "https://localhost:8080/"
        },
        "id": "R6ixl8JvqHDd",
        "outputId": "2be4c54e-4358-4644-df89-43aecb3de9e2"
      },
      "execution_count": null,
      "outputs": [
        {
          "output_type": "stream",
          "name": "stdout",
          "text": [
            "[0, 2, 3, 4]\n",
            "[3, 4]\n"
          ]
        }
      ]
    },
    {
      "cell_type": "markdown",
      "source": [
        "- pop()\n"
      ],
      "metadata": {
        "id": "3fCV8gbbuViD"
      }
    },
    {
      "cell_type": "code",
      "source": [
        "a = [1, 2, 3, 4, 5]\n",
        "rem = a.pop(1) # pop 된 값을 지우지 않고 저장해둔다.\n",
        "print(a)\n",
        "print(rem)\n",
        "\n",
        "x = a.pop() # index 값을 지정 안 해주면 제일 뒷자리의 인덱스 값으로 설정된다.\n",
        "print(a)\n",
        "print(x)"
      ],
      "metadata": {
        "colab": {
          "base_uri": "https://localhost:8080/"
        },
        "id": "VIxeUVYxua8c",
        "outputId": "b8753fdb-7570-4f03-faa3-771462172807"
      },
      "execution_count": null,
      "outputs": [
        {
          "output_type": "stream",
          "name": "stdout",
          "text": [
            "[1, 3, 4, 5]\n",
            "2\n",
            "[1, 3, 4]\n",
            "5\n"
          ]
        }
      ]
    },
    {
      "cell_type": "markdown",
      "source": [
        "- clear() : 리스트 내 모든 값 삭제\n",
        "- index(\"값\") : 값의 위치를 불러옴"
      ],
      "metadata": {
        "id": "a2EX9yb0vddL"
      }
    },
    {
      "cell_type": "code",
      "source": [
        "a = [1, 4, 5, 2, 3]\n",
        "b = [\"철수\", \"영희\", \"길동\"]\n",
        "#a.index(4)\n",
        "#b.index(\"길동\")\n",
        "print(a.index(4))\n",
        "print(b.index(\"길동\"))\n"
      ],
      "metadata": {
        "colab": {
          "base_uri": "https://localhost:8080/"
        },
        "id": "mRMq5PXPvsSZ",
        "outputId": "40f7aad3-3969-453c-c443-3f95d037c1f2"
      },
      "execution_count": null,
      "outputs": [
        {
          "output_type": "stream",
          "name": "stdout",
          "text": [
            "1\n",
            "2\n"
          ]
        }
      ]
    },
    {
      "cell_type": "markdown",
      "source": [
        "- sort : 리스트의 정렬"
      ],
      "metadata": {
        "id": "tau3_DQ-wJ_a"
      }
    },
    {
      "cell_type": "code",
      "source": [
        "a = [1, 4, 5, 2, 3]\n",
        "a.sort() #오름차순 정렬\n",
        "print(a)\n",
        "\n",
        "a.sort(reverse = True) # 반대차순으로 정렬\n",
        "print(a)\n",
        "\n",
        "# help(list.sort)\n",
        "help(list.index)"
      ],
      "metadata": {
        "colab": {
          "base_uri": "https://localhost:8080/"
        },
        "id": "19qhIDxdwMNp",
        "outputId": "a1349a67-77e4-415a-e53c-96d00d4da803"
      },
      "execution_count": null,
      "outputs": [
        {
          "output_type": "stream",
          "name": "stdout",
          "text": [
            "[1, 2, 3, 4, 5]\n",
            "[5, 4, 3, 2, 1]\n",
            "Help on method_descriptor:\n",
            "\n",
            "index(self, value, start=0, stop=9223372036854775807, /)\n",
            "    Return first index of value.\n",
            "    \n",
            "    Raises ValueError if the value is not present.\n",
            "\n"
          ]
        }
      ]
    },
    {
      "cell_type": "markdown",
      "source": [
        "## 튜플\n",
        "- 면접질문 : 리스트와 튜플의 차이가 뭐예요?\n",
        "- 리스트 : []\n",
        "  + (수정, 삭제, 추가) 가능\n",
        "-튜플 : ()\n",
        "  + (수정, 삭제 추가) 불가\n"
      ],
      "metadata": {
        "id": "oA2AxW0mx3fw"
      }
    },
    {
      "cell_type": "code",
      "source": [
        "tuple1 = (0)\n",
        "tuple2 = (0, )\n",
        "tuple3 = 0, 2, 3\n",
        "\n",
        "print(type(tuple1))\n",
        "print(type(tuple2))\n",
        "print(type(tuple3))\n",
        "\n",
        "print(tuple1)\n",
        "print(tuple2)\n",
        "print(tuple3)"
      ],
      "metadata": {
        "colab": {
          "base_uri": "https://localhost:8080/"
        },
        "id": "00AEeHVuy2Lo",
        "outputId": "e60b93e1-441a-4641-f8d2-e9bd213ac89d"
      },
      "execution_count": null,
      "outputs": [
        {
          "output_type": "stream",
          "name": "stdout",
          "text": [
            "<class 'int'>\n",
            "<class 'tuple'>\n",
            "<class 'tuple'>\n",
            "0\n",
            "(0,)\n",
            "(0, 2, 3)\n"
          ]
        }
      ]
    },
    {
      "cell_type": "code",
      "source": [
        "#a = (0, 1, 2, 3, 'a')\n",
        "#del a[4]"
      ],
      "metadata": {
        "id": "JrvjoI1vzc2A"
      },
      "execution_count": null,
      "outputs": []
    },
    {
      "cell_type": "markdown",
      "source": [
        "## 튜플 연산자(=리스트 연산자)\n",
        "- 문자열 연산자\n",
        "- +, *\n"
      ],
      "metadata": {
        "id": "KZGIz6Vh0x2n"
      }
    },
    {
      "cell_type": "code",
      "source": [
        "t1 = (0, 1, 2)\n",
        "t2 = (3, 4, 5)\n",
        "print(t1 + t2)\n",
        "print(t1*3)"
      ],
      "metadata": {
        "colab": {
          "base_uri": "https://localhost:8080/"
        },
        "id": "6YdvUv7508b5",
        "outputId": "a79c129a-c9f2-4b65-ea5d-5634064367f4"
      },
      "execution_count": null,
      "outputs": [
        {
          "output_type": "stream",
          "name": "stdout",
          "text": [
            "(0, 1, 2, 3, 4, 5)\n",
            "(0, 1, 2, 0, 1, 2, 0, 1, 2)\n"
          ]
        }
      ]
    },
    {
      "cell_type": "markdown",
      "source": [
        "## 딕셔너리\n",
        "- Key와 Value 값으로 구성되어짐\n",
        "- 슬라이싱 -> 값의 순서가 존재해야 함\n",
        "- 순서라는 개념 자체가 존재하지 않음"
      ],
      "metadata": {
        "id": "pg1TlolF1T4H"
      }
    },
    {
      "cell_type": "code",
      "source": [
        "temp_dict = {\n",
        "    'teacher' : 'evan',\n",
        "    'class' : 15,\n",
        "    'students' : ['s1', 's2', 's3']\n",
        "}\n",
        "\n",
        "print(temp_dict['teacher'])\n",
        "print(temp_dict['class'])\n",
        "print(temp_dict['students'])"
      ],
      "metadata": {
        "colab": {
          "base_uri": "https://localhost:8080/"
        },
        "id": "ZQIihNYm2Ta2",
        "outputId": "43cc8353-9643-458e-b405-c28987f70bce"
      },
      "execution_count": null,
      "outputs": [
        {
          "output_type": "stream",
          "name": "stdout",
          "text": [
            "evan\n",
            "15\n",
            "['s1', 's2', 's3']\n"
          ]
        }
      ]
    },
    {
      "cell_type": "markdown",
      "source": [
        "- keys() 값만 출력"
      ],
      "metadata": {
        "id": "KskQbPNM71Jj"
      }
    },
    {
      "cell_type": "code",
      "source": [
        "list(temp_dict.keys())"
      ],
      "metadata": {
        "colab": {
          "base_uri": "https://localhost:8080/"
        },
        "id": "HQ0utwmV73bD",
        "outputId": "e298ad35-353e-447f-95da-6b0cd54d0b88"
      },
      "execution_count": null,
      "outputs": [
        {
          "output_type": "execute_result",
          "data": {
            "text/plain": [
              "['teacher', 'class', 'students']"
            ]
          },
          "metadata": {},
          "execution_count": 220
        }
      ]
    },
    {
      "cell_type": "markdown",
      "source": [
        "- values() 값만 출력"
      ],
      "metadata": {
        "id": "0LJWvuo68W8r"
      }
    },
    {
      "cell_type": "code",
      "source": [
        "temp_dict.values()\n",
        "#list(temp_dict.values())"
      ],
      "metadata": {
        "colab": {
          "base_uri": "https://localhost:8080/"
        },
        "id": "PwtlF7Tv8Zrs",
        "outputId": "7b0212dd-41e6-45e6-f924-b02167f8e14e"
      },
      "execution_count": null,
      "outputs": [
        {
          "output_type": "execute_result",
          "data": {
            "text/plain": [
              "dict_values(['evan', 15, ['s1', 's2', 's3']])"
            ]
          },
          "metadata": {},
          "execution_count": 221
        }
      ]
    },
    {
      "cell_type": "markdown",
      "source": [
        "- items() key-value 값 출력"
      ],
      "metadata": {
        "id": "fHac3kJ58o9z"
      }
    },
    {
      "cell_type": "code",
      "source": [
        "temp_dict.items()"
      ],
      "metadata": {
        "colab": {
          "base_uri": "https://localhost:8080/"
        },
        "id": "kkuCdXz_8zlU",
        "outputId": "92d4e607-0c75-409f-cbe1-99f6948b844b"
      },
      "execution_count": null,
      "outputs": [
        {
          "output_type": "execute_result",
          "data": {
            "text/plain": [
              "dict_items([('teacher', 'evan'), ('class', 15), ('students', ['s1', 's2', 's3'])])"
            ]
          },
          "metadata": {},
          "execution_count": 222
        }
      ]
    },
    {
      "cell_type": "markdown",
      "source": [
        "## 조건문"
      ],
      "metadata": {
        "id": "Tqwds1_v9G5b"
      }
    },
    {
      "cell_type": "code",
      "source": [
        "a = int(input(\"숫자를 입력하세요..!\"))\n",
        "\n",
        "if a > 5:\n",
        "  print(\"a 는 5보다 크다\")\n",
        "elif a > 0:\n",
        "  print(\"a 는 0보다 크다\")\n",
        "elif a > -5:\n",
        "  print(\"a는 -5보다 크다\")\n",
        "else:\n",
        "  print(\"a는 매우 작다\")"
      ],
      "metadata": {
        "colab": {
          "base_uri": "https://localhost:8080/"
        },
        "id": "HsSOD0lw9Iz8",
        "outputId": "ed7cdd9a-135b-4b09-ae2e-2529215a99cd"
      },
      "execution_count": null,
      "outputs": [
        {
          "output_type": "stream",
          "name": "stdout",
          "text": [
            "숫자를 입력하세요..!10\n",
            "a 는 5보다 크다\n"
          ]
        }
      ]
    },
    {
      "cell_type": "markdown",
      "source": [
        "## 반복문"
      ],
      "metadata": {
        "id": "OnogyXnN_NLk"
      }
    },
    {
      "cell_type": "code",
      "source": [
        "\n",
        "# Hello World 10번 출력하세요\n",
        "print(\"Hello World\")\n",
        "\n",
        "greet = \"Hello World\"\n",
        "print(greet*10)\n",
        "\n",
        "for idx in range(3):\n",
        "  print(idx+1, \"Hello World\")"
      ],
      "metadata": {
        "colab": {
          "base_uri": "https://localhost:8080/"
        },
        "id": "PFPZFYr2_5I5",
        "outputId": "8467956d-0dde-44dd-8277-0e5f6442ba8c"
      },
      "execution_count": null,
      "outputs": [
        {
          "output_type": "stream",
          "name": "stdout",
          "text": [
            "Hello World\n",
            "Hello WorldHello WorldHello WorldHello WorldHello WorldHello WorldHello WorldHello WorldHello WorldHello World\n",
            "1 Hello World\n",
            "2 Hello World\n",
            "3 Hello World\n"
          ]
        }
      ]
    },
    {
      "cell_type": "markdown",
      "source": [
        "- for loop if 조건문 사용\n",
        "- 문자열, 리스트 등 -> 시퀀스 데이터 -> 반복문 사용 가능"
      ],
      "metadata": {
        "id": "-qHlwRIDCwGp"
      }
    },
    {
      "cell_type": "code",
      "source": [
        "a = \"Kaggle\"\n",
        "# g가 시작하면 반복문을 멈추세요\n",
        "for x in a:\n",
        "  print(x)\n",
        "  if x == 'g' :\n",
        "    break"
      ],
      "metadata": {
        "colab": {
          "base_uri": "https://localhost:8080/"
        },
        "id": "6WzX25IeC4ug",
        "outputId": "3581b90c-a3d8-4192-ec9d-6d92851d3d68"
      },
      "execution_count": null,
      "outputs": [
        {
          "output_type": "stream",
          "name": "stdout",
          "text": [
            "K\n",
            "a\n",
            "g\n"
          ]
        }
      ]
    },
    {
      "cell_type": "markdown",
      "source": [
        "- enumerate()"
      ],
      "metadata": {
        "id": "Oz9FKsRNEYsI"
      }
    },
    {
      "cell_type": "code",
      "source": [
        "alphabets = ['A', 'B', 'C']\n",
        "for index, value in enumerate(alphabets):\n",
        "  print(index, value)"
      ],
      "metadata": {
        "colab": {
          "base_uri": "https://localhost:8080/"
        },
        "id": "MfD3zsHQEftg",
        "outputId": "2fb8e503-37e8-4357-9d45-69b6140f19f6"
      },
      "execution_count": null,
      "outputs": [
        {
          "output_type": "stream",
          "name": "stdout",
          "text": [
            "0 A\n",
            "1 B\n",
            "2 C\n"
          ]
        }
      ]
    },
    {
      "cell_type": "markdown",
      "source": [
        "## list comprehension (반복문을 한줄로 표시)"
      ],
      "metadata": {
        "id": "YS-BWNltFJTI"
      }
    },
    {
      "cell_type": "code",
      "source": [
        "\"a\" in \"apple\""
      ],
      "metadata": {
        "colab": {
          "base_uri": "https://localhost:8080/"
        },
        "id": "8PHeSz1LGDsA",
        "outputId": "7c88da13-dcf7-4816-c3fe-9e832d2fd58a"
      },
      "execution_count": null,
      "outputs": [
        {
          "output_type": "execute_result",
          "data": {
            "text/plain": [
              "True"
            ]
          },
          "metadata": {},
          "execution_count": 227
        }
      ]
    },
    {
      "cell_type": "code",
      "source": [
        "fruits = ['apple', 'kiwi', 'mango']\n",
        "newlists = []\n",
        "\n",
        "# 알파벳 a가 있는 과일만 추출 후, 새로운 리스트에 담기\n",
        "for fruit in fruits:\n",
        "  print(fruit)\n",
        "  if \"a\" in fruit:\n",
        "    newlists.append(fruit)\n",
        "    print(newlists)"
      ],
      "metadata": {
        "colab": {
          "base_uri": "https://localhost:8080/"
        },
        "id": "Y25lXr-6FhUX",
        "outputId": "5c90d3b3-be67-427c-9d2e-ef2422f69145"
      },
      "execution_count": null,
      "outputs": [
        {
          "output_type": "stream",
          "name": "stdout",
          "text": [
            "apple\n",
            "['apple']\n",
            "kiwi\n",
            "mango\n",
            "['apple', 'mango']\n"
          ]
        }
      ]
    },
    {
      "cell_type": "code",
      "source": [
        "newlist = [fruit for fruit in fruits if \"a\" in fruit]\n",
        "print(newlist)"
      ],
      "metadata": {
        "colab": {
          "base_uri": "https://localhost:8080/"
        },
        "id": "6P86ZCHjGNvA",
        "outputId": "f2ef23fe-45b2-43b6-b9c9-aa1f074ea184"
      },
      "execution_count": null,
      "outputs": [
        {
          "output_type": "stream",
          "name": "stdout",
          "text": [
            "['apple', 'mango']\n"
          ]
        }
      ]
    }
  ]
}