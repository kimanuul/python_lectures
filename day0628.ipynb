{
  "nbformat": 4,
  "nbformat_minor": 0,
  "metadata": {
    "colab": {
      "name": "day0628.ipynb",
      "provenance": [],
      "collapsed_sections": [],
      "authorship_tag": "ABX9TyNq9c4DBdmtojmX2mRnHHDd",
      "include_colab_link": true
    },
    "kernelspec": {
      "name": "python3",
      "display_name": "Python 3"
    },
    "language_info": {
      "name": "python"
    }
  },
  "cells": [
    {
      "cell_type": "markdown",
      "metadata": {
        "id": "view-in-github",
        "colab_type": "text"
      },
      "source": [
        "<a href=\"https://colab.research.google.com/github/kimanuul/python_lectures/blob/main/day0628.ipynb\" target=\"_parent\"><img src=\"https://colab.research.google.com/assets/colab-badge.svg\" alt=\"Open In Colab\"/></a>"
      ]
    },
    {
      "cell_type": "markdown",
      "source": [
        "---\n",
        "title: \"Python 기초함수\"\n",
        "date: '2022-06-28'\n",
        "---"
      ],
      "metadata": {
        "id": "JA9_OAcjQbbS"
      }
    },
    {
      "cell_type": "markdown",
      "source": [
        "## 반복문 복습\n",
        "- for loop and while loop"
      ],
      "metadata": {
        "id": "79Yr0ssNpxH6"
      }
    },
    {
      "cell_type": "code",
      "source": [
        "for i in range(3):\n",
        "  print(\"Hello World\")\n",
        "  print(\"안녕하세요\")"
      ],
      "metadata": {
        "colab": {
          "base_uri": "https://localhost:8080/"
        },
        "id": "KaL5G32zp1D5",
        "outputId": "ec49c994-9140-4630-fddb-4e5bc9a969ba"
      },
      "execution_count": null,
      "outputs": [
        {
          "output_type": "stream",
          "name": "stdout",
          "text": [
            "Hello World\n",
            "안녕하세요\n",
            "Hello World\n",
            "안녕하세요\n",
            "Hello World\n",
            "안녕하세요\n"
          ]
        }
      ]
    },
    {
      "cell_type": "code",
      "source": [
        "\"K\" in \"Kaggle\"\n",
        "if \"K\" == \"a\":\n",
        "  print(\"출력이 되나요?\")\n",
        "else:\n",
        "  a = \"Kaggle\"\n",
        "\n",
        "for i in range(1000):\n",
        "  print(\"No.\",i+1)\n",
        "  if i == 10:\n",
        "    break\n",
        "  print(\"Hello World\")\n",
        "  print(\"안녕하세요\")"
      ],
      "metadata": {
        "colab": {
          "base_uri": "https://localhost:8080/"
        },
        "id": "CiabjRzCqO8y",
        "outputId": "bc8cc758-5433-4769-e024-f2b28ac6829d"
      },
      "execution_count": null,
      "outputs": [
        {
          "output_type": "stream",
          "name": "stdout",
          "text": [
            "No. 1\n",
            "Hello World\n",
            "안녕하세요\n",
            "No. 2\n",
            "Hello World\n",
            "안녕하세요\n",
            "No. 3\n",
            "Hello World\n",
            "안녕하세요\n",
            "No. 4\n",
            "Hello World\n",
            "안녕하세요\n",
            "No. 5\n",
            "Hello World\n",
            "안녕하세요\n",
            "No. 6\n",
            "Hello World\n",
            "안녕하세요\n",
            "No. 7\n",
            "Hello World\n",
            "안녕하세요\n",
            "No. 8\n",
            "Hello World\n",
            "안녕하세요\n",
            "No. 9\n",
            "Hello World\n",
            "안녕하세요\n",
            "No. 10\n",
            "Hello World\n",
            "안녕하세요\n",
            "No. 11\n"
          ]
        }
      ]
    },
    {
      "cell_type": "code",
      "source": [
        "a = \"Kaggle\"\n",
        "\n",
        "for i in range(1000):\n",
        "  print(\"No.\",i+1)\n",
        "  if i == 10:\n",
        "    break\n",
        "  "
      ],
      "metadata": {
        "colab": {
          "base_uri": "https://localhost:8080/"
        },
        "id": "rP5t7JXsr0aS",
        "outputId": "f092ba51-d2bb-49d3-defc-14ae9f630e03"
      },
      "execution_count": null,
      "outputs": [
        {
          "output_type": "stream",
          "name": "stdout",
          "text": [
            "No. 1\n",
            "No. 2\n",
            "No. 3\n",
            "No. 4\n",
            "No. 5\n",
            "No. 6\n",
            "No. 7\n",
            "No. 8\n",
            "No. 9\n",
            "No. 10\n",
            "No. 11\n"
          ]
        }
      ]
    },
    {
      "cell_type": "code",
      "source": [
        "numbers = [1, 2, 3, 4, 5]\n",
        "sum = 0\n",
        "\n",
        "for num in numbers:\n",
        "  # print(\"numbers: \", num)\n",
        "  sum = sum + num\n",
        "  # print(\"total: \", sum)\n",
        "  print(\"---최종 결과값---\")\n",
        "  print(sum)"
      ],
      "metadata": {
        "colab": {
          "base_uri": "https://localhost:8080/"
        },
        "id": "OIRoVYljr_wB",
        "outputId": "c466ae87-7aa0-42d6-9dcc-9afdc822d2f7"
      },
      "execution_count": null,
      "outputs": [
        {
          "output_type": "stream",
          "name": "stdout",
          "text": [
            "---최종 결과값---\n",
            "1\n",
            "---최종 결과값---\n",
            "3\n",
            "---최종 결과값---\n",
            "6\n",
            "---최종 결과값---\n",
            "10\n",
            "---최종 결과값---\n",
            "15\n"
          ]
        }
      ]
    },
    {
      "cell_type": "code",
      "source": [
        "fruits = ['apple', 'kiwi', 'mango']\n",
        "newlist = []\n",
        "\n",
        "# apple : a가 있나요? 있네요. newlist에 추가하세요.\n",
        "# kiwi : a가 있나요? 없네요. 그럼 넘어가요\n",
        "# mango : a가 있나요? 있네요. newlist에 추가하세요.\n",
        "for fruit in fruits:\n",
        "   print(\"조건문 밖 : \", fruit)\n",
        "   if \"a\" in fruit:\n",
        "    print(\"조건문 안쪽 : \", fruit)\n",
        "    newlist.append(fruit)\n",
        "\n",
        "print(newlist)"
      ],
      "metadata": {
        "colab": {
          "base_uri": "https://localhost:8080/"
        },
        "id": "LLhwThAwtQ-p",
        "outputId": "73413c84-e054-4de8-8068-f051e0ab3a18"
      },
      "execution_count": null,
      "outputs": [
        {
          "output_type": "stream",
          "name": "stdout",
          "text": [
            "조건문 밖 :  apple\n",
            "조건문 안쪽 :  apple\n",
            "조건문 밖 :  kiwi\n",
            "조건문 밖 :  mango\n",
            "조건문 안쪽 :  mango\n",
            "['apple', 'mango']\n"
          ]
        }
      ]
    },
    {
      "cell_type": "markdown",
      "source": [
        "## While Loop\n",
        "while문 : 분석할 때 쓰일 일은 없음, 주로 개발(알고리즘)할 때 많이 씀"
      ],
      "metadata": {
        "id": "la4rZmvVvI8I"
      }
    },
    {
      "cell_type": "code",
      "source": [
        "\n",
        "i = 1\n",
        "while i < 10: # 참일 때만 반복문 코드가 돎\n",
        "  # 코드\n",
        "  print(i)\n",
        "  i += 1 # 1씩 증감\n",
        "  # i -= 1 # 1씩 감소"
      ],
      "metadata": {
        "colab": {
          "base_uri": "https://localhost:8080/"
        },
        "id": "yv92jDpXvUsn",
        "outputId": "3c3ade77-5c05-4eb2-cf7a-d4b85bb9f7a0"
      },
      "execution_count": null,
      "outputs": [
        {
          "output_type": "stream",
          "name": "stdout",
          "text": [
            "1\n",
            "2\n",
            "3\n",
            "4\n",
            "5\n",
            "6\n",
            "7\n",
            "8\n",
            "9\n"
          ]
        }
      ]
    },
    {
      "cell_type": "markdown",
      "source": [
        "## 사용자 정의 함수\n",
        "- 내가 필요에 의해 직접 함수를 작성"
      ],
      "metadata": {
        "id": "ON15UfFmxVn3"
      }
    },
    {
      "cell_type": "code",
      "source": [
        "def 함수명(param1, param2):\n",
        "  # 코드\n",
        "  return None"
      ],
      "metadata": {
        "id": "ye3TjDPKxd5f"
      },
      "execution_count": null,
      "outputs": []
    },
    {
      "cell_type": "code",
      "source": [
        "def add(a = 0, b = 1):\n",
        "    return a + b\n",
        "\n",
        "print(add(a = 5, b = 4))\n"
      ],
      "metadata": {
        "colab": {
          "base_uri": "https://localhost:8080/"
        },
        "id": "-RCV7--Ixl5t",
        "outputId": "3fcacaaf-34f5-4ba2-ce6e-14b5ee9fcb74"
      },
      "execution_count": null,
      "outputs": [
        {
          "output_type": "stream",
          "name": "stdout",
          "text": [
            "9\n"
          ]
        }
      ]
    },
    {
      "cell_type": "markdown",
      "source": [
        "- 사칙연산 사용자 정의 함수 만들기\n",
        "- 함수 문서화\n",
        "  + 키워드 : Docstring"
      ],
      "metadata": {
        "id": "Zf28WsPE06yO"
      }
    },
    {
      "cell_type": "code",
      "source": [
        "def add(a = 0, b = 0):\n",
        "  return a + b\n",
        "  \n",
        "print(add(a = 3, b = 3 ))"
      ],
      "metadata": {
        "colab": {
          "base_uri": "https://localhost:8080/"
        },
        "id": "vAqPforI0_wt",
        "outputId": "eac33689-9652-4051-c4c9-983db80e6037"
      },
      "execution_count": null,
      "outputs": [
        {
          "output_type": "stream",
          "name": "stdout",
          "text": [
            "6\n"
          ]
        }
      ]
    },
    {
      "cell_type": "code",
      "source": [
        "def sub(a = 0, b = 0):\n",
        "  return a - b\n",
        "  \n",
        "print(sub(a = 3, b = 3 ))"
      ],
      "metadata": {
        "colab": {
          "base_uri": "https://localhost:8080/"
        },
        "id": "y5lKXKv_2SCd",
        "outputId": "c631bca0-7030-47ba-d8f7-12f4cb215b4e"
      },
      "execution_count": null,
      "outputs": [
        {
          "output_type": "stream",
          "name": "stdout",
          "text": [
            "0\n"
          ]
        }
      ]
    },
    {
      "cell_type": "code",
      "source": [
        "def mul(a = 0, b = 0):\n",
        "  return a*b\n",
        "  \n",
        "print(mul(a = 3, b = 3 ))"
      ],
      "metadata": {
        "colab": {
          "base_uri": "https://localhost:8080/"
        },
        "id": "ovy47ZZj2hnF",
        "outputId": "5eb0841f-6d59-427f-d3a5-78f9bb8dadf1"
      },
      "execution_count": null,
      "outputs": [
        {
          "output_type": "stream",
          "name": "stdout",
          "text": [
            "9\n"
          ]
        }
      ]
    },
    {
      "cell_type": "code",
      "source": [
        "def div(a = 1, b = 1):\n",
        "  return a/b\n",
        "  \n",
        "print(div(a = 3, b = 3 ))"
      ],
      "metadata": {
        "colab": {
          "base_uri": "https://localhost:8080/"
        },
        "id": "xTWpfJvp2qYM",
        "outputId": "fd3e682d-7b0e-4962-a6d6-7717b479b858"
      },
      "execution_count": null,
      "outputs": [
        {
          "output_type": "stream",
          "name": "stdout",
          "text": [
            "1.0\n"
          ]
        }
      ]
    },
    {
      "cell_type": "code",
      "source": [
        "def add(a = 0, b = 0):\n",
        "  return a + b\n",
        "\n",
        "a = int(input(\"숫자1을 입력하세요..!\"))\n",
        "b = int(input(\"숫자2를 입력하세요..!\"))\n",
        "\n",
        "print(add(a, b))"
      ],
      "metadata": {
        "colab": {
          "base_uri": "https://localhost:8080/"
        },
        "id": "_DuJZiZF4LCU",
        "outputId": "ed321cab-e2ec-48a8-efdf-0a27fc196fa8"
      },
      "execution_count": null,
      "outputs": [
        {
          "output_type": "stream",
          "name": "stdout",
          "text": [
            "숫자1을 입력하세요..!3\n",
            "숫자2를 입력하세요..!3\n",
            "6\n"
          ]
        }
      ]
    },
    {
      "cell_type": "code",
      "source": [
        "def subtract(a, b):\n",
        "\n",
        "  \"\"\"a, b를 빼는 함수\n",
        "  Parameters:\n",
        "  a(int): int형 숫자 a가 입력\n",
        "  b(int): int형 숫자 b가 입력\n",
        "\n",
        "  Returns:\n",
        "    int : 반환값\n",
        "  \"\"\"\n",
        "  return a - b\n",
        "\n",
        "print(subtract(a = 5, b = 10))\n",
        "print(subtract.__doc__)"
      ],
      "metadata": {
        "colab": {
          "base_uri": "https://localhost:8080/"
        },
        "id": "i9kdQOJ-75Ib",
        "outputId": "74c5752b-9aaf-4ac5-e3d7-5ec80a9a2d41"
      },
      "execution_count": null,
      "outputs": [
        {
          "output_type": "stream",
          "name": "stdout",
          "text": [
            "-5\n",
            "a, b를 빼는 함수\n",
            "  Parameters:\n",
            "  a(int): int형 숫자 a가 입력\n",
            "  b(int): int형 숫자 b가 입력\n",
            "\n",
            "  Returns:\n",
            "    int : 반환값\n",
            "  \n"
          ]
        }
      ]
    },
    {
      "cell_type": "markdown",
      "source": [
        "## NumPy\n",
        "- 두 개의 리스트(덧셈, 곱셈만 가능)를 행렬로 변환하여 나눌 수 있게 해줌\n",
        "- 외장 모듈(내장 모듈, 라이브러리, 패키지가 아님, 별도 라이브러리 설치 필요)"
      ],
      "metadata": {
        "id": "_4bZTy6b9VOK"
      }
    },
    {
      "cell_type": "code",
      "source": [
        "import numpy as np # np -> numpy\n",
        "print(np.__version__)"
      ],
      "metadata": {
        "colab": {
          "base_uri": "https://localhost:8080/"
        },
        "id": "HBaRvrFAD5tH",
        "outputId": "07534c0e-dd1c-4bb3-d0ba-5e21f7693595"
      },
      "execution_count": null,
      "outputs": [
        {
          "output_type": "stream",
          "name": "stdout",
          "text": [
            "1.21.6\n"
          ]
        }
      ]
    },
    {
      "cell_type": "code",
      "source": [
        "temp = [1, 2, 3]\n",
        "temp_array = np.array(temp) # 리스트에서 배열로 변환\n",
        "\n",
        "print(type(temp))\n",
        "print(type(temp_array))"
      ],
      "metadata": {
        "colab": {
          "base_uri": "https://localhost:8080/"
        },
        "id": "o7sg4yWyEOyH",
        "outputId": "70b94367-4ba0-4922-a6b0-1df52534417a"
      },
      "execution_count": null,
      "outputs": [
        {
          "output_type": "stream",
          "name": "stdout",
          "text": [
            "<class 'list'>\n",
            "<class 'numpy.ndarray'>\n"
          ]
        }
      ]
    },
    {
      "cell_type": "markdown",
      "source": [
        "## 사칙연"
      ],
      "metadata": {
        "id": "iPiglLCeEfwv"
      }
    },
    {
      "cell_type": "code",
      "source": [
        "math_score = [90, 80, 100, 60]\n",
        "eng_score = [80, 90, 100, 50]\n",
        "\n",
        "# math_score + eng_score\n",
        "\n",
        "math_array = np.array(math_score)\n",
        "eng_array = np.array(eng_score)\n",
        "\n",
        "total = math_array + eng_array\n",
        "print(total)\n",
        "print(type(total))"
      ],
      "metadata": {
        "colab": {
          "base_uri": "https://localhost:8080/"
        },
        "id": "9e6RY-OOEiCZ",
        "outputId": "e136a316-4174-4bc7-eacd-8b993deb2b3c"
      },
      "execution_count": null,
      "outputs": [
        {
          "output_type": "stream",
          "name": "stdout",
          "text": [
            "[170 170 200 110]\n",
            "<class 'numpy.ndarray'>\n"
          ]
        }
      ]
    },
    {
      "cell_type": "markdown",
      "source": [
        "## 집계함수"
      ],
      "metadata": {
        "id": "92F0Z1JcFck3"
      }
    },
    {
      "cell_type": "code",
      "source": [
        "print(np.min(total))\n",
        "print(np.max(total))\n",
        "print(np.sum(total))"
      ],
      "metadata": {
        "colab": {
          "base_uri": "https://localhost:8080/"
        },
        "id": "2HJB0kkKFd5W",
        "outputId": "1012c6fd-7d23-422e-ca65-9700f54d65a8"
      },
      "execution_count": null,
      "outputs": [
        {
          "output_type": "stream",
          "name": "stdout",
          "text": [
            "110\n",
            "200\n",
            "650\n"
          ]
        }
      ]
    },
    {
      "cell_type": "markdown",
      "source": [
        "## 차원 확인\n",
        "- 배열의 차원 확인 필요"
      ],
      "metadata": {
        "id": "bMCSCDw9F1en"
      }
    },
    {
      "cell_type": "code",
      "source": [
        "# 1차원 배열 생성\n",
        "temp_arr = np.array([1, 2, 3])\n",
        "print(temp_arr.shape)\n",
        "print(temp_arr.ndim) # 차원을 확인하는 함수\n",
        "print(temp_arr)"
      ],
      "metadata": {
        "colab": {
          "base_uri": "https://localhost:8080/"
        },
        "id": "9dteooqDF8XW",
        "outputId": "212a57a7-9a53-4c5b-ee27-cc5512fc756b"
      },
      "execution_count": null,
      "outputs": [
        {
          "output_type": "stream",
          "name": "stdout",
          "text": [
            "(3,)\n",
            "1\n",
            "[1 2 3]\n"
          ]
        }
      ]
    },
    {
      "cell_type": "code",
      "source": [
        "# 2차원 배열 생성\n",
        "temp_arr = np.array([[1, 2, 3], [4, 5, 6]])\n",
        "print(temp_arr.shape)\n",
        "print(temp_arr.ndim)\n",
        "print(temp_arr)"
      ],
      "metadata": {
        "colab": {
          "base_uri": "https://localhost:8080/"
        },
        "id": "t10T2gsxGVpO",
        "outputId": "103d3884-0354-43b6-a995-650241f5c3d8"
      },
      "execution_count": null,
      "outputs": [
        {
          "output_type": "stream",
          "name": "stdout",
          "text": [
            "(2, 3)\n",
            "2\n",
            "[[1 2 3]\n",
            " [4 5 6]]\n"
          ]
        }
      ]
    },
    {
      "cell_type": "code",
      "source": [
        "## 3차원 배열 -> 이미지\n",
        "temp_arr = np.array([[[1, 2, 3], [4, 5, 6]], [[7, 8, 9], [10, 11, 12]]])\n",
        "print(temp_arr.shape)\n",
        "print(temp_arr.ndim)\n",
        "print(temp_arr)"
      ],
      "metadata": {
        "colab": {
          "base_uri": "https://localhost:8080/"
        },
        "id": "Bmy9d0UhHOve",
        "outputId": "e6b8e203-8300-41c1-f61a-bfc682422a1c"
      },
      "execution_count": null,
      "outputs": [
        {
          "output_type": "stream",
          "name": "stdout",
          "text": [
            "(2, 2, 3)\n",
            "3\n",
            "[[[ 1  2  3]\n",
            "  [ 4  5  6]]\n",
            "\n",
            " [[ 7  8  9]\n",
            "  [10 11 12]]]\n"
          ]
        }
      ]
    },
    {
      "cell_type": "markdown",
      "source": [
        "## 배열 생성의 다양한 방법들\n",
        "- 모두 0으로 채운다."
      ],
      "metadata": {
        "id": "XNAtAhtvsBFI"
      }
    },
    {
      "cell_type": "code",
      "source": [
        "import numpy as np\n",
        "print(np.__version__)  # 버젼 체크는 필수"
      ],
      "metadata": {
        "colab": {
          "base_uri": "https://localhost:8080/"
        },
        "id": "6nflgc45sEVA",
        "outputId": "47b23798-943a-49ba-f7c1-66fd2562316a"
      },
      "execution_count": null,
      "outputs": [
        {
          "output_type": "stream",
          "name": "stdout",
          "text": [
            "1.21.6\n"
          ]
        }
      ]
    },
    {
      "cell_type": "code",
      "source": [
        "temp_arr = np.zeros((3, 3, 3)) # 3*3*3 행렬 생성\n",
        "temp_arr"
      ],
      "metadata": {
        "colab": {
          "base_uri": "https://localhost:8080/"
        },
        "id": "KY5zOnZbsU0_",
        "outputId": "506aca5e-bdab-43b6-ebb1-874b1868d76a"
      },
      "execution_count": null,
      "outputs": [
        {
          "output_type": "execute_result",
          "data": {
            "text/plain": [
              "array([[[0., 0., 0.],\n",
              "        [0., 0., 0.],\n",
              "        [0., 0., 0.]],\n",
              "\n",
              "       [[0., 0., 0.],\n",
              "        [0., 0., 0.],\n",
              "        [0., 0., 0.]],\n",
              "\n",
              "       [[0., 0., 0.],\n",
              "        [0., 0., 0.],\n",
              "        [0., 0., 0.]]])"
            ]
          },
          "metadata": {},
          "execution_count": 29
        }
      ]
    },
    {
      "cell_type": "markdown",
      "source": [
        "- 모두 1로 채운다"
      ],
      "metadata": {
        "id": "IUE5tVFxsoT_"
      }
    },
    {
      "cell_type": "code",
      "source": [
        "temp_arr = np.ones((2, 3))\n",
        "temp_arr"
      ],
      "metadata": {
        "colab": {
          "base_uri": "https://localhost:8080/"
        },
        "id": "TVwbe102sqNP",
        "outputId": "9e8264b1-c3ae-443e-8202-7f93a231b2ca"
      },
      "execution_count": null,
      "outputs": [
        {
          "output_type": "execute_result",
          "data": {
            "text/plain": [
              "array([[1., 1., 1.],\n",
              "       [1., 1., 1.]])"
            ]
          },
          "metadata": {},
          "execution_count": 30
        }
      ]
    },
    {
      "cell_type": "markdown",
      "source": [
        "- 임의의 상수값으로 채운다."
      ],
      "metadata": {
        "id": "SC76eP8lszRO"
      }
    },
    {
      "cell_type": "code",
      "source": [
        "temp_arr = np.full((3, 3,), 5)\n",
        "temp_arr"
      ],
      "metadata": {
        "colab": {
          "base_uri": "https://localhost:8080/"
        },
        "id": "9RHrQzm9s0wO",
        "outputId": "b3f3e3e9-0e08-42c4-d45d-de8fc73dfde9"
      },
      "execution_count": null,
      "outputs": [
        {
          "output_type": "execute_result",
          "data": {
            "text/plain": [
              "array([[5, 5, 5],\n",
              "       [5, 5, 5],\n",
              "       [5, 5, 5]])"
            ]
          },
          "metadata": {},
          "execution_count": 31
        }
      ]
    },
    {
      "cell_type": "markdown",
      "source": [
        "- 최소, 최대 숫자의 범위를 정해두고 각 구간별로 값을 생성"
      ],
      "metadata": {
        "id": "eLvkclUntaIQ"
      }
    },
    {
      "cell_type": "code",
      "source": [
        "temp_arr = np.linspace(5, 10, 10) # 5에서 10 사이의 값 10개 \n",
        "temp_arr"
      ],
      "metadata": {
        "colab": {
          "base_uri": "https://localhost:8080/"
        },
        "id": "B4XRrVeztc-f",
        "outputId": "98995e66-a6cf-4bdc-d53a-1b5ab0a31c7e"
      },
      "execution_count": null,
      "outputs": [
        {
          "output_type": "execute_result",
          "data": {
            "text/plain": [
              "array([ 5.        ,  5.55555556,  6.11111111,  6.66666667,  7.22222222,\n",
              "        7.77777778,  8.33333333,  8.88888889,  9.44444444, 10.        ])"
            ]
          },
          "metadata": {},
          "execution_count": 32
        }
      ]
    },
    {
      "cell_type": "markdown",
      "source": [
        "- 반복문 시 자주 등장하는 배열 "
      ],
      "metadata": {
        "id": "silf2ivvtuZn"
      }
    },
    {
      "cell_type": "code",
      "source": [
        "temp_arr = np.arange(1, 11, 1)\n",
        "temp_arr"
      ],
      "metadata": {
        "colab": {
          "base_uri": "https://localhost:8080/"
        },
        "id": "uvSi59m0twVG",
        "outputId": "280b324d-49a7-4e4b-84e8-8b71d1705faf"
      },
      "execution_count": null,
      "outputs": [
        {
          "output_type": "execute_result",
          "data": {
            "text/plain": [
              "array([ 1,  2,  3,  4,  5,  6,  7,  8,  9, 10])"
            ]
          },
          "metadata": {},
          "execution_count": 33
        }
      ]
    },
    {
      "cell_type": "markdown",
      "source": [
        "# 난수 생성\n",
        "- 아래 둘은 같은 의미의 코드이다."
      ],
      "metadata": {
        "id": "Ti-k-zg5uE6G"
      }
    },
    {
      "cell_type": "code",
      "source": [
        "\n",
        "\n",
        "from numpy import random\n",
        "x = random.rand()\n",
        "print(x)"
      ],
      "metadata": {
        "colab": {
          "base_uri": "https://localhost:8080/"
        },
        "id": "AM0gdAUzuDqP",
        "outputId": "f5385251-a9da-465d-b037-365453c1abe5"
      },
      "execution_count": null,
      "outputs": [
        {
          "output_type": "stream",
          "name": "stdout",
          "text": [
            "0.19907248814642187\n"
          ]
        }
      ]
    },
    {
      "cell_type": "code",
      "source": [
        "import numpy\n",
        "x = numpy.random.rand()\n",
        "print(x)"
      ],
      "metadata": {
        "colab": {
          "base_uri": "https://localhost:8080/"
        },
        "id": "4V4i_UBUusG-",
        "outputId": "29dd4a04-04f9-4acf-ae8e-d6199537cdd5"
      },
      "execution_count": null,
      "outputs": [
        {
          "output_type": "stream",
          "name": "stdout",
          "text": [
            "0.5194615370225919\n"
          ]
        }
      ]
    },
    {
      "cell_type": "markdown",
      "source": [
        "- 랜덤 정수값 추출"
      ],
      "metadata": {
        "id": "RG-auBvOvKuu"
      }
    },
    {
      "cell_type": "code",
      "source": [
        "from numpy import random\n",
        "x = random.randint(100, size = (5))\n",
        "print(x)\n",
        "print(type(x))"
      ],
      "metadata": {
        "colab": {
          "base_uri": "https://localhost:8080/"
        },
        "id": "hqJCbugAvQyW",
        "outputId": "5698fb45-df38-4fb0-8dd6-0c06790c0489"
      },
      "execution_count": null,
      "outputs": [
        {
          "output_type": "stream",
          "name": "stdout",
          "text": [
            "[79  0 23 92 48]\n",
            "<class 'numpy.ndarray'>\n"
          ]
        }
      ]
    },
    {
      "cell_type": "code",
      "source": [
        "import numpy\n",
        "x = numpy.random.randint(100, size = (5))\n",
        "print(x)\n",
        "print(type(x))"
      ],
      "metadata": {
        "colab": {
          "base_uri": "https://localhost:8080/"
        },
        "id": "KCU4FK_9vPhu",
        "outputId": "08ecd18d-eb4b-4c12-d4ed-cdcaca404dc7"
      },
      "execution_count": null,
      "outputs": [
        {
          "output_type": "stream",
          "name": "stdout",
          "text": [
            "[20 38 60 53 17]\n",
            "<class 'numpy.ndarray'>\n"
          ]
        }
      ]
    },
    {
      "cell_type": "markdown",
      "source": [
        "# 랜덤 배열, 실수값 추출"
      ],
      "metadata": {
        "id": "R_2EkrZLvwCm"
      }
    },
    {
      "cell_type": "code",
      "source": [
        "from numpy import random\n",
        "x = random.rand(2, 5)\n",
        "print(x)\n",
        "print(type(x))"
      ],
      "metadata": {
        "colab": {
          "base_uri": "https://localhost:8080/"
        },
        "id": "h8ezGdnrvx8W",
        "outputId": "51b7836d-2745-4d61-849c-265550a835ca"
      },
      "execution_count": null,
      "outputs": [
        {
          "output_type": "stream",
          "name": "stdout",
          "text": [
            "[[0.9565263  0.54837567 0.96867699 0.48435514 0.87312763]\n",
            " [0.44631944 0.56557746 0.93989491 0.22650144 0.96368522]]\n",
            "<class 'numpy.ndarray'>\n"
          ]
        }
      ]
    },
    {
      "cell_type": "markdown",
      "source": [
        "# Numpy 사칙연산"
      ],
      "metadata": {
        "id": "VJMQp0ASwOdG"
      }
    },
    {
      "cell_type": "code",
      "source": [
        "import numpy as np\n",
        "array_01 = np.array([1, 2, 3])\n",
        "array_02 = np.array([10, 20, 30])"
      ],
      "metadata": {
        "id": "sdW0Qj6jwQc9"
      },
      "execution_count": null,
      "outputs": []
    },
    {
      "cell_type": "code",
      "source": [
        "# 덧셈\n",
        "newArr = np.add(array_01, array_02)\n",
        "print(newArr)\n",
        "\n",
        "# 뺄셈\n",
        "newArr = np.subtract(array_01, array_02)\n",
        "print(newArr)\n",
        "\n",
        "# 곱셈\n",
        "newArr = np.multiply(array_01, array_02)\n",
        "print(newArr)\n",
        "\n",
        "# 나눗셈\n",
        "newArr = np.divide(array_01, array_02)\n",
        "print(newArr)\n",
        "\n",
        "# 거듭제곱\n",
        "array_01 = np.array([1, 2, 3])\n",
        "array_02 = np.array([2, 2, 2])\n",
        "newArr = np.power(array_01, array_02)\n",
        "print(newArr)\n"
      ],
      "metadata": {
        "colab": {
          "base_uri": "https://localhost:8080/"
        },
        "id": "kVxRXbGMwduV",
        "outputId": "e1636d82-1c21-426a-b59f-7ff2cdcd673a"
      },
      "execution_count": null,
      "outputs": [
        {
          "output_type": "stream",
          "name": "stdout",
          "text": [
            "[11 22 33]\n",
            "[ -9 -18 -27]\n",
            "[10 40 90]\n",
            "[0.1 0.1 0.1]\n",
            "[1 4 9]\n"
          ]
        }
      ]
    },
    {
      "cell_type": "markdown",
      "source": [
        "## 소수점 정렬\n",
        "- 소수점을 정렬하는 다양한 방법"
      ],
      "metadata": {
        "id": "CZzj_cDwxz0N"
      }
    },
    {
      "cell_type": "code",
      "source": [
        "# 소수점 제거\n",
        "import numpy as np\n",
        "temp_arr = np.trunc([-1.23, 1.23])\n",
        "print(temp_arr)\n",
        "\n",
        "temp_arr = np.fix([-1.23, 1.23])\n",
        "print(temp_arr)"
      ],
      "metadata": {
        "colab": {
          "base_uri": "https://localhost:8080/"
        },
        "id": "6-PMmDHzx5EN",
        "outputId": "28503b48-c881-4741-f80d-23c55d09b983"
      },
      "execution_count": null,
      "outputs": [
        {
          "output_type": "stream",
          "name": "stdout",
          "text": [
            "[-1.  1.]\n",
            "[-1.  1.]\n"
          ]
        }
      ]
    },
    {
      "cell_type": "code",
      "source": [
        "# 임의의 소수점 자리에서 반올림\n",
        "temp_arr = np.around([-1.23456, 1.23456], 3) # 소수점 세번째 자리에서 반올림\n",
        "print(temp_arr)"
      ],
      "metadata": {
        "colab": {
          "base_uri": "https://localhost:8080/"
        },
        "id": "EwPnmXo0yPZt",
        "outputId": "571adfc0-8266-4014-f3c2-1cb225199304"
      },
      "execution_count": null,
      "outputs": [
        {
          "output_type": "stream",
          "name": "stdout",
          "text": [
            "[-1.235  1.235]\n"
          ]
        }
      ]
    },
    {
      "cell_type": "code",
      "source": [
        "# 소수점 내림\n",
        "temp_arr = np.floor([-1.23456, 1.23456])\n",
        "print(temp_arr)"
      ],
      "metadata": {
        "colab": {
          "base_uri": "https://localhost:8080/"
        },
        "id": "shFNmYFUyeV9",
        "outputId": "666f5320-cbe7-4699-a02e-00d43f29d34d"
      },
      "execution_count": null,
      "outputs": [
        {
          "output_type": "stream",
          "name": "stdout",
          "text": [
            "[-2.  1.]\n"
          ]
        }
      ]
    },
    {
      "cell_type": "code",
      "source": [
        "# 소수점 모두 올림\n",
        "temp_arr = np.ceil([-1.23456, 1.23456])\n",
        "print(temp_arr)"
      ],
      "metadata": {
        "colab": {
          "base_uri": "https://localhost:8080/"
        },
        "id": "MKlDyKqOyru8",
        "outputId": "661ae74f-e44a-45dd-96d8-cbcb38885b21"
      },
      "execution_count": null,
      "outputs": [
        {
          "output_type": "stream",
          "name": "stdout",
          "text": [
            "[-1.  2.]\n"
          ]
        }
      ]
    },
    {
      "cell_type": "markdown",
      "source": [
        "## 조건식\n",
        "- pandas 가공\n",
        "- numpy\n",
        "- 조건식\n",
        "  + 하나의 조건식(=np.where)\n",
        "  + 다중 조건식\n"
      ],
      "metadata": {
        "id": "JffIML2N3hKD"
      }
    },
    {
      "cell_type": "code",
      "source": [
        "temp_arr = np.arange(10)\n",
        "temp_arr"
      ],
      "metadata": {
        "colab": {
          "base_uri": "https://localhost:8080/"
        },
        "id": "W190n5GA31Z6",
        "outputId": "750eb89f-63a0-44f1-c16f-535cc0d66ed3"
      },
      "execution_count": null,
      "outputs": [
        {
          "output_type": "execute_result",
          "data": {
            "text/plain": [
              "array([0, 1, 2, 3, 4, 5, 6, 7, 8, 9])"
            ]
          },
          "metadata": {},
          "execution_count": 45
        }
      ]
    },
    {
      "cell_type": "code",
      "source": [
        "# 5보다 작의면 원값 유지\n",
        "# 5보다 크면 곱하기 10을 해줌"
      ],
      "metadata": {
        "id": "vTIgMAwv4IjT"
      },
      "execution_count": null,
      "outputs": []
    },
    {
      "cell_type": "code",
      "source": [
        "# np.where(조건식, 참일 때, 거짓일 때)\n",
        "np.where(temp_arr < 5, temp_arr, temp_arr * 10)"
      ],
      "metadata": {
        "colab": {
          "base_uri": "https://localhost:8080/"
        },
        "id": "UmrSLtmH4NXC",
        "outputId": "9145a0bd-3d63-4203-e175-79ca33553ea8"
      },
      "execution_count": null,
      "outputs": [
        {
          "output_type": "execute_result",
          "data": {
            "text/plain": [
              "array([ 0,  1,  2,  3,  4, 50, 60, 70, 80, 90])"
            ]
          },
          "metadata": {},
          "execution_count": 47
        }
      ]
    },
    {
      "cell_type": "code",
      "source": [
        "temp_arr = np.arange(10)\n",
        "# temp_arr\n",
        "cond_list   = [temp_arr > 5, temp_arr <2 ]\n",
        "choice_list = [temp_arr *2, temp_arr + 100]\n",
        "\n",
        "# np.selsect(조건식 리스트, 결과값 리스트, default = )\n",
        "np.select(cond_list, choice_list, default = temp_arr)"
      ],
      "metadata": {
        "colab": {
          "base_uri": "https://localhost:8080/"
        },
        "id": "Gn8RACa85JPF",
        "outputId": "a9c07aae-7fa4-4033-8c94-827ccb02c512"
      },
      "execution_count": null,
      "outputs": [
        {
          "output_type": "execute_result",
          "data": {
            "text/plain": [
              "array([100, 101,   2,   3,   4,   5,  12,  14,  16,  18])"
            ]
          },
          "metadata": {},
          "execution_count": 54
        }
      ]
    },
    {
      "cell_type": "markdown",
      "source": [
        "## Reshape\n",
        "- 배열의 차원 또는 크기를 바꾼다.\n",
        "- 곱셈만 할 줄 알면 끝"
      ],
      "metadata": {
        "id": "ftmENaXk6Zvq"
      }
    },
    {
      "cell_type": "code",
      "source": [
        "import numpy as np\n",
        "temp_array = np.ones((3, 4))\n",
        "print(temp_array.shape)\n",
        "print(temp_array)"
      ],
      "metadata": {
        "colab": {
          "base_uri": "https://localhost:8080/"
        },
        "id": "iupoW4nw6m36",
        "outputId": "937822bc-7a0d-44d2-ecbc-4037e63ba6c8"
      },
      "execution_count": null,
      "outputs": [
        {
          "output_type": "stream",
          "name": "stdout",
          "text": [
            "(3, 4)\n",
            "[[1. 1. 1. 1.]\n",
            " [1. 1. 1. 1.]\n",
            " [1. 1. 1. 1.]]\n"
          ]
        }
      ]
    },
    {
      "cell_type": "code",
      "source": [
        "after_reshape = temp_array.reshape(2, 2, 3) # 곱이 12\n",
        "print(after_reshape.shape)\n",
        "print(after_reshape)"
      ],
      "metadata": {
        "colab": {
          "base_uri": "https://localhost:8080/"
        },
        "id": "oH4awcIG6--5",
        "outputId": "e6af85c3-d4c8-445e-ada8-c396ab396507"
      },
      "execution_count": null,
      "outputs": [
        {
          "output_type": "stream",
          "name": "stdout",
          "text": [
            "(2, 2, 3)\n",
            "[[[1. 1. 1.]\n",
            "  [1. 1. 1.]]\n",
            "\n",
            " [[1. 1. 1.]\n",
            "  [1. 1. 1.]]]\n"
          ]
        }
      ]
    },
    {
      "cell_type": "code",
      "source": [
        "# 원하는 자리값을 넣고 남은 곳에 -1을 넣어주면 데이터 값에 맞는 자리값을 설정해준다.\n",
        "after_reshape = temp_array.reshape(2, 2, -1)\n",
        "print(after_reshape.shape)\n",
        "print(after_reshape)"
      ],
      "metadata": {
        "colab": {
          "base_uri": "https://localhost:8080/"
        },
        "id": "pab3dxHL71KR",
        "outputId": "6facd31e-6389-4a35-dd21-a4ea1f0b6f6b"
      },
      "execution_count": null,
      "outputs": [
        {
          "output_type": "stream",
          "name": "stdout",
          "text": [
            "(2, 2, 3)\n",
            "[[[1. 1. 1.]\n",
            "  [1. 1. 1.]]\n",
            "\n",
            " [[1. 1. 1.]\n",
            "  [1. 1. 1.]]]\n"
          ]
        }
      ]
    },
    {
      "cell_type": "markdown",
      "source": [
        "# 브로드 캐스팅\n",
        "- 서로 다른 크기의 배열을 계산할 때의 기본적인 규칙을 의미"
      ],
      "metadata": {
        "id": "1tPwty488VCh"
      }
    },
    {
      "cell_type": "markdown",
      "source": [
        "# pandas 튜토리얼"
      ],
      "metadata": {
        "id": "jENrW3ojIISu"
      }
    },
    {
      "cell_type": "code",
      "source": [
        "import pandas as pd\n",
        "print(pd.__version__)"
      ],
      "metadata": {
        "colab": {
          "base_uri": "https://localhost:8080/"
        },
        "id": "ABUMO5fPILod",
        "outputId": "657d9b29-62bb-43ba-c522-6bf9ebe0dfee"
      },
      "execution_count": null,
      "outputs": [
        {
          "output_type": "stream",
          "name": "stdout",
          "text": [
            "1.3.5\n"
          ]
        }
      ]
    },
    {
      "cell_type": "code",
      "source": [
        "temp_dict = {\n",
        "    'col1' : [1, 2],\n",
        "    'col2' : [3, 4]\n",
        "}\n",
        "\n",
        "df = pd.DataFrame(temp_dict)\n",
        "print(df)\n",
        "print(type(df))"
      ],
      "metadata": {
        "colab": {
          "base_uri": "https://localhost:8080/"
        },
        "id": "6rnxpUUWITSE",
        "outputId": "456d030d-e50f-4ccb-c92c-ab537d01965e"
      },
      "execution_count": null,
      "outputs": [
        {
          "output_type": "stream",
          "name": "stdout",
          "text": [
            "   col1  col2\n",
            "0     1     3\n",
            "1     2     4\n",
            "<class 'pandas.core.frame.DataFrame'>\n"
          ]
        }
      ]
    },
    {
      "cell_type": "markdown",
      "source": [
        "## 구글 드라이브 연동"
      ],
      "metadata": {
        "id": "u9-n-MIWJTp1"
      }
    },
    {
      "cell_type": "code",
      "source": [
        "from google.colab import drive\n",
        "drive.mount('/content/drive')"
      ],
      "metadata": {
        "colab": {
          "base_uri": "https://localhost:8080/"
        },
        "id": "FR-4dQfWJVlb",
        "outputId": "d8d694a4-febe-49d2-e0ff-45903394e2f5"
      },
      "execution_count": null,
      "outputs": [
        {
          "output_type": "stream",
          "name": "stdout",
          "text": [
            "Mounted at /content/drive\n"
          ]
        }
      ]
    },
    {
      "cell_type": "code",
      "source": [
        "DATA_PATH = '/content/drive/MyDrive/Colab Notebooks/human_AI/Basic/Chapter 3. pandas/data/'\n",
        "print(DATA_PATH + 'Lemonade2016.csv')\n",
        "\n",
        "lemonade = pd.read_csv(DATA_PATH + 'Lemonade2016.csv')\n",
        "#covid_df = pd.read_csv(DATA_PATH + 'owid-covid-data.csv')\n",
        "\n",
        "lemonade.info # 파일이 잘 들어왔는지 확인"
      ],
      "metadata": {
        "colab": {
          "base_uri": "https://localhost:8080/"
        },
        "id": "vVIkxXu-K1_U",
        "outputId": "4b1cd769-ab43-4149-971e-7e6196b2f0f9"
      },
      "execution_count": null,
      "outputs": [
        {
          "output_type": "stream",
          "name": "stdout",
          "text": [
            "/content/drive/MyDrive/Colab Notebooks/human_AI/Basic/Chapter 3. pandas/data/Lemonade2016.csv\n"
          ]
        },
        {
          "output_type": "execute_result",
          "data": {
            "text/plain": [
              "<bound method DataFrame.info of          Date Location  Lemon  Orange  Temperature  Leaflets  Price\n",
              "0    7/1/2016     Park     97      67           70      90.0   0.25\n",
              "1    7/2/2016     Park     98      67           72      90.0   0.25\n",
              "2    7/3/2016     Park    110      77           71     104.0   0.25\n",
              "3    7/4/2016    Beach    134      99           76      98.0   0.25\n",
              "4    7/5/2016    Beach    159     118           78     135.0   0.25\n",
              "5    7/6/2016    Beach    103      69           82      90.0   0.25\n",
              "6    7/6/2016    Beach    103      69           82      90.0   0.25\n",
              "7    7/7/2016    Beach    143     101           81     135.0   0.25\n",
              "8         NaN    Beach    123      86           82     113.0   0.25\n",
              "9    7/9/2016    Beach    134      95           80     126.0   0.25\n",
              "10  7/10/2016    Beach    140      98           82     131.0   0.25\n",
              "11  7/11/2016    Beach    162     120           83     135.0   0.25\n",
              "12  7/12/2016    Beach    130      95           84      99.0   0.25\n",
              "13  7/13/2016    Beach    109      75           77      99.0   0.25\n",
              "14  7/14/2016    Beach    122      85           78     113.0   0.25\n",
              "15  7/15/2016    Beach     98      62           75     108.0   0.50\n",
              "16  7/16/2016    Beach     81      50           74      90.0   0.50\n",
              "17  7/17/2016    Beach    115      76           77     126.0   0.50\n",
              "18  7/18/2016     Park    131      92           81     122.0   0.50\n",
              "19  7/19/2016     Park    122      85           78     113.0   0.50\n",
              "20  7/20/2016     Park     71      42           70       NaN   0.50\n",
              "21  7/21/2016     Park     83      50           77      90.0   0.50\n",
              "22  7/22/2016     Park    112      75           80     108.0   0.50\n",
              "23  7/23/2016     Park    120      82           81     117.0   0.50\n",
              "24  7/24/2016     Park    121      82           82     117.0   0.50\n",
              "25  7/25/2016     Park    156     113           84     135.0   0.50\n",
              "26  7/26/2016     Park    176     129           83     158.0   0.35\n",
              "27  7/27/2016     Park    104      68           80      99.0   0.35\n",
              "28  7/28/2016     Park     96      63           82      90.0   0.35\n",
              "29  7/29/2016     Park    100      66           81      95.0   0.35\n",
              "30  7/30/2016    Beach     88      57           82      81.0   0.35\n",
              "31  7/31/2016    Beach     76      47           82      68.0   0.35>"
            ]
          },
          "metadata": {},
          "execution_count": 85
        }
      ]
    }
  ]
}