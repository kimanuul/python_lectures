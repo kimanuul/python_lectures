{
  "nbformat": 4,
  "nbformat_minor": 0,
  "metadata": {
    "colab": {
      "name": "day0701_ch4.ipynb",
      "provenance": [],
      "collapsed_sections": [],
      "authorship_tag": "ABX9TyPeTCS4LK51CkZh0x2hm83r",
      "include_colab_link": true
    },
    "kernelspec": {
      "name": "python3",
      "display_name": "Python 3"
    },
    "language_info": {
      "name": "python"
    }
  },
  "cells": [
    {
      "cell_type": "markdown",
      "metadata": {
        "id": "view-in-github",
        "colab_type": "text"
      },
      "source": [
        "<a href=\"https://colab.research.google.com/github/kimanuul/python_lectures/blob/main/day0701_ch4.ipynb\" target=\"_parent\"><img src=\"https://colab.research.google.com/assets/colab-badge.svg\" alt=\"Open In Colab\"/></a>"
      ]
    },
    {
      "cell_type": "markdown",
      "source": [
        "---\n",
        "title: \"선형 회귀\"\n",
        "date: '2022-07-01'\n",
        "---"
      ],
      "metadata": {
        "id": "BBHniAdaf2jQ"
      }
    },
    {
      "cell_type": "markdown",
      "source": [
        "## 로지스틱 회귀\n",
        "- 선형 회귀에서 출발\n",
        "- 이진 분류 문제 해결\n",
        "- 클래스 확률 예측\n",
        "- 딥러닝에서도 사용됨"
      ],
      "metadata": {
        "id": "5yngP011f9MJ"
      }
    },
    {
      "cell_type": "markdown",
      "source": [
        "## 교재 177\n",
        "- x가 사각형일 확률 30%\n",
        "- x가 삼각형일 확률 50%\n",
        "- x가 원일 확률 20%"
      ],
      "metadata": {
        "id": "uLWOSG37ggzQ"
      }
    },
    {
      "cell_type": "markdown",
      "source": [
        "## 데이터 불러오기\n",
        "- Species (종속변수 -> Y)\n",
        "- Weight, Length, Diagonal, Height, Width (독립변수)"
      ],
      "metadata": {
        "id": "Ihov4Oh_gyzH"
      }
    },
    {
      "cell_type": "code",
      "execution_count": 1,
      "metadata": {
        "colab": {
          "base_uri": "https://localhost:8080/",
          "height": 206
        },
        "id": "73L38_GNf1eR",
        "outputId": "69c960b2-73e3-484a-b40e-a9e504f06536"
      },
      "outputs": [
        {
          "output_type": "execute_result",
          "data": {
            "text/plain": [
              "  Species  Weight  Length  Diagonal   Height   Width\n",
              "0   Bream   242.0    25.4      30.0  11.5200  4.0200\n",
              "1   Bream   290.0    26.3      31.2  12.4800  4.3056\n",
              "2   Bream   340.0    26.5      31.1  12.3778  4.6961\n",
              "3   Bream   363.0    29.0      33.5  12.7300  4.4555\n",
              "4   Bream   430.0    29.0      34.0  12.4440  5.1340"
            ],
            "text/html": [
              "\n",
              "  <div id=\"df-546f18de-451b-433a-bf34-835989f89eb4\">\n",
              "    <div class=\"colab-df-container\">\n",
              "      <div>\n",
              "<style scoped>\n",
              "    .dataframe tbody tr th:only-of-type {\n",
              "        vertical-align: middle;\n",
              "    }\n",
              "\n",
              "    .dataframe tbody tr th {\n",
              "        vertical-align: top;\n",
              "    }\n",
              "\n",
              "    .dataframe thead th {\n",
              "        text-align: right;\n",
              "    }\n",
              "</style>\n",
              "<table border=\"1\" class=\"dataframe\">\n",
              "  <thead>\n",
              "    <tr style=\"text-align: right;\">\n",
              "      <th></th>\n",
              "      <th>Species</th>\n",
              "      <th>Weight</th>\n",
              "      <th>Length</th>\n",
              "      <th>Diagonal</th>\n",
              "      <th>Height</th>\n",
              "      <th>Width</th>\n",
              "    </tr>\n",
              "  </thead>\n",
              "  <tbody>\n",
              "    <tr>\n",
              "      <th>0</th>\n",
              "      <td>Bream</td>\n",
              "      <td>242.0</td>\n",
              "      <td>25.4</td>\n",
              "      <td>30.0</td>\n",
              "      <td>11.5200</td>\n",
              "      <td>4.0200</td>\n",
              "    </tr>\n",
              "    <tr>\n",
              "      <th>1</th>\n",
              "      <td>Bream</td>\n",
              "      <td>290.0</td>\n",
              "      <td>26.3</td>\n",
              "      <td>31.2</td>\n",
              "      <td>12.4800</td>\n",
              "      <td>4.3056</td>\n",
              "    </tr>\n",
              "    <tr>\n",
              "      <th>2</th>\n",
              "      <td>Bream</td>\n",
              "      <td>340.0</td>\n",
              "      <td>26.5</td>\n",
              "      <td>31.1</td>\n",
              "      <td>12.3778</td>\n",
              "      <td>4.6961</td>\n",
              "    </tr>\n",
              "    <tr>\n",
              "      <th>3</th>\n",
              "      <td>Bream</td>\n",
              "      <td>363.0</td>\n",
              "      <td>29.0</td>\n",
              "      <td>33.5</td>\n",
              "      <td>12.7300</td>\n",
              "      <td>4.4555</td>\n",
              "    </tr>\n",
              "    <tr>\n",
              "      <th>4</th>\n",
              "      <td>Bream</td>\n",
              "      <td>430.0</td>\n",
              "      <td>29.0</td>\n",
              "      <td>34.0</td>\n",
              "      <td>12.4440</td>\n",
              "      <td>5.1340</td>\n",
              "    </tr>\n",
              "  </tbody>\n",
              "</table>\n",
              "</div>\n",
              "      <button class=\"colab-df-convert\" onclick=\"convertToInteractive('df-546f18de-451b-433a-bf34-835989f89eb4')\"\n",
              "              title=\"Convert this dataframe to an interactive table.\"\n",
              "              style=\"display:none;\">\n",
              "        \n",
              "  <svg xmlns=\"http://www.w3.org/2000/svg\" height=\"24px\"viewBox=\"0 0 24 24\"\n",
              "       width=\"24px\">\n",
              "    <path d=\"M0 0h24v24H0V0z\" fill=\"none\"/>\n",
              "    <path d=\"M18.56 5.44l.94 2.06.94-2.06 2.06-.94-2.06-.94-.94-2.06-.94 2.06-2.06.94zm-11 1L8.5 8.5l.94-2.06 2.06-.94-2.06-.94L8.5 2.5l-.94 2.06-2.06.94zm10 10l.94 2.06.94-2.06 2.06-.94-2.06-.94-.94-2.06-.94 2.06-2.06.94z\"/><path d=\"M17.41 7.96l-1.37-1.37c-.4-.4-.92-.59-1.43-.59-.52 0-1.04.2-1.43.59L10.3 9.45l-7.72 7.72c-.78.78-.78 2.05 0 2.83L4 21.41c.39.39.9.59 1.41.59.51 0 1.02-.2 1.41-.59l7.78-7.78 2.81-2.81c.8-.78.8-2.07 0-2.86zM5.41 20L4 18.59l7.72-7.72 1.47 1.35L5.41 20z\"/>\n",
              "  </svg>\n",
              "      </button>\n",
              "      \n",
              "  <style>\n",
              "    .colab-df-container {\n",
              "      display:flex;\n",
              "      flex-wrap:wrap;\n",
              "      gap: 12px;\n",
              "    }\n",
              "\n",
              "    .colab-df-convert {\n",
              "      background-color: #E8F0FE;\n",
              "      border: none;\n",
              "      border-radius: 50%;\n",
              "      cursor: pointer;\n",
              "      display: none;\n",
              "      fill: #1967D2;\n",
              "      height: 32px;\n",
              "      padding: 0 0 0 0;\n",
              "      width: 32px;\n",
              "    }\n",
              "\n",
              "    .colab-df-convert:hover {\n",
              "      background-color: #E2EBFA;\n",
              "      box-shadow: 0px 1px 2px rgba(60, 64, 67, 0.3), 0px 1px 3px 1px rgba(60, 64, 67, 0.15);\n",
              "      fill: #174EA6;\n",
              "    }\n",
              "\n",
              "    [theme=dark] .colab-df-convert {\n",
              "      background-color: #3B4455;\n",
              "      fill: #D2E3FC;\n",
              "    }\n",
              "\n",
              "    [theme=dark] .colab-df-convert:hover {\n",
              "      background-color: #434B5C;\n",
              "      box-shadow: 0px 1px 3px 1px rgba(0, 0, 0, 0.15);\n",
              "      filter: drop-shadow(0px 1px 2px rgba(0, 0, 0, 0.3));\n",
              "      fill: #FFFFFF;\n",
              "    }\n",
              "  </style>\n",
              "\n",
              "      <script>\n",
              "        const buttonEl =\n",
              "          document.querySelector('#df-546f18de-451b-433a-bf34-835989f89eb4 button.colab-df-convert');\n",
              "        buttonEl.style.display =\n",
              "          google.colab.kernel.accessAllowed ? 'block' : 'none';\n",
              "\n",
              "        async function convertToInteractive(key) {\n",
              "          const element = document.querySelector('#df-546f18de-451b-433a-bf34-835989f89eb4');\n",
              "          const dataTable =\n",
              "            await google.colab.kernel.invokeFunction('convertToInteractive',\n",
              "                                                     [key], {});\n",
              "          if (!dataTable) return;\n",
              "\n",
              "          const docLinkHtml = 'Like what you see? Visit the ' +\n",
              "            '<a target=\"_blank\" href=https://colab.research.google.com/notebooks/data_table.ipynb>data table notebook</a>'\n",
              "            + ' to learn more about interactive tables.';\n",
              "          element.innerHTML = '';\n",
              "          dataTable['output_type'] = 'display_data';\n",
              "          await google.colab.output.renderOutput(dataTable, element);\n",
              "          const docLink = document.createElement('div');\n",
              "          docLink.innerHTML = docLinkHtml;\n",
              "          element.appendChild(docLink);\n",
              "        }\n",
              "      </script>\n",
              "    </div>\n",
              "  </div>\n",
              "  "
            ]
          },
          "metadata": {},
          "execution_count": 1
        }
      ],
      "source": [
        "import pandas as pd\n",
        "\n",
        "fish = pd.read_csv('https://bit.ly/fish_csv_data')\n",
        "fish.head()"
      ]
    },
    {
      "cell_type": "markdown",
      "source": [
        "## 데이터 탐색"
      ],
      "metadata": {
        "id": "1wgXqVZGhW-_"
      }
    },
    {
      "cell_type": "code",
      "source": [
        "# 종속변수부터 확인\n",
        "print(pd.unique(fish['Species']))\n",
        "print(fish['Species'].value_counts())\n",
        "\n",
        "\n"
      ],
      "metadata": {
        "colab": {
          "base_uri": "https://localhost:8080/"
        },
        "id": "tICA0A9mhYeO",
        "outputId": "124cc619-6c3e-47c0-eb0f-e52ee3729fea"
      },
      "execution_count": 2,
      "outputs": [
        {
          "output_type": "stream",
          "name": "stdout",
          "text": [
            "['Bream' 'Roach' 'Whitefish' 'Parkki' 'Perch' 'Pike' 'Smelt']\n",
            "Perch        56\n",
            "Bream        35\n",
            "Roach        20\n",
            "Pike         17\n",
            "Smelt        14\n",
            "Parkki       11\n",
            "Whitefish     6\n",
            "Name: Species, dtype: int64\n"
          ]
        }
      ]
    },
    {
      "cell_type": "markdown",
      "source": [
        "## 데이터 가공"
      ],
      "metadata": {
        "id": "1jz0EX7IiQDI"
      }
    },
    {
      "cell_type": "code",
      "source": [
        "# pandas 데이터 프레임에서 numpy 배열로 변환\n",
        "\n",
        "fish_input = fish[['Weight', 'Length', 'Diagonal', 'Height', 'Width']]. to_numpy()\n",
        "fish_input.shape"
      ],
      "metadata": {
        "colab": {
          "base_uri": "https://localhost:8080/"
        },
        "id": "vwIbEd8ViSou",
        "outputId": "125231be-3255-46af-f3cf-10e2420834c7"
      },
      "execution_count": 3,
      "outputs": [
        {
          "output_type": "execute_result",
          "data": {
            "text/plain": [
              "(159, 5)"
            ]
          },
          "metadata": {},
          "execution_count": 3
        }
      ]
    },
    {
      "cell_type": "code",
      "source": [
        "print(fish_input[:5])"
      ],
      "metadata": {
        "colab": {
          "base_uri": "https://localhost:8080/"
        },
        "id": "aN59vFwzinW3",
        "outputId": "d1bab5b8-23c2-4cb0-8a48-c96c6517079e"
      },
      "execution_count": 4,
      "outputs": [
        {
          "output_type": "stream",
          "name": "stdout",
          "text": [
            "[[242.      25.4     30.      11.52     4.02  ]\n",
            " [290.      26.3     31.2     12.48     4.3056]\n",
            " [340.      26.5     31.1     12.3778   4.6961]\n",
            " [363.      29.      33.5     12.73     4.4555]\n",
            " [430.      29.      34.      12.444    5.134 ]]\n"
          ]
        }
      ]
    },
    {
      "cell_type": "markdown",
      "source": [
        "- 타겟 데이터, 종속변수, Y"
      ],
      "metadata": {
        "id": "TWFSxHvBiwJ2"
      }
    },
    {
      "cell_type": "code",
      "source": [
        "fish_target = fish['Species'].to_numpy()\n",
        "print(fish_target.shape)\n",
        "print(fish_target[:5])\n"
      ],
      "metadata": {
        "colab": {
          "base_uri": "https://localhost:8080/"
        },
        "id": "Zvjxdi5Vi0rm",
        "outputId": "0aafc331-9431-42e5-f659-0e06cb0ceffb"
      },
      "execution_count": 5,
      "outputs": [
        {
          "output_type": "stream",
          "name": "stdout",
          "text": [
            "(159,)\n",
            "['Bream' 'Bream' 'Bream' 'Bream' 'Bream']\n"
          ]
        }
      ]
    },
    {
      "cell_type": "markdown",
      "source": [
        "## 데이터 분리\n",
        "- 훈련데이터 테스트 데이터 분리"
      ],
      "metadata": {
        "id": "XbAqPfD1jMr-"
      }
    },
    {
      "cell_type": "code",
      "source": [
        "from sklearn.model_selection import train_test_split\n",
        "\n",
        "#임의 샘플링\n",
        "train_input, test_input, train_target, test_target = train_test_split(\n",
        "    fish_input, fish_target, random_state = 42\n",
        ")\n",
        "\n",
        "#층화 샘플링\n",
        "\n"
      ],
      "metadata": {
        "id": "9_rztiwrjRzG"
      },
      "execution_count": 6,
      "outputs": []
    },
    {
      "cell_type": "markdown",
      "source": [
        "## 표준화 전처리\n",
        "- 여기에서도 훈련 세트의 통계 값으로 테스트 세트를 변환해야 한다는 점을 잊지 말기\n",
        "- 데이터 가공\n",
        "  + 숫자 결측치가 존재, 평균값으로 대체\n",
        "  + 원본 데이터 평균 대치 -> X\n",
        "  + 훈련 데이터와 테스트 데이터 분리\n",
        "  - 데이터 누수(Data leakage)"
      ],
      "metadata": {
        "id": "cVpDs7opj6l3"
      }
    },
    {
      "cell_type": "markdown",
      "source": [
        "## 교재 97p\n",
        "- 기준을 맞춰라 -> 데이터 표준화 (표준점수)\n",
        "- 수동으로 mean, std"
      ],
      "metadata": {
        "id": "kHdLWcKlHmSB"
      }
    },
    {
      "cell_type": "code",
      "source": [
        "# train_scaled = (train_input - mean) /std"
      ],
      "metadata": {
        "id": "ZuSszPZLICAI"
      },
      "execution_count": 7,
      "outputs": []
    },
    {
      "cell_type": "code",
      "source": [
        "from sklearn.preprocessing import StandardScaler\n",
        "ss = StandardScaler()\n",
        "ss.fit(train_input)\n",
        "# ss.fit(test_input) -> X\n",
        "\n",
        "train_scaled = ss.transform(train_input) # train_scaled = (train_input - mean) /std\n",
        "test_scaled = ss.transform(test_input)"
      ],
      "metadata": {
        "id": "efKgv8rVj8Y3"
      },
      "execution_count": 8,
      "outputs": []
    },
    {
      "cell_type": "markdown",
      "source": [
        "## 모형 만들기\n",
        "- K-최근접 이웃"
      ],
      "metadata": {
        "id": "g0iFR8_6JREI"
      }
    },
    {
      "cell_type": "markdown",
      "source": [
        ""
      ],
      "metadata": {
        "id": "fuwl8RmzJoD8"
      }
    },
    {
      "cell_type": "code",
      "source": [
        "from sklearn.neighbors import KNeighborsClassifier\n",
        "kn = KNeighborsClassifier(n_neighbors = 3)\n",
        "kn.fit(train_scaled, train_target)\n",
        "\n",
        "print(kn.score(train_scaled, train_target))\n",
        "print(kn.score(test_scaled, test_target))"
      ],
      "metadata": {
        "colab": {
          "base_uri": "https://localhost:8080/"
        },
        "id": "73x6djLzJUoQ",
        "outputId": "69eb9f83-1229-4e9b-e0f3-d6095e5ca834"
      },
      "execution_count": 9,
      "outputs": [
        {
          "output_type": "stream",
          "name": "stdout",
          "text": [
            "0.8907563025210085\n",
            "0.85\n"
          ]
        }
      ]
    },
    {
      "cell_type": "markdown",
      "source": [
        "- 타깃값 확인\n",
        "- 알파벳 순으로 정렬"
      ],
      "metadata": {
        "id": "V7OxdnxjLsiQ"
      }
    },
    {
      "cell_type": "code",
      "source": [
        "print(kn.classes_)"
      ],
      "metadata": {
        "colab": {
          "base_uri": "https://localhost:8080/"
        },
        "id": "_SGx_p38J3z5",
        "outputId": "d66096fe-3970-4228-d545-22e35e962eaf"
      },
      "execution_count": 10,
      "outputs": [
        {
          "output_type": "stream",
          "name": "stdout",
          "text": [
            "['Bream' 'Parkki' 'Perch' 'Pike' 'Roach' 'Smelt' 'Whitefish']\n"
          ]
        }
      ]
    },
    {
      "cell_type": "markdown",
      "source": [
        "-  다중분류"
      ],
      "metadata": {
        "id": "7zSCzNJeKS_4"
      }
    },
    {
      "cell_type": "code",
      "source": [
        "print(kn.predict(test_scaled[:5]))"
      ],
      "metadata": {
        "colab": {
          "base_uri": "https://localhost:8080/"
        },
        "id": "3ccp93C2KB3w",
        "outputId": "bfaedf2a-c288-4337-b277-77c99c3a842c"
      },
      "execution_count": 11,
      "outputs": [
        {
          "output_type": "stream",
          "name": "stdout",
          "text": [
            "['Perch' 'Smelt' 'Pike' 'Perch' 'Perch']\n"
          ]
        }
      ]
    },
    {
      "cell_type": "markdown",
      "source": [
        "- 5개 샘플에 대한 예측은 어떤 확률이냐?"
      ],
      "metadata": {
        "id": "cH5-IAGEKXQn"
      }
    },
    {
      "cell_type": "code",
      "source": [
        "import numpy as np\n",
        "proba = kn.predict_proba(test_scaled[:5])\n",
        "print(kn.classes_)\n",
        "print(np.round(proba, decimals = 4))"
      ],
      "metadata": {
        "colab": {
          "base_uri": "https://localhost:8080/"
        },
        "id": "YFbNbQrjKVyY",
        "outputId": "c4ae24f0-8551-4471-9fbd-1f53575619a1"
      },
      "execution_count": 12,
      "outputs": [
        {
          "output_type": "stream",
          "name": "stdout",
          "text": [
            "['Bream' 'Parkki' 'Perch' 'Pike' 'Roach' 'Smelt' 'Whitefish']\n",
            "[[0.     0.     1.     0.     0.     0.     0.    ]\n",
            " [0.     0.     0.     0.     0.     1.     0.    ]\n",
            " [0.     0.     0.     1.     0.     0.     0.    ]\n",
            " [0.     0.     0.6667 0.     0.3333 0.     0.    ]\n",
            " [0.     0.     0.6667 0.     0.3333 0.     0.    ]]\n"
          ]
        }
      ]
    },
    {
      "cell_type": "markdown",
      "source": [
        "- 첫번째 클래스 Perch\n",
        "  + 100% 확률로 Perch로 예측\n",
        "- 네번째 클래스 Perch\n",
        "  + 66.7% 확률로 Perch로 예측\n",
        "  + 33.3% 확률로 Roach로 예측\n",
        "\n",
        "br     park  perch\n",
        "0.     0.     1.     0.     0.     0.     0."
      ],
      "metadata": {
        "id": "4q5syzh-K01n"
      }
    },
    {
      "cell_type": "markdown",
      "source": [
        "## 회귀 식\n",
        "$y  = ax + b$\n",
        "- 양변에 로그를 취함"
      ],
      "metadata": {
        "id": "IL8w4L6aMatm"
      }
    },
    {
      "cell_type": "markdown",
      "source": [
        "## 로지스틱 회귀로 이진 분류 수행 "
      ],
      "metadata": {
        "id": "g8Ik6LNaP5YV"
      }
    },
    {
      "cell_type": "code",
      "source": [
        "char_arr = np.array(['A', 'B', 'C', 'D', 'E'])\n",
        "print(char_arr[[True, False, True, False, False]])\n",
        "\n"
      ],
      "metadata": {
        "colab": {
          "base_uri": "https://localhost:8080/"
        },
        "id": "5spD9H9RP7u1",
        "outputId": "bf2cd154-91cb-44aa-d351-0878c73c48b6"
      },
      "execution_count": 13,
      "outputs": [
        {
          "output_type": "stream",
          "name": "stdout",
          "text": [
            "['A' 'C']\n"
          ]
        }
      ]
    },
    {
      "cell_type": "markdown",
      "source": [
        "- 도미와 빙어의 행만 골라냄 "
      ],
      "metadata": {
        "id": "fX400SRyQTFl"
      }
    },
    {
      "cell_type": "code",
      "source": [
        "bream_smelt_indexes = (train_target == 'Bream') | (train_target == 'Smelt')\n",
        "print(bream_smelt_indexes)\n",
        "train_bream_smelt = train_scaled[bream_smelt_indexes]\n",
        "target_bream_smelt = train_target[bream_smelt_indexes]\n",
        "\n",
        "train_scaled.shape, train_bream_smelt.shape"
      ],
      "metadata": {
        "colab": {
          "base_uri": "https://localhost:8080/"
        },
        "id": "m9u3zdqqQUsV",
        "outputId": "fe15f3b6-e4b8-4340-f9e6-0b0718f661ec"
      },
      "execution_count": 14,
      "outputs": [
        {
          "output_type": "stream",
          "name": "stdout",
          "text": [
            "[ True False  True False False False False  True False False False  True\n",
            " False False False  True  True False False  True False  True False False\n",
            " False  True False False  True False False False False  True False False\n",
            "  True  True False False False False False  True False False False False\n",
            " False  True False  True False False  True False False False  True False\n",
            " False False False False False  True False  True False False False False\n",
            " False False False False False  True False  True False False  True  True\n",
            " False False False  True False False False False False  True False False\n",
            " False  True False  True False False  True  True False False False False\n",
            " False False False False  True  True False False  True False False]\n"
          ]
        },
        {
          "output_type": "execute_result",
          "data": {
            "text/plain": [
              "((119, 5), (33, 5))"
            ]
          },
          "metadata": {},
          "execution_count": 14
        }
      ]
    },
    {
      "cell_type": "code",
      "source": [
        "from sklearn.linear_model import LogisticRegression\n",
        "lr = LogisticRegression()\n",
        "lr.fit(train_bream_smelt, target_bream_smelt)\n"
      ],
      "metadata": {
        "colab": {
          "base_uri": "https://localhost:8080/"
        },
        "id": "_i_UKfd7VIOe",
        "outputId": "99c9b610-e281-4ea5-a358-3043ad869d18"
      },
      "execution_count": 15,
      "outputs": [
        {
          "output_type": "execute_result",
          "data": {
            "text/plain": [
              "LogisticRegression()"
            ]
          },
          "metadata": {},
          "execution_count": 15
        }
      ]
    },
    {
      "cell_type": "code",
      "source": [
        "# 클래스를 예측\n",
        "print(lr.predict(train_bream_smelt[:5]))"
      ],
      "metadata": {
        "colab": {
          "base_uri": "https://localhost:8080/"
        },
        "id": "19F3X7BoVi16",
        "outputId": "d749f933-e956-429c-d036-2f5c6a3e8d59"
      },
      "execution_count": 16,
      "outputs": [
        {
          "output_type": "stream",
          "name": "stdout",
          "text": [
            "['Bream' 'Smelt' 'Bream' 'Bream' 'Bream']\n"
          ]
        }
      ]
    },
    {
      "cell_type": "markdown",
      "source": [
        "- 확률값 구하기 "
      ],
      "metadata": {
        "id": "gBksGb21VqN7"
      }
    },
    {
      "cell_type": "code",
      "source": [
        "print(lr.predict_proba(train_bream_smelt[:5]))"
      ],
      "metadata": {
        "colab": {
          "base_uri": "https://localhost:8080/"
        },
        "id": "-CkczCuiVrEE",
        "outputId": "9ff27714-722d-4ea9-a836-1d8ddab4bad5"
      },
      "execution_count": 17,
      "outputs": [
        {
          "output_type": "stream",
          "name": "stdout",
          "text": [
            "[[0.99759855 0.00240145]\n",
            " [0.02735183 0.97264817]\n",
            " [0.99486072 0.00513928]\n",
            " [0.98584202 0.01415798]\n",
            " [0.99767269 0.00232731]]\n"
          ]
        }
      ]
    },
    {
      "cell_type": "code",
      "source": [
        "print(lr.classes_)"
      ],
      "metadata": {
        "colab": {
          "base_uri": "https://localhost:8080/"
        },
        "id": "hE9oDnmDVyMj",
        "outputId": "914eee1a-c378-43bf-cc89-ddb5e28f0473"
      },
      "execution_count": 18,
      "outputs": [
        {
          "output_type": "stream",
          "name": "stdout",
          "text": [
            "['Bream' 'Smelt']\n"
          ]
        }
      ]
    },
    {
      "cell_type": "markdown",
      "source": [
        "- 분류기준 : threshold 임계값 설정"
      ],
      "metadata": {
        "id": "rhdGEEs6WGnw"
      }
    },
    {
      "cell_type": "markdown",
      "source": [
        "## 계수와 절편"
      ],
      "metadata": {
        "id": "20XzPVKLW_-D"
      }
    },
    {
      "cell_type": "code",
      "source": [
        "print(lr.coef_, lr.intercept_)"
      ],
      "metadata": {
        "colab": {
          "base_uri": "https://localhost:8080/"
        },
        "id": "YQBH1ccxXDFi",
        "outputId": "22bcd0d7-0ab4-4b81-e8a8-be1e554df3dd"
      },
      "execution_count": 19,
      "outputs": [
        {
          "output_type": "stream",
          "name": "stdout",
          "text": [
            "[[-0.4037798  -0.57620209 -0.66280298 -1.01290277 -0.73168947]] [-2.16155132]\n"
          ]
        }
      ]
    },
    {
      "cell_type": "code",
      "source": [
        "decisions = lr.decision_function(train_bream_smelt[:5])\n",
        "print(decisions)"
      ],
      "metadata": {
        "colab": {
          "base_uri": "https://localhost:8080/"
        },
        "id": "VrpXxtdyXQ9C",
        "outputId": "950bed8e-2159-495c-d63c-6d2981ffb38d"
      },
      "execution_count": 20,
      "outputs": [
        {
          "output_type": "stream",
          "name": "stdout",
          "text": [
            "[-6.02927744  3.57123907 -5.26568906 -4.24321775 -6.0607117 ]\n"
          ]
        }
      ]
    },
    {
      "cell_type": "markdown",
      "source": [
        "- z값을 확률값으로 변환"
      ],
      "metadata": {
        "id": "EOajew0hXwT6"
      }
    },
    {
      "cell_type": "code",
      "source": [
        "from scipy.special import expit\n",
        "print(expit(decisions))"
      ],
      "metadata": {
        "colab": {
          "base_uri": "https://localhost:8080/"
        },
        "id": "t2D1Lf-TXiop",
        "outputId": "faf8d587-4e62-48e1-fbd4-1a49168a8938"
      },
      "execution_count": 21,
      "outputs": [
        {
          "output_type": "stream",
          "name": "stdout",
          "text": [
            "[0.00240145 0.97264817 0.00513928 0.01415798 0.00232731]\n"
          ]
        }
      ]
    },
    {
      "cell_type": "markdown",
      "source": [
        "## 다중 분류 수행하기"
      ],
      "metadata": {
        "id": "SUsJa3PNcFEh"
      }
    },
    {
      "cell_type": "code",
      "source": [
        "# 하이퍼 파라미터 세팅\n",
        "# 모형을 튜닝\n",
        "# 순정 쓰세요\n",
        "# 모형 결과의 과대적합 또는 과소적합을 방지하기 위한 것\n",
        "lr = LogisticRegression(C = 20, max_iter = 1000)\n",
        "lr.fit(train_scaled, train_target)\n",
        "print(lr.score(train_scaled, train_target))\n",
        "print(lr.score(test_scaled, test_target))"
      ],
      "metadata": {
        "colab": {
          "base_uri": "https://localhost:8080/"
        },
        "id": "ezkByekdcQMB",
        "outputId": "b89c6040-6d84-4b1e-9cb0-a121a0e9b13c"
      },
      "execution_count": 22,
      "outputs": [
        {
          "output_type": "stream",
          "name": "stdout",
          "text": [
            "0.9327731092436975\n",
            "0.925\n"
          ]
        }
      ]
    },
    {
      "cell_type": "code",
      "source": [
        "print(lr.predict(test_scaled[:5]))"
      ],
      "metadata": {
        "colab": {
          "base_uri": "https://localhost:8080/"
        },
        "id": "Ah4jKDf_dAnY",
        "outputId": "895b62e2-4508-42da-b4ad-b060835e2382"
      },
      "execution_count": 23,
      "outputs": [
        {
          "output_type": "stream",
          "name": "stdout",
          "text": [
            "['Perch' 'Smelt' 'Pike' 'Roach' 'Perch']\n"
          ]
        }
      ]
    },
    {
      "cell_type": "code",
      "source": [
        "proba = lr.predict_proba(test_scaled[:5])\n",
        "print(np.round(proba, decimals = 3))\n",
        "print(lr.classes_)"
      ],
      "metadata": {
        "colab": {
          "base_uri": "https://localhost:8080/"
        },
        "id": "bfBkxncAdHrA",
        "outputId": "9c2b70bd-775b-4b25-e978-f80adf41ba74"
      },
      "execution_count": 24,
      "outputs": [
        {
          "output_type": "stream",
          "name": "stdout",
          "text": [
            "[[0.    0.014 0.841 0.    0.136 0.007 0.003]\n",
            " [0.    0.003 0.044 0.    0.007 0.946 0.   ]\n",
            " [0.    0.    0.034 0.935 0.015 0.016 0.   ]\n",
            " [0.011 0.034 0.306 0.007 0.567 0.    0.076]\n",
            " [0.    0.    0.904 0.002 0.089 0.002 0.001]]\n",
            "['Bream' 'Parkki' 'Perch' 'Pike' 'Roach' 'Smelt' 'Whitefish']\n"
          ]
        }
      ]
    },
    {
      "cell_type": "markdown",
      "source": [
        "- 다중 분류일 경우 선형 방정식은 어떤 모습일까?\n",
        "  + 분류 7개, 컬럼 값 5개"
      ],
      "metadata": {
        "id": "CPkhfay6du9g"
      }
    },
    {
      "cell_type": "code",
      "source": [
        "print(lr.coef_.shape, lr.intercept_.shape)"
      ],
      "metadata": {
        "colab": {
          "base_uri": "https://localhost:8080/"
        },
        "id": "yqibUvH9dqn4",
        "outputId": "bdd85f37-de0a-464a-c30b-a554827f8763"
      },
      "execution_count": 25,
      "outputs": [
        {
          "output_type": "stream",
          "name": "stdout",
          "text": [
            "(7, 5) (7,)\n"
          ]
        }
      ]
    },
    {
      "cell_type": "markdown",
      "source": [
        "## 평가지표\n"
      ],
      "metadata": {
        "id": "Vp3-3gJKh6No"
      }
    },
    {
      "cell_type": "markdown",
      "source": [
        "## 회귀 평가지표\n",
        "- 결정계수 (교재 121p)\n",
        "  + (타깃 - 예측)^2 합 / (타깃 - 평균)^2 합\n",
        "- MAE, MSE, RMSE\n",
        "  + (실제 - 예측) = 오차\n",
        "  + MAE(Mean Absolute Error) : 오차의 절대값의 평균\n",
        "평균\n",
        "  + MSE(Mean Squared Error) : 오차 제곱의 평균\n",
        "  + RMSE(Root Squared Error) : MSE의 제곱근을 취한 값\n",
        "\n",
        "- 좋은 모델이란\n",
        "  + 결정계수 : 1에 수렴하면 좋은 모델\n",
        "  + MAE, MSE, RMSE : 0에 수렴하면 좋은 모델\n"
      ],
      "metadata": {
        "id": "WiLWWFsalcr8"
      }
    },
    {
      "cell_type": "code",
      "source": [
        "import numpy as np\n",
        "from sklearn.metrics import mean_absolute_error, mean_squared_error, r2_score\n",
        "\n",
        "true = np.array([1, 2, 3, 2, 3, 5, 4, 6, 5, 6, 7, 8, 8]) # 실제값\n",
        "preds = np.array([1, 1, 2, 2, 3, 4, 4, 5, 5, 7, 7, 6, 8]) # 예측값\n",
        "\n",
        "# 절대값 오차의 평균\n",
        "mae = mean_absolute_error(true, preds)\n",
        "print(mae)\n",
        "\n",
        "# 제곱 오차의 평균\n",
        "mse = mean_squared_error(true, preds)\n",
        "print(mse)\n",
        "\n",
        "# 제곱근\n",
        "rmse = np.sqrt(mse)\n",
        "print(rmse)\n",
        "\n",
        "# 결정계수\n",
        "r2 = r2_score(true, preds)\n",
        "print(r2)"
      ],
      "metadata": {
        "colab": {
          "base_uri": "https://localhost:8080/"
        },
        "id": "MLIPIgEpjead",
        "outputId": "85c0a574-3792-420f-ec9a-d8fd327178d6"
      },
      "execution_count": 26,
      "outputs": [
        {
          "output_type": "stream",
          "name": "stdout",
          "text": [
            "0.5384615384615384\n",
            "0.6923076923076923\n",
            "0.8320502943378437\n",
            "0.8617021276595744\n"
          ]
        }
      ]
    },
    {
      "cell_type": "markdown",
      "source": [
        "### 분류 평가지표\n",
        "- 오차 행렬\n",
        "- 실제 값\n",
        "  + [빙어, 도미, 도미, 빙어, 도미]\n",
        "- 예측 값\n",
        "  + [빙어, 빙어, 도미, 빙어, 빙어]\n",
        "\n",
        "TP : 2 (빙어를 빙어로 예측)\n",
        "TN : 1 (도미를 도미로 예측)\n",
        "FN : 2 (빙어를 도미로 예측)\n",
        "FP : 0 (도미를 빙어로 예측)\n",
        "\n",
        "- TP, TN, FP, FN\n",
        "  + 정확도 : (TP + TN) / ALL\n",
        "  + 정밀도(Precision) : TP / (TP + FN)\n",
        "  + 재현율 : TP / T RUE\n",
        "\n",
        "  + 로그손실\n",
        "  + ROC Curve (=AUC)"
      ],
      "metadata": {
        "id": "SBSmJTM4lgY9"
      }
    },
    {
      "cell_type": "code",
      "source": [
        "from sklearn.metrics import confusion_matrix\n",
        "\n",
        "true = [0, 1, 1, 0, 0]\n",
        "preds = [1, 0, 0, 0, 0]\n",
        "\n",
        "confusion_matrix(true, preds)"
      ],
      "metadata": {
        "colab": {
          "base_uri": "https://localhost:8080/"
        },
        "id": "shWf58G2ktmK",
        "outputId": "37738cea-cd75-4e0e-c006-fc12ec0a555f"
      },
      "execution_count": 27,
      "outputs": [
        {
          "output_type": "execute_result",
          "data": {
            "text/plain": [
              "array([[2, 1],\n",
              "       [2, 0]])"
            ]
          },
          "metadata": {},
          "execution_count": 27
        }
      ]
    }
  ]
}