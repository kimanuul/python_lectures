{
  "nbformat": 4,
  "nbformat_minor": 0,
  "metadata": {
    "colab": {
      "name": "basic0627.ipynb",
      "provenance": [],
      "toc_visible": true,
      "authorship_tag": "ABX9TyMSUvTry63K3Ob7VZFvJ1/d",
      "include_colab_link": true
    },
    "kernelspec": {
      "name": "python3",
      "display_name": "Python 3"
    },
    "language_info": {
      "name": "python"
    }
  },
  "cells": [
    {
      "cell_type": "markdown",
      "metadata": {
        "id": "view-in-github",
        "colab_type": "text"
      },
      "source": [
        "<a href=\"https://colab.research.google.com/github/kimanuul/python_lectures/blob/main/basic0627.ipynb\" target=\"_parent\"><img src=\"https://colab.research.google.com/assets/colab-badge.svg\" alt=\"Open In Colab\"/></a>"
      ]
    },
    {
      "cell_type": "markdown",
      "source": [
        "## 제목1\n",
        "- 파이썬 입문 "
      ],
      "metadata": {
        "id": "3WEmiXhuj8uT"
      }
    },
    {
      "cell_type": "markdown",
      "source": [
        "### 소제목 1\n",
        "- 여기는 소제목입니다."
      ],
      "metadata": {
        "id": "mZj59G-vkJOL"
      }
    },
    {
      "cell_type": "code",
      "source": [
        "print(\"Hello World\")"
      ],
      "metadata": {
        "colab": {
          "base_uri": "https://localhost:8080/"
        },
        "id": "k-PpCJhkkWLK",
        "outputId": "5763736b-d6c1-4e40-a60f-ac05dace7fdb"
      },
      "execution_count": 7,
      "outputs": [
        {
          "output_type": "stream",
          "name": "stdout",
          "text": [
            "Hello World\n"
          ]
        }
      ]
    },
    {
      "cell_type": "markdown",
      "source": [
        "### 제목 2\n",
        "- 제목 2 섹션입니다."
      ],
      "metadata": {
        "id": "Sr3fCoZ8khTi"
      }
    },
    {
      "cell_type": "markdown",
      "source": [
        "### 소제목 1\n",
        "- 라이브러리를 불러온다"
      ],
      "metadata": {
        "id": "u5w_NbRSkjej"
      }
    },
    {
      "cell_type": "code",
      "source": [
        "print(1+1)"
      ],
      "metadata": {
        "colab": {
          "base_uri": "https://localhost:8080/"
        },
        "id": "ufpY7Y8skqWS",
        "outputId": "7838f46d-f72c-445d-f422-9af59f6adba9"
      },
      "execution_count": 8,
      "outputs": [
        {
          "output_type": "stream",
          "name": "stdout",
          "text": [
            "2\n"
          ]
        }
      ]
    }
  ]
}