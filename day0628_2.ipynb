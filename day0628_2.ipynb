{
  "nbformat": 4,
  "nbformat_minor": 0,
  "metadata": {
    "colab": {
      "name": "day0628_2.ipynb",
      "provenance": [],
      "collapsed_sections": [],
      "authorship_tag": "ABX9TyPdlFW1YMkZRu5wgZgkK+3Q",
      "include_colab_link": true
    },
    "kernelspec": {
      "name": "python3",
      "display_name": "Python 3"
    },
    "language_info": {
      "name": "python"
    }
  },
  "cells": [
    {
      "cell_type": "markdown",
      "metadata": {
        "id": "view-in-github",
        "colab_type": "text"
      },
      "source": [
        "<a href=\"https://colab.research.google.com/github/kimanuul/python_lectures/blob/main/day0628_2.ipynb\" target=\"_parent\"><img src=\"https://colab.research.google.com/assets/colab-badge.svg\" alt=\"Open In Colab\"/></a>"
      ]
    },
    {
      "cell_type": "markdown",
      "source": [
        "---\n",
        "title: \"Python 기초함수\"\n",
        "date: '2022-06-28'\n",
        "---"
      ],
      "metadata": {
        "id": "rcnt3M6rT_i_"
      }
    },
    {
      "cell_type": "markdown",
      "source": [
        "# 함수 사용하기\n",
        "## Hello, world! 출력 함수 만들기"
      ],
      "metadata": {
        "id": "HMkYSOiDUC6H"
      }
    },
    {
      "cell_type": "code",
      "source": [
        "def hello():\n",
        "  print('Hello, world!')\n",
        "\n",
        "hello()"
      ],
      "metadata": {
        "colab": {
          "base_uri": "https://localhost:8080/"
        },
        "id": "yDh5TjKGUKeX",
        "outputId": "614006f0-78a5-4a73-cde1-ab148bb89538"
      },
      "execution_count": null,
      "outputs": [
        {
          "output_type": "stream",
          "name": "stdout",
          "text": [
            "Hello, world!\n"
          ]
        }
      ]
    },
    {
      "cell_type": "markdown",
      "source": [
        "## 빈 함수 만들기"
      ],
      "metadata": {
        "id": "QSmI4rSxUvf3"
      }
    },
    {
      "cell_type": "code",
      "source": [
        "def hello():\n",
        "  pass"
      ],
      "metadata": {
        "id": "FTRgVKp-Uw3X"
      },
      "execution_count": null,
      "outputs": []
    },
    {
      "cell_type": "markdown",
      "source": [
        "## 덧셈 함수 만들기"
      ],
      "metadata": {
        "id": "lL4kw_6uU3q3"
      }
    },
    {
      "cell_type": "code",
      "source": [
        "def add(a, b):\n",
        "  print(a + b)\n",
        "\n",
        "add(10, 20)"
      ],
      "metadata": {
        "colab": {
          "base_uri": "https://localhost:8080/"
        },
        "id": "mR0vsfKWU7IP",
        "outputId": "de37b52b-9ca5-4322-c71a-7a8c3003ea51"
      },
      "execution_count": null,
      "outputs": [
        {
          "output_type": "stream",
          "name": "stdout",
          "text": [
            "30\n"
          ]
        }
      ]
    },
    {
      "cell_type": "markdown",
      "source": [
        "## 함수 독스트링 사용하기"
      ],
      "metadata": {
        "id": "G1o3o08VVI7H"
      }
    },
    {
      "cell_type": "code",
      "source": [
        "def add(a, b):\n",
        "  \"\"\"이 함수는 a와 b를 더한 뒤 결과를 반환하는 함수입니다.\"\"\"\n",
        "  return a + b\n",
        "\n",
        "x = add(10, 20)\n",
        "print(x)\n",
        "\n",
        "print(add.__doc__) # 함수의 독스트링 출력\n",
        "\n",
        "help(add)"
      ],
      "metadata": {
        "colab": {
          "base_uri": "https://localhost:8080/"
        },
        "id": "bwfKVXnWVLfe",
        "outputId": "776a3d69-aa16-465a-de5c-2887b29acea8"
      },
      "execution_count": null,
      "outputs": [
        {
          "output_type": "stream",
          "name": "stdout",
          "text": [
            "30\n",
            "이 함수는 a와 b를 더한 뒤 결과를 반환하는 함수입니다.\n",
            "Help on function add in module __main__:\n",
            "\n",
            "add(a, b)\n",
            "    이 함수는 a와 b를 더한 뒤 결과를 반환하는 함수입니다.\n",
            "\n"
          ]
        }
      ]
    },
    {
      "cell_type": "markdown",
      "source": [
        "## 함수의 결과를 반환하기"
      ],
      "metadata": {
        "id": "uCQGGqMLVsT2"
      }
    },
    {
      "cell_type": "code",
      "source": [
        "def add(a, b):\n",
        "  return a + b\n",
        "\n",
        "x = add(10, 20)\n",
        "x\n",
        "\n",
        "print(add(10, 20))"
      ],
      "metadata": {
        "colab": {
          "base_uri": "https://localhost:8080/"
        },
        "id": "dTspZGNnV2qF",
        "outputId": "503ee480-5ced-4555-84b7-47a36ed334ed"
      },
      "execution_count": null,
      "outputs": [
        {
          "output_type": "stream",
          "name": "stdout",
          "text": [
            "30\n"
          ]
        }
      ]
    },
    {
      "cell_type": "markdown",
      "source": [
        "## 함수에서 값을 여러 개 반환하기"
      ],
      "metadata": {
        "id": "v-NTjwS5WT0e"
      }
    },
    {
      "cell_type": "code",
      "source": [
        "def add_sub(a, b):\n",
        "  return a + b, a - b\n",
        "\n",
        "x, y = add_sub(10, 20)\n",
        "\n",
        "print(x)\n",
        "print(y)"
      ],
      "metadata": {
        "colab": {
          "base_uri": "https://localhost:8080/"
        },
        "id": "uvCOgRSkWWse",
        "outputId": "8f3b742d-cdfe-46c3-ed01-ed0ceebff107"
      },
      "execution_count": null,
      "outputs": [
        {
          "output_type": "stream",
          "name": "stdout",
          "text": [
            "30\n",
            "-10\n"
          ]
        }
      ]
    },
    {
      "cell_type": "markdown",
      "source": [
        "## 함수의 호출 과정 알아보기"
      ],
      "metadata": {
        "id": "BIyQ2jURW-he"
      }
    },
    {
      "cell_type": "code",
      "source": [
        "def mul(a, b):\n",
        "  c = a * b\n",
        "  return c\n",
        "\n",
        "def add(a, b):\n",
        "  c = a + b\n",
        "  print(c)\n",
        "  d = mul(a, b)\n",
        "  print(d)\n",
        "\n",
        "x = 10\n",
        "y = 20\n",
        "add(x, y)"
      ],
      "metadata": {
        "colab": {
          "base_uri": "https://localhost:8080/"
        },
        "id": "pVfof3-oXOHV",
        "outputId": "acc7de0d-23f1-4cc8-e759-08b864a61fde"
      },
      "execution_count": null,
      "outputs": [
        {
          "output_type": "stream",
          "name": "stdout",
          "text": [
            "30\n",
            "200\n"
          ]
        }
      ]
    },
    {
      "cell_type": "markdown",
      "source": [
        "## 연습문제: 몫과 나머지를 구하는 함수 만들기\n",
        "- 소스 코드를 완성하여 x를 y로 나누었을 때의 몫과 나머지가 출력되게 만드시오\n",
        "  + x = 10\n",
        "  + y = 3\n",
        "\n",
        "  + quotient, remainder = get_quotient_remainder(x, y)\n",
        "  + print('몫: {0}, 나머지: {1}'.format(quotient, remainder))\n",
        "\n",
        "  + 실행결과\n",
        "  + 몫: 3, 나머지: 1"
      ],
      "metadata": {
        "id": "ZsLFLnU1X0Y2"
      }
    },
    {
      "cell_type": "code",
      "source": [
        "def get_quoteint_remainder(x, y):\n",
        "  return a // b, a % b"
      ],
      "metadata": {
        "id": "9TkXzWofX8P1"
      },
      "execution_count": null,
      "outputs": []
    },
    {
      "cell_type": "markdown",
      "source": [
        "# 함수에서 위치 인수와 키워드 인수 사용하기\n",
        "## 위치 인수를 사용하는 함수 만들고 호출하기"
      ],
      "metadata": {
        "id": "5jzumLkSY7d9"
      }
    },
    {
      "cell_type": "code",
      "source": [
        "def print_numbers(a, b, c):\n",
        "  print(a)\n",
        "  print(b)\n",
        "  print(c)\n",
        "\n",
        "print_numbers(10, 20, 30)"
      ],
      "metadata": {
        "colab": {
          "base_uri": "https://localhost:8080/"
        },
        "id": "lZkxWgIGZg21",
        "outputId": "043d7439-25a3-4c69-bf70-53ea253f7786"
      },
      "execution_count": null,
      "outputs": [
        {
          "output_type": "stream",
          "name": "stdout",
          "text": [
            "10\n",
            "20\n",
            "30\n"
          ]
        }
      ]
    },
    {
      "cell_type": "markdown",
      "source": [
        "## 언패킹 사용하기\n",
        "- 함수(*리스트)\n",
        "- 함수(*튜플)"
      ],
      "metadata": {
        "id": "W4A0SIXkZtdM"
      }
    },
    {
      "cell_type": "code",
      "source": [
        "x = [10, 20, 30]\n",
        "print_numbers(*x) # 튜플 언패킹\n",
        "\n",
        "print_numbers(*[10, 20, 30])"
      ],
      "metadata": {
        "colab": {
          "base_uri": "https://localhost:8080/"
        },
        "id": "esLlnQ_SZvZ8",
        "outputId": "243a65dd-76f6-4619-9932-98cb1745761d"
      },
      "execution_count": null,
      "outputs": [
        {
          "output_type": "stream",
          "name": "stdout",
          "text": [
            "10\n",
            "20\n",
            "30\n",
            "10\n",
            "20\n",
            "30\n"
          ]
        }
      ]
    },
    {
      "cell_type": "markdown",
      "source": [
        "## 가변 인수 함수 만들기"
      ],
      "metadata": {
        "id": "GCxpn1PGaRBk"
      }
    },
    {
      "cell_type": "code",
      "source": [
        "def print_numbers(*args):\n",
        "  for arg in args:\n",
        "    print(arg)\n",
        "    # arg -> arguments\n",
        "\n",
        "print_numbers(10)\n",
        "print_numbers(10, 20, 30, 40)\n",
        "\n",
        "x = [10]\n",
        "print_numbers(*x)\n",
        "\n",
        "y = [10, 20, 30, 40]\n",
        "print_numbers(*y)"
      ],
      "metadata": {
        "colab": {
          "base_uri": "https://localhost:8080/"
        },
        "id": "1l6GkaXVafcs",
        "outputId": "fca8dac2-e1d4-4243-9d7a-1fb378c5ec97"
      },
      "execution_count": null,
      "outputs": [
        {
          "output_type": "stream",
          "name": "stdout",
          "text": [
            "10\n",
            "10\n",
            "20\n",
            "30\n",
            "40\n",
            "10\n",
            "10\n",
            "20\n",
            "30\n",
            "40\n"
          ]
        }
      ]
    },
    {
      "cell_type": "markdown",
      "source": [
        "## 고정 인수와 가변 인수 함께 사용하기"
      ],
      "metadata": {
        "id": "uPtch04-a_G0"
      }
    },
    {
      "cell_type": "code",
      "source": [
        "def print_numbers(a, *args):\n",
        "  print(a)\n",
        "  print(args)\n",
        "\n",
        "print_numbers(1)\n",
        "\n",
        "print_numbers(1, 10, 20)\n",
        "\n",
        "print_numbers(*[10, 20, 30])"
      ],
      "metadata": {
        "colab": {
          "base_uri": "https://localhost:8080/"
        },
        "id": "t7n6HnqYbB4T",
        "outputId": "933872c3-2143-409d-8b55-7592e9b02204"
      },
      "execution_count": null,
      "outputs": [
        {
          "output_type": "stream",
          "name": "stdout",
          "text": [
            "1\n",
            "()\n",
            "1\n",
            "(10, 20)\n",
            "10\n",
            "(20, 30)\n"
          ]
        }
      ]
    },
    {
      "cell_type": "markdown",
      "source": [
        "## 키워드 인수 사용하기\n",
        "- 함수(키워드 = 값)\n"
      ],
      "metadata": {
        "id": "DsBOoUa4bcUk"
      }
    },
    {
      "cell_type": "code",
      "source": [
        "def personal_info(name, age, address):\n",
        "  print('이름 :', name)\n",
        "  print('나이 :', age)\n",
        "  print('주소 :', address)\n",
        "\n",
        "personal_info(name = '홍길동', age = 30, address = '서울시 용산구 이촌동')"
      ],
      "metadata": {
        "colab": {
          "base_uri": "https://localhost:8080/"
        },
        "id": "bsG8vGfbb4vL",
        "outputId": "bf99cceb-be88-43ba-9d40-a376e02ad03e"
      },
      "execution_count": null,
      "outputs": [
        {
          "output_type": "stream",
          "name": "stdout",
          "text": [
            "이름 : 홍길동\n",
            "나이 : 30\n",
            "주소 : 서울시 용산구 이촌동\n"
          ]
        }
      ]
    },
    {
      "cell_type": "markdown",
      "source": [
        "## 키워드 인수와 딕셔너리 언패킹 사용하기\n",
        "- 함수(**딕셔너리)"
      ],
      "metadata": {
        "id": "86XfnDoxcuxU"
      }
    },
    {
      "cell_type": "code",
      "source": [
        "def personal_info(name, age, address):\n",
        "  print('이름 :', name)\n",
        "  print('나이 :', age)\n",
        "  print('주소 :', address)\n",
        "\n",
        "x = {'name' : '홍길동', 'age' : 30, 'address' : '서울시 용산구 이촌동'}\n",
        "personal_info(**x)"
      ],
      "metadata": {
        "colab": {
          "base_uri": "https://localhost:8080/"
        },
        "id": "u7NfKO2lc2r7",
        "outputId": "ebad350e-6dd3-4286-cb41-580b945b508d"
      },
      "execution_count": null,
      "outputs": [
        {
          "output_type": "stream",
          "name": "stdout",
          "text": [
            "이름 : 홍길동\n",
            "나이 : 30\n",
            "주소 : 서울시 용산구 이촌동\n"
          ]
        }
      ]
    },
    {
      "cell_type": "markdown",
      "source": [
        "## 여기까지 코딩도장 30.3\n",
        "## 나머지 마무리 하기"
      ],
      "metadata": {
        "id": "NCBh9_K_dWCM"
      }
    }
  ]
}