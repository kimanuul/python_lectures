{
  "nbformat": 4,
  "nbformat_minor": 0,
  "metadata": {
    "colab": {
      "name": "day0630_ml.ipynb",
      "provenance": [],
      "include_colab_link": true
    },
    "kernelspec": {
      "name": "python3",
      "display_name": "Python 3"
    },
    "language_info": {
      "name": "python"
    }
  },
  "cells": [
    {
      "cell_type": "markdown",
      "metadata": {
        "id": "view-in-github",
        "colab_type": "text"
      },
      "source": [
        "<a href=\"https://colab.research.google.com/github/kimanuul/python_lectures/blob/main/day0630_ml.ipynb\" target=\"_parent\"><img src=\"https://colab.research.google.com/assets/colab-badge.svg\" alt=\"Open In Colab\"/></a>"
      ]
    },
    {
      "cell_type": "markdown",
      "source": [
        "---\n",
        "title: \"머신러닝\"\n",
        "date: '2022-06-30'\n",
        "---"
      ],
      "metadata": {
        "id": "lavUYu2wYqAj"
      }
    },
    {
      "cell_type": "markdown",
      "source": [
        "## 파이썬 주요 라이브러리\n",
        "- Machine Learning\n",
        "  + 정형데이터 \n",
        "  + 사이킷런 (Scikit-Learn)\n",
        "- Deep Learning\n",
        "  + 비정형데이터\n",
        "  + Tensorflow(구글) vs Pytorch(페이스북)\n",
        "  + 혼공머 : Tensorflow \n",
        "  + 실제 상용서비스 - Tensorflow vs R&D - Pytorch"
      ],
      "metadata": {
        "id": "1uTHDQWKH724"
      }
    },
    {
      "cell_type": "markdown",
      "source": [
        "## 생선분류 \n",
        "- p.45\n",
        "- 도미, 곤들매기, 농어, 등등 \n",
        "- 이 생선들을 프로그램으로 분류한다. "
      ],
      "metadata": {
        "id": "A4C0qKBVO9IH"
      }
    },
    {
      "cell_type": "markdown",
      "source": [
        "- 30cm 도미라고 알려줘라"
      ],
      "metadata": {
        "id": "W31M1LMPQRqW"
      }
    },
    {
      "cell_type": "code",
      "execution_count": 1,
      "metadata": {
        "colab": {
          "base_uri": "https://localhost:8080/"
        },
        "id": "UKNgb_WFHikV",
        "outputId": "2cead8ff-faee-44b9-dee5-90e566e151be"
      },
      "outputs": [
        {
          "output_type": "stream",
          "name": "stdout",
          "text": [
            "도미\n"
          ]
        }
      ],
      "source": [
        "fish_length = 31\n",
        "if fish_length >= 30:\n",
        "    print(\"도미\")"
      ]
    },
    {
      "cell_type": "markdown",
      "source": [
        "- p.47\n",
        "- 도미데이터"
      ],
      "metadata": {
        "id": "BKMMJiaFQlII"
      }
    },
    {
      "cell_type": "markdown",
      "source": [
        "## 데이터 수집"
      ],
      "metadata": {
        "id": "BbONi1qqQ4Bb"
      }
    },
    {
      "cell_type": "code",
      "source": [
        "# 도미의 길이\n",
        "bream_length = [25.4, 26.3, 26.5, 29.0, 29.0, 29.7, 29.7, 30.0, 30.0, 30.7, 31.0, 31.0, 31.5, 32.0, 32.0, 32.0, 33.0, 33.0, 33.5, 33.5, 34.0, 34.0, 34.5, 35.0, 35.0, 35.0, 35.0, 36.0, 36.0, 37.0, 38.5, 38.5, 39.5, 41.0, 41.0]\n",
        "\n",
        "# 도미의 무게\n",
        "bream_weight = [242.0, 290.0, 340.0, 363.0, 430.0, 450.0, 500.0, 390.0, 450.0, 500.0, 475.0, 500.0, 500.0, 340.0, 600.0, 600.0, 700.0, 700.0, 610.0, 650.0, 575.0, 685.0, 620.0, 680.0, 700.0, 725.0, 720.0, 714.0, 850.0, 1000.0, 920.0, 955.0, 925.0, 975.0, 950.0]"
      ],
      "metadata": {
        "id": "DlvkGWElQuJL"
      },
      "execution_count": 2,
      "outputs": []
    },
    {
      "cell_type": "markdown",
      "source": [
        "## 데이터 가공\n",
        "- 여기서는 생략"
      ],
      "metadata": {
        "id": "ySSQTuKXQ63v"
      }
    },
    {
      "cell_type": "markdown",
      "source": [
        "## 데이터 시각화\n",
        "- 여러 인사이트 확인 위해 시각화, 통계 수치 계산\n",
        "- 탐색적 자료 분석(EDA : Exploratory Data Analysis)\n",
        "- 얘는 참고만 한다. "
      ],
      "metadata": {
        "id": "roZCx-bHRAUM"
      }
    },
    {
      "cell_type": "code",
      "source": [
        "import matplotlib.pyplot as plt\n",
        "\n",
        "plt.scatter(bream_length, bream_weight)\n",
        "plt.xlabel('length')\n",
        "plt.ylabel('weight')\n",
        "plt.show()"
      ],
      "metadata": {
        "colab": {
          "base_uri": "https://localhost:8080/",
          "height": 279
        },
        "id": "xeDjDNyZRX26",
        "outputId": "f082c10b-477d-4f9e-e702-4d622b462357"
      },
      "execution_count": 3,
      "outputs": [
        {
          "output_type": "display_data",
          "data": {
            "text/plain": [
              "<Figure size 432x288 with 1 Axes>"
            ],
            "image/png": "[encoded data removed]"
          },
          "metadata": {
            "needs_background": "light"
          }
        }
      ]
    },
    {
      "cell_type": "markdown",
      "source": [
        "- 파이썬 시각화는 객체지향으로 한다. \n",
        "- 이유 : 좀 더 이쁘고, 아름답게 다듬으려면... \n",
        "- 캐글 시각화, 참고할 때, 아래와 같이 하는 분들이 많음"
      ],
      "metadata": {
        "id": "I7RJqmXJSnEK"
      }
    },
    {
      "cell_type": "code",
      "source": [
        "import matplotlib.pyplot as plt\n",
        "\n",
        "fig, ax = plt.subplots()\n",
        "ax.scatter(bream_length, bream_weight)\n",
        "ax.set_xlabel('length')\n",
        "ax.set_ylabel('weight')\n",
        "plt.show()"
      ],
      "metadata": {
        "colab": {
          "base_uri": "https://localhost:8080/",
          "height": 279
        },
        "id": "6dKQHr_sSU4X",
        "outputId": "15882410-07bd-48d5-9d2f-c68af9ab0938"
      },
      "execution_count": 4,
      "outputs": [
        {
          "output_type": "display_data",
          "data": {
            "text/plain": [
              "<Figure size 432x288 with 1 Axes>"
            ],
            "image/png": "[encoded data removed]"
          },
          "metadata": {
            "needs_background": "light"
          }
        }
      ]
    },
    {
      "cell_type": "markdown",
      "source": [
        "- 빙어 데이터 준비하기"
      ],
      "metadata": {
        "id": "ZRr57GU_Tl8t"
      }
    },
    {
      "cell_type": "code",
      "source": [
        "smelt_length = [9.8, 10.5, 10.6, 11.0, 11.2, 11.3, 11.8, 11.8, 12.0, 12.2, 12.4, 13.0, 14.3, 15.0]\n",
        "smelt_weight = [6.7, 7.5, 7.0, 9.7, 9.8, 8.7, 10.0, 9.9, 9.8, 12.2, 13.4, 12.2, 19.7, 19.9]"
      ],
      "metadata": {
        "id": "P5kucXTQToXr"
      },
      "execution_count": 5,
      "outputs": []
    },
    {
      "cell_type": "markdown",
      "source": [
        "- 시각화 \n",
        "- p.50 시각화"
      ],
      "metadata": {
        "id": "Qr567hJETslZ"
      }
    },
    {
      "cell_type": "code",
      "source": [
        "fig, ax = plt.subplots()\n",
        "ax.scatter(bream_length, bream_weight)\n",
        "ax.scatter(smelt_length, smelt_weight)\n",
        "ax.set_xlabel('length')\n",
        "ax.set_ylabel('weight')\n",
        "plt.show()"
      ],
      "metadata": {
        "colab": {
          "base_uri": "https://localhost:8080/",
          "height": 279
        },
        "id": "_y522TEtT0KW",
        "outputId": "c1f9a623-e1b1-4a44-8608-f676ee5709d6"
      },
      "execution_count": 6,
      "outputs": [
        {
          "output_type": "display_data",
          "data": {
            "text/plain": [
              "<Figure size 432x288 with 1 Axes>"
            ],
            "image/png": "[encoded data removed]"
          },
          "metadata": {
            "needs_background": "light"
          }
        }
      ]
    },
    {
      "cell_type": "markdown",
      "source": [
        "- 두개의 리스트 합치기"
      ],
      "metadata": {
        "id": "npYdg_yDVI0o"
      }
    },
    {
      "cell_type": "code",
      "source": [
        "length = bream_length + smelt_length \n",
        "weight = bream_weight + smelt_weight "
      ],
      "metadata": {
        "id": "by5U-bG8VNMe"
      },
      "execution_count": 7,
      "outputs": []
    },
    {
      "cell_type": "markdown",
      "source": [
        "- 2차원 리스트로 만든다. "
      ],
      "metadata": {
        "id": "6yC4Jk00VZJM"
      }
    },
    {
      "cell_type": "code",
      "source": [
        "fish_data = [[l, w] for l, w in zip(length, weight)]\n",
        "fish_data[0:5]"
      ],
      "metadata": {
        "colab": {
          "base_uri": "https://localhost:8080/"
        },
        "id": "r2caoyL4Va2f",
        "outputId": "bde89ee1-5935-4c90-8cff-ebecbac5284a"
      },
      "execution_count": 8,
      "outputs": [
        {
          "output_type": "execute_result",
          "data": {
            "text/plain": [
              "[[25.4, 242.0], [26.3, 290.0], [26.5, 340.0], [29.0, 363.0], [29.0, 430.0]]"
            ]
          },
          "metadata": {},
          "execution_count": 8
        }
      ]
    },
    {
      "cell_type": "markdown",
      "source": [
        "- 라벨링을 해준다 = 지도 해준다 = 지도학습"
      ],
      "metadata": {
        "id": "PDK0OJBuWHB3"
      }
    },
    {
      "cell_type": "code",
      "source": [
        "fish_target = [1] * 35 + [0] * 14\n",
        "print(fish_target)"
      ],
      "metadata": {
        "colab": {
          "base_uri": "https://localhost:8080/"
        },
        "id": "hrpcVqB4XJYf",
        "outputId": "fd00bc73-58d3-44bc-a4eb-b43e0d9dfeab"
      },
      "execution_count": 9,
      "outputs": [
        {
          "output_type": "stream",
          "name": "stdout",
          "text": [
            "[1, 1, 1, 1, 1, 1, 1, 1, 1, 1, 1, 1, 1, 1, 1, 1, 1, 1, 1, 1, 1, 1, 1, 1, 1, 1, 1, 1, 1, 1, 1, 1, 1, 1, 1, 0, 0, 0, 0, 0, 0, 0, 0, 0, 0, 0, 0, 0, 0]\n"
          ]
        }
      ]
    },
    {
      "cell_type": "markdown",
      "source": [
        "## 모델링"
      ],
      "metadata": {
        "id": "sPRHqSsTXWvM"
      }
    },
    {
      "cell_type": "code",
      "source": [
        "from sklearn.neighbors import KNeighborsClassifier\n",
        "\n",
        "# 클래스 인스턴스화\n",
        "kn = KNeighborsClassifier()\n",
        "\n",
        "# 모형 학습\n",
        "#       독립변수, 종속변수\n",
        "kn.fit(fish_data, fish_target)"
      ],
      "metadata": {
        "colab": {
          "base_uri": "https://localhost:8080/"
        },
        "id": "atyE8ktnXZqh",
        "outputId": "4547741d-a96a-480c-ab21-e577dae20717"
      },
      "execution_count": 10,
      "outputs": [
        {
          "output_type": "execute_result",
          "data": {
            "text/plain": [
              "KNeighborsClassifier()"
            ]
          },
          "metadata": {},
          "execution_count": 10
        }
      ]
    },
    {
      "cell_type": "code",
      "source": [
        "# 예측 정확도\n",
        "kn.score(fish_data, fish_target)"
      ],
      "metadata": {
        "colab": {
          "base_uri": "https://localhost:8080/"
        },
        "id": "RJNWsXOLYfBj",
        "outputId": "87e2df32-46aa-4733-dea0-dd917ee04eb6"
      },
      "execution_count": 11,
      "outputs": [
        {
          "output_type": "execute_result",
          "data": {
            "text/plain": [
              "1.0"
            ]
          },
          "metadata": {},
          "execution_count": 11
        }
      ]
    },
    {
      "cell_type": "markdown",
      "source": [
        "- 실제 예측을 해보자\n",
        "- 새로운 물고기 도착했습니다. \n",
        "  + 길이 : 30, 몸무게 : 600"
      ],
      "metadata": {
        "id": "FPou8kc7YpZZ"
      }
    },
    {
      "cell_type": "code",
      "source": [
        "ac_length = int(input(\"물고기 길이를 입력하세요...\"))\n",
        "ac_weight = int(input(\"물고기 무게를 입력하세요...\"))\n",
        "\n",
        "preds = int(kn.predict([[ac_length, ac_weight]]))\n",
        "print(preds)\n",
        "\n",
        "if preds == 1:\n",
        "  print(\"도미\")\n",
        "else:\n",
        "  print(\"빙어\")\n"
      ],
      "metadata": {
        "id": "14iVVtXeYzXv"
      },
      "execution_count": null,
      "outputs": []
    },
    {
      "cell_type": "markdown",
      "source": [
        "## 새로운 모델 제안\n",
        "- Default : 정확도 100%\n",
        "- 제안 : 정확도 71%\n",
        "\n",
        "---> 실험 단계\n"
      ],
      "metadata": {
        "id": "9lH3ufcAI09o"
      }
    },
    {
      "cell_type": "code",
      "source": [
        "def add(a = 1, b = 0):\n",
        "  return a + b \n",
        "add()"
      ],
      "metadata": {
        "id": "OFqqSm6UJ-vp"
      },
      "execution_count": null,
      "outputs": []
    },
    {
      "cell_type": "markdown",
      "source": [
        "- 하이퍼 파라미터 세팅\n",
        "  + n_neighbors = 49\n",
        "\n",
        "- default : 100%\n"
      ],
      "metadata": {
        "id": "zbnFkpuRKVu4"
      }
    },
    {
      "cell_type": "markdown",
      "source": [
        "## 머신러닝 알고리즘 두개의 흐름\n",
        "- 선형 모델 : 선형회귀, 로지스틱 회귀,서포트 벡터 머신\n",
        "- 의사결정트리 모델 : 1975년 의사결정트리 모델, KNN, \n",
        "  + 랜덤포레스트\n",
        "  + 부스팅계열 : LightGBM(2017), XGBoost(2016)\n",
        "\n",
        "- 선형회귀, 로지스틱회귀, 랜덤포레스트, LightGBM(=XGBoost)"
      ],
      "metadata": {
        "id": "qKvZB5I3LqB7"
      }
    },
    {
      "cell_type": "code",
      "source": [
        "kn49 = KNeighborsClassifier(n_neighbors=49)\n",
        "kn49.fit(fish_data, fish_target)\n",
        "kn49.score(fish_data, fish_target)"
      ],
      "metadata": {
        "id": "a7XNAYytI0zV"
      },
      "execution_count": null,
      "outputs": []
    },
    {
      "cell_type": "markdown",
      "source": [
        "## 훈련 세트와 테스트 세트\n"
      ],
      "metadata": {
        "id": "MNY4W48kNguv"
      }
    },
    {
      "cell_type": "code",
      "source": [
        "fish_length = [25.4, 26.3, 26.5, 29.0, 29.0, 29.7, 29.7, 30.0, 30.0, 30.7, 31.0, 31.0, \n",
        "                31.5, 32.0, 32.0, 32.0, 33.0, 33.0, 33.5, 33.5, 34.0, 34.0, 34.5, 35.0, \n",
        "                35.0, 35.0, 35.0, 36.0, 36.0, 37.0, 38.5, 38.5, 39.5, 41.0, 41.0, 9.8, \n",
        "                10.5, 10.6, 11.0, 11.2, 11.3, 11.8, 11.8, 12.0, 12.2, 12.4, 13.0, 14.3, 15.0]\n",
        "fish_weight = [242.0, 290.0, 340.0, 363.0, 430.0, 450.0, 500.0, 390.0, 450.0, 500.0, 475.0, 500.0, \n",
        "                500.0, 340.0, 600.0, 600.0, 700.0, 700.0, 610.0, 650.0, 575.0, 685.0, 620.0, 680.0, \n",
        "                700.0, 725.0, 720.0, 714.0, 850.0, 1000.0, 920.0, 955.0, 925.0, 975.0, 950.0, 6.7, \n",
        "                7.5, 7.0, 9.7, 9.8, 8.7, 10.0, 9.9, 9.8, 12.2, 13.4, 12.2, 19.7, 19.9]"
      ],
      "metadata": {
        "id": "fNpfHU17OQpT"
      },
      "execution_count": null,
      "outputs": []
    },
    {
      "cell_type": "markdown",
      "source": [
        "- 2차원 파이썬 리스트 \n",
        "- 라벨링"
      ],
      "metadata": {
        "id": "yUgoD139OTlf"
      }
    },
    {
      "cell_type": "code",
      "source": [
        "fish_data = [[l, w] for l, w in zip(fish_length, fish_weight)]\n",
        "fish_target = [1] * 35 + [0] * 14\n",
        "print(fish_target[0:40:5])\n",
        "print(fish_data[0:40:5])"
      ],
      "metadata": {
        "id": "nlEvFNcgOW8C"
      },
      "execution_count": null,
      "outputs": []
    },
    {
      "cell_type": "markdown",
      "source": [
        "- Sample \n",
        "- 도미 35마리, 빙어 14마리\n",
        "- 49개의 샘플 존재\n",
        "- 처음 35개를 훈련 / 나머지 14개를 테스트"
      ],
      "metadata": {
        "id": "ItEM6AShO5CK"
      }
    },
    {
      "cell_type": "code",
      "source": [
        "from sklearn.neighbors import KNeighborsClassifier\n",
        "\n",
        "# 클래스 인스턴스화\n",
        "kn = KNeighborsClassifier()\n",
        "\n",
        "# 훈련 세트로 0:34 인덱스 활용\n",
        "train_input = fish_data[:35]\n",
        "train_target = fish_target[:35]\n",
        "\n",
        "# 테스 세트로 35:마지막 인덱스 활용\n",
        "test_input = fish_data[35:]\n",
        "test_target = fish_target[35:]\n",
        "\n",
        "# 모형 학습\n",
        "kn = kn.fit(train_input, train_target)\n",
        "print(kn.score(test_input, test_target))"
      ],
      "metadata": {
        "id": "YXMSCIU0PPpa"
      },
      "execution_count": null,
      "outputs": []
    },
    {
      "cell_type": "markdown",
      "source": [
        "- 샘플링 편향\n",
        "- 훈련 세트와 테스트 세트가 골고루 섞이지 않음"
      ],
      "metadata": {
        "id": "3VYO1aFJQvwx"
      }
    },
    {
      "cell_type": "markdown",
      "source": [
        "## 샘플링 작업"
      ],
      "metadata": {
        "id": "APrfi_HRQ88S"
      }
    },
    {
      "cell_type": "code",
      "source": [
        "import numpy as np \n",
        "\n",
        "input_arr = np.array(fish_data)\n",
        "target_arr = np.array(fish_target)\n",
        "print(input_arr[0:49:7])\n",
        "print(input_arr.shape, target_arr.shape) "
      ],
      "metadata": {
        "id": "iM17fX2vQ_lG"
      },
      "execution_count": null,
      "outputs": []
    },
    {
      "cell_type": "code",
      "source": [
        "# random으로 무작위 배열을 만들거나 설정... \n",
        "np.random.seed(42)\n",
        "index = np.arange(49)\n",
        "np.random.shuffle(index)\n",
        "print(index)"
      ],
      "metadata": {
        "id": "bwEolSQkRowW"
      },
      "execution_count": null,
      "outputs": []
    },
    {
      "cell_type": "code",
      "source": [
        "print(index)"
      ],
      "metadata": {
        "id": "nMV7WqIpSJQV"
      },
      "execution_count": null,
      "outputs": []
    },
    {
      "cell_type": "markdown",
      "source": [
        "- 교재 77p "
      ],
      "metadata": {
        "id": "YRL54nwXSUiN"
      }
    },
    {
      "cell_type": "code",
      "source": [
        "train_input = input_arr[index[:35]]\n",
        "train_target = target_arr[index[:35]]\n",
        "\n",
        "test_input = input_arr[index[35:]]\n",
        "test_target = target_arr[index[35:]]"
      ],
      "metadata": {
        "id": "4SXJ8F7eSXK0"
      },
      "execution_count": null,
      "outputs": []
    },
    {
      "cell_type": "markdown",
      "source": [
        "## 시각화 "
      ],
      "metadata": {
        "id": "VT_51wqqW1pP"
      }
    },
    {
      "cell_type": "code",
      "source": [
        "train_input[:1]"
      ],
      "metadata": {
        "id": "Y8VNVLZUXKnZ"
      },
      "execution_count": null,
      "outputs": []
    },
    {
      "cell_type": "code",
      "source": [
        "train_input[:, 0]  # 길이 리스트\n"
      ],
      "metadata": {
        "id": "0zgJZFL0XV7X"
      },
      "execution_count": null,
      "outputs": []
    },
    {
      "cell_type": "code",
      "source": [
        "import matplotlib.pyplot as plt  \n",
        "fig, ax = plt.subplots()\n",
        "ax.scatter(train_input[:, 0], train_input[:, 1])\n",
        "ax.scatter(test_input[:, 0], test_input[:, 1])\n",
        "ax.set_xlabel(\"length\")\n",
        "ax.set_ylabel(\"weight\")\n",
        "plt.show()"
      ],
      "metadata": {
        "id": "0Q8QkmyQW2rb"
      },
      "execution_count": null,
      "outputs": []
    },
    {
      "cell_type": "markdown",
      "source": [
        "## 두번째 머신러닝 프로그램"
      ],
      "metadata": {
        "id": "F_HRZUm0X24_"
      }
    },
    {
      "cell_type": "code",
      "source": [
        "kn.fit(train_input, train_target)\n",
        "kn.score(test_input, test_target)"
      ],
      "metadata": {
        "id": "Qm8eSVHLX5Sb"
      },
      "execution_count": null,
      "outputs": []
    },
    {
      "cell_type": "code",
      "source": [
        "kn.predict(test_input) # 예측 데이터"
      ],
      "metadata": {
        "id": "wVXauc14YFN3"
      },
      "execution_count": null,
      "outputs": []
    },
    {
      "cell_type": "code",
      "source": [
        "test_target # 실제 데이터"
      ],
      "metadata": {
        "id": "_llM-42sYHRl"
      },
      "execution_count": null,
      "outputs": []
    },
    {
      "cell_type": "markdown",
      "source": [
        "## 데이터 전처리\n",
        "- 머신러닝 시, 데이터 전처리\n",
        "- 결측치 처리, 이상치 처리 "
      ],
      "metadata": {
        "id": "lve33ZoNa0cY"
      }
    },
    {
      "cell_type": "markdown",
      "source": [
        "### 데이터 불러오기 "
      ],
      "metadata": {
        "id": "YoLP_4OSbZTa"
      }
    },
    {
      "cell_type": "code",
      "source": [
        "fish_length = [25.4, 26.3, 26.5, 29.0, 29.0, 29.7, 29.7, 30.0, 30.0, 30.7, 31.0, 31.0, \n",
        "                31.5, 32.0, 32.0, 32.0, 33.0, 33.0, 33.5, 33.5, 34.0, 34.0, 34.5, 35.0, \n",
        "                35.0, 35.0, 35.0, 36.0, 36.0, 37.0, 38.5, 38.5, 39.5, 41.0, 41.0, 9.8, \n",
        "                10.5, 10.6, 11.0, 11.2, 11.3, 11.8, 11.8, 12.0, 12.2, 12.4, 13.0, 14.3, 15.0]\n",
        "fish_weight = [242.0, 290.0, 340.0, 363.0, 430.0, 450.0, 500.0, 390.0, 450.0, 500.0, 475.0, 500.0, \n",
        "                500.0, 340.0, 600.0, 600.0, 700.0, 700.0, 610.0, 650.0, 575.0, 685.0, 620.0, 680.0, \n",
        "                700.0, 725.0, 720.0, 714.0, 850.0, 1000.0, 920.0, 955.0, 925.0, 975.0, 950.0, 6.7, \n",
        "                7.5, 7.0, 9.7, 9.8, 8.7, 10.0, 9.9, 9.8, 12.2, 13.4, 12.2, 19.7, 19.9]"
      ],
      "metadata": {
        "id": "r7tiQYl3bY0t"
      },
      "execution_count": null,
      "outputs": []
    },
    {
      "cell_type": "code",
      "source": [
        "# column_stack() 활용\n",
        "np.column_stack(([1, 2, 3], [4, 5, 6]))"
      ],
      "metadata": {
        "id": "5YupHTs9bhPU"
      },
      "execution_count": null,
      "outputs": []
    },
    {
      "cell_type": "markdown",
      "source": [
        "- 독립변수"
      ],
      "metadata": {
        "id": "US7v-60VcKZ9"
      }
    },
    {
      "cell_type": "code",
      "source": [
        "fish_data = np.column_stack((fish_length, fish_weight))\n",
        "print(fish_data[:5])"
      ],
      "metadata": {
        "id": "2d-gDqWVb_pV"
      },
      "execution_count": null,
      "outputs": []
    },
    {
      "cell_type": "markdown",
      "source": [
        "- 종속변수 = Y = 타깃 데이터 = Target"
      ],
      "metadata": {
        "id": "gOIzihV-cNeA"
      }
    },
    {
      "cell_type": "code",
      "source": [
        "fish_target = np.concatenate((np.ones(35), np.zeros(14)))\n",
        "print(fish_target)"
      ],
      "metadata": {
        "id": "Kyi3tOF9cM2T"
      },
      "execution_count": null,
      "outputs": []
    },
    {
      "cell_type": "markdown",
      "source": [
        "### scikit-learn 훈련세트와 테스트 세트 나누기  "
      ],
      "metadata": {
        "id": "Cn6puEMPfVoK"
      }
    },
    {
      "cell_type": "code",
      "source": [
        "from sklearn.model_selection import train_test_split\n",
        "train_input, test_input, train_target, test_target = train_test_split(\n",
        "    # 독립변수, 종속변수\n",
        "    fish_data, fish_target, random_state = 42\n",
        ")\n",
        "\n",
        "train_input.shape, test_input.shape, train_target.shape, test_target.shape"
      ],
      "metadata": {
        "id": "6hrKuyJEfbZe"
      },
      "execution_count": null,
      "outputs": []
    },
    {
      "cell_type": "markdown",
      "source": [
        "- p.92 도미와 빙어가 잘 섞여 있냐? "
      ],
      "metadata": {
        "id": "VWHrxwjr9wYo"
      }
    },
    {
      "cell_type": "code",
      "source": [
        "print(test_target)"
      ],
      "metadata": {
        "id": "f_8jZUfl9zUR"
      },
      "execution_count": null,
      "outputs": []
    },
    {
      "cell_type": "markdown",
      "source": [
        "- 35(도미) :14 (빙어)\n",
        "  + 2.5 : 1 \n",
        "- 테스트 셋 (비율) \n",
        "  + 3.3 : 1 \n"
      ],
      "metadata": {
        "id": "muFSzRp697M0"
      }
    },
    {
      "cell_type": "markdown",
      "source": [
        "## 층화샘플링\n",
        "- 기초 통계, 설문조사\n",
        "- 비율\n",
        "- 여론조사\n",
        "  + 남성 속옷을 구매하는 비율 (남자 9, 여자 1) \n",
        "  + 신제품 (남자 5, 여자 5)\n",
        "  "
      ],
      "metadata": {
        "id": "sPikuqXM-url"
      }
    },
    {
      "cell_type": "code",
      "source": [
        "train_input, test_input, train_target, test_target = train_test_split(\n",
        "    # 독립변수, 종속변수\n",
        "    fish_data, fish_target, stratify=fish_target, random_state = 42\n",
        ")\n",
        "\n",
        "train_input.shape, test_input.shape, train_target.shape, test_target.shape"
      ],
      "metadata": {
        "id": "WDXyV6nK-oDN"
      },
      "execution_count": null,
      "outputs": []
    },
    {
      "cell_type": "code",
      "source": [
        "print(test_target)"
      ],
      "metadata": {
        "id": "j0vW8YR0-35L"
      },
      "execution_count": null,
      "outputs": []
    },
    {
      "cell_type": "markdown",
      "source": [
        "- 테스트 세트의 비율이 2.25:1 \n"
      ],
      "metadata": {
        "id": "MDV6r2x8-75f"
      }
    },
    {
      "cell_type": "markdown",
      "source": [
        "## 수상한 도미 한 마리\n",
        "- "
      ],
      "metadata": {
        "id": "cgrGbiK6Ao4d"
      }
    },
    {
      "cell_type": "code",
      "source": [
        "from sklearn.neighbors import KNeighborsClassifier\n",
        "kn = KNeighborsClassifier()\n",
        "kn.fit(train_input, train_target) \n",
        "kn.score(test_input, test_target) "
      ],
      "metadata": {
        "id": "S5cFfokQAu-O"
      },
      "execution_count": null,
      "outputs": []
    },
    {
      "cell_type": "markdown",
      "source": [
        "- 도미 사이즈 20cm 이상 = 1\n",
        "- 빙어 사이즈 10cm 이하 = 0"
      ],
      "metadata": {
        "id": "gGnV6r7KBDTa"
      }
    },
    {
      "cell_type": "code",
      "source": [
        "print(kn.predict([[25, 150]]))"
      ],
      "metadata": {
        "id": "o4bt0_tRA87A"
      },
      "execution_count": null,
      "outputs": []
    },
    {
      "cell_type": "code",
      "source": [
        "import matplotlib.pyplot as plt\n",
        "fig, ax = plt.subplots()\n",
        "ax.scatter(train_input[: , 0], train_input[: , 1])\n",
        "ax.scatter(25, 150, marker = '^')\n",
        "plt.show()"
      ],
      "metadata": {
        "id": "0K7UOwj6BPh_"
      },
      "execution_count": null,
      "outputs": []
    },
    {
      "cell_type": "markdown",
      "source": [
        "- 알고리즘 문제\n",
        "- "
      ],
      "metadata": {
        "id": "VZuY1C5WENcz"
      }
    },
    {
      "cell_type": "code",
      "source": [
        "distances, indexes = kn.kneighbors([[25, 150]])\n",
        "plt.scatter(train_input[:,0], train_input[:,1])\n",
        "plt.scatter(25, 150, marker='^')\n",
        "plt.scatter(train_input[indexes,0], train_input[indexes,1], marker='D')\n",
        "plt.xlabel('length')\n",
        "plt.ylabel('weight')\n",
        "plt.show()"
      ],
      "metadata": {
        "id": "DnLETHyLEPzK"
      },
      "execution_count": null,
      "outputs": []
    },
    {
      "cell_type": "code",
      "source": [
        "plt.scatter(train_input[:,0], train_input[:,1])\n",
        "plt.scatter(25, 150, marker='^')\n",
        "plt.scatter(train_input[indexes,0], train_input[indexes,1], marker='D')\n",
        "plt.xlim((0, 1000))\n",
        "plt.xlabel('length')\n",
        "plt.ylabel('weight')\n",
        "plt.show()"
      ],
      "metadata": {
        "id": "4ZYY2HXIE9-7"
      },
      "execution_count": null,
      "outputs": []
    },
    {
      "cell_type": "markdown",
      "source": [
        "- p,98\n",
        "- 두 특성(길이와 무게)의 값이 놓인 범위가 매우 다름\n",
        "- 두 특성의 스케일이 다름\n",
        "  + 스케일이 같도록 통계 처리 필요\n",
        "  + Feature Engineering (피처 엔지니어링)\n",
        "- 머신러닝\n",
        "  + 전체 데이터 전처리 (결측치 처리, 이상치 처리)\n",
        "  + 데이터 분리\n",
        "  + Featuere Engineering"
      ],
      "metadata": {
        "id": "jIViV5q8FnhT"
      }
    },
    {
      "cell_type": "markdown",
      "source": [
        "### 표준점수\n",
        "- z 점수"
      ],
      "metadata": {
        "id": "Gad0JiyrGTKC"
      }
    },
    {
      "cell_type": "code",
      "source": [
        "mean = np.mean(train_input, axis = 0)\n",
        "std = np.std(train_input, axis = 0)\n",
        "\n",
        "print(mean, std)"
      ],
      "metadata": {
        "id": "DgqcJj24Gc-r"
      },
      "execution_count": null,
      "outputs": []
    },
    {
      "cell_type": "markdown",
      "source": [
        "- 표준 점수 구하기"
      ],
      "metadata": {
        "id": "YhsBBtV7Gym7"
      }
    },
    {
      "cell_type": "code",
      "source": [
        "# 브로드 캐스팅 -> 서로 다른 배열을 계산할 때\n",
        "print(train_input.shape, mean.shape, std.shape)\n",
        "train_scaled = (train_input - mean) / std"
      ],
      "metadata": {
        "id": "2UvF_kmnG0qK"
      },
      "execution_count": null,
      "outputs": []
    },
    {
      "cell_type": "code",
      "source": [
        "train_input[0:5]"
      ],
      "metadata": {
        "id": "c9eWt-FtLatQ"
      },
      "execution_count": null,
      "outputs": []
    },
    {
      "cell_type": "code",
      "source": [
        "train_scaled[0:5]"
      ],
      "metadata": {
        "id": "h6dWSxStLVgJ"
      },
      "execution_count": null,
      "outputs": []
    },
    {
      "cell_type": "code",
      "source": [
        "plt.scatter(train_scaled[:,0], train_scaled[:,1])\n",
        "plt.scatter(25, 150, marker='^')\n",
        "plt.xlabel('length')\n",
        "plt.ylabel('weight')\n",
        "plt.show()"
      ],
      "metadata": {
        "id": "c4XELGMKHW7U"
      },
      "execution_count": null,
      "outputs": []
    },
    {
      "cell_type": "code",
      "source": [
        "new = ([25, 150] - mean) / std\n",
        "plt.scatter(train_scaled[:,0], train_scaled[:,1])\n",
        "plt.scatter(new[0], new[1], marker='^')\n",
        "plt.xlabel('length')\n",
        "plt.ylabel('weight')\n",
        "plt.show()"
      ],
      "metadata": {
        "id": "J9lof9_rHlIb"
      },
      "execution_count": null,
      "outputs": []
    },
    {
      "cell_type": "markdown",
      "source": [
        "통계처리 전 : KNN -> 예측이 틀림\n",
        "통계처리 후 : KNN -> 예측이 정확하게 맞음\n",
        "-- 통계처리 --> Feature Engineering"
      ],
      "metadata": {
        "id": "x2O933qUH3Ey"
      }
    },
    {
      "cell_type": "markdown",
      "source": [
        "- 모형학"
      ],
      "metadata": {
        "id": "qTeW16vOLukI"
      }
    },
    {
      "cell_type": "code",
      "source": [
        "kn.fit(train_scaled, train_target)"
      ],
      "metadata": {
        "id": "qJ2Eb2AwLv_w"
      },
      "execution_count": null,
      "outputs": []
    },
    {
      "cell_type": "code",
      "source": [
        "# kn.score(test_input, test_target) -> 스케일 안 됐기 때문에 사용x\n",
        "test_scaled = (test_input - mean) / std\n",
        "kn.score(test_scaled, test_target)"
      ],
      "metadata": {
        "id": "HbjoDNLgMB2Z"
      },
      "execution_count": null,
      "outputs": []
    },
    {
      "cell_type": "markdown",
      "source": [
        "- 예측"
      ],
      "metadata": {
        "id": "pIS21Zj1Mmj4"
      }
    },
    {
      "cell_type": "code",
      "source": [
        "print(kn.predict([new]))"
      ],
      "metadata": {
        "id": "jvsS4TbCMok_"
      },
      "execution_count": null,
      "outputs": []
    },
    {
      "cell_type": "code",
      "source": [
        "distances, indexes = kn.kneighbors([new])\n",
        "plt.scatter(train_scaled[:,0], train_scaled[:,1])\n",
        "plt.scatter(new[0], new[1], marker='^')\n",
        "plt.scatter(train_scaled[indexes,0], train_scaled[indexes,1], marker='D')\n",
        "plt.xlabel('length')\n",
        "plt.ylabel('weight')\n",
        "plt.show()"
      ],
      "metadata": {
        "id": "dD2DaCGLM45A"
      },
      "execution_count": null,
      "outputs": []
    }
  ]
}