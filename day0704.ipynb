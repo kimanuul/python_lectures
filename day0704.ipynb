{
  "nbformat": 4,
  "nbformat_minor": 0,
  "metadata": {
    "colab": {
      "name": "day0704.ipynb",
      "provenance": [],
      "collapsed_sections": [],
      "authorship_tag": "ABX9TyM7CEHG+K8ejvUcbDyRLg85",
      "include_colab_link": true
    },
    "kernelspec": {
      "name": "python3",
      "display_name": "Python 3"
    },
    "language_info": {
      "name": "python"
    }
  },
  "cells": [
    {
      "cell_type": "markdown",
      "metadata": {
        "id": "view-in-github",
        "colab_type": "text"
      },
      "source": [
        "<a href=\"https://colab.research.google.com/github/kimanuul/python_lectures/blob/main/day0704.ipynb\" target=\"_parent\"><img src=\"https://colab.research.google.com/assets/colab-badge.svg\" alt=\"Open In Colab\"/></a>"
      ]
    },
    {
      "cell_type": "markdown",
      "source": [
        "---\n",
        "title: \"확률적 경사 하강법\"\n",
        "date: '2022-07-04'\n",
        "---"
      ],
      "metadata": {
        "id": "52SFpQhhnfTR"
      }
    },
    {
      "cell_type": "markdown",
      "source": [
        "## 확률적 경사 하강법\n",
        "- 점진적 학습(step, 보폭\n",
        "- 학습률\n",
        "- XGBoost, LightGBM, 딥러닝(이미지 분류, 자연어 처리, 옵티마이저)"
      ],
      "metadata": {
        "id": "K9-mmnmtnmyr"
      }
    },
    {
      "cell_type": "markdown",
      "source": [
        "###\n",
        "- 신경망 이미지 데이터, 자연어\n",
        "- 자율주행 하루 데이터 1TB --> 학습\n",
        "- 한꺼번에 다 모델을 학습 어려움\n",
        "  + 샘플링, 배치, 에포크, 오차(=손실, loss)가 가장 적은 지점을 찾아야 함\n",
        "- 결론적으로 확률적 경사 하강법"
      ],
      "metadata": {
        "id": "vTbTdC9Bu3CD"
      }
    },
    {
      "cell_type": "markdown",
      "source": [
        "## 손실함수\n",
        "- 로지스틱 손실 함수\n",
        "-"
      ],
      "metadata": {
        "id": "6HG1208Ewzbf"
      }
    },
    {
      "cell_type": "code",
      "execution_count": 57,
      "metadata": {
        "colab": {
          "base_uri": "https://localhost:8080/"
        },
        "id": "HZ11VCrCnREV",
        "outputId": "374dad8a-f9ba-430c-ac45-adcb1fadb16f"
      },
      "outputs": [
        {
          "output_type": "stream",
          "name": "stdout",
          "text": [
            "<class 'pandas.core.frame.DataFrame'>\n",
            "RangeIndex: 159 entries, 0 to 158\n",
            "Data columns (total 6 columns):\n",
            " #   Column    Non-Null Count  Dtype  \n",
            "---  ------    --------------  -----  \n",
            " 0   Species   159 non-null    object \n",
            " 1   Weight    159 non-null    float64\n",
            " 2   Length    159 non-null    float64\n",
            " 3   Diagonal  159 non-null    float64\n",
            " 4   Height    159 non-null    float64\n",
            " 5   Width     159 non-null    float64\n",
            "dtypes: float64(5), object(1)\n",
            "memory usage: 7.6+ KB\n"
          ]
        }
      ],
      "source": [
        "import pandas as pd\n",
        "fish = pd.read_csv(\"https://bit.ly/fish_csv_data\")\n",
        "fish.info()"
      ]
    },
    {
      "cell_type": "markdown",
      "source": [
        "- 입력 데이터와 타깃 데이터 분"
      ],
      "metadata": {
        "id": "boo9pLQnyFHe"
      }
    },
    {
      "cell_type": "code",
      "source": [
        "fish_input = fish[['Weight', 'Length', 'Diagonal', 'Height', 'Width']].to_numpy()\n",
        "fish_target = fish['Species'].to_numpy()\n",
        "\n",
        "fish_input.shape, fish_target.shape"
      ],
      "metadata": {
        "colab": {
          "base_uri": "https://localhost:8080/"
        },
        "id": "Da-w4aVxyHgN",
        "outputId": "059e16fb-9065-41c8-9986-264232e7451c"
      },
      "execution_count": 58,
      "outputs": [
        {
          "output_type": "execute_result",
          "data": {
            "text/plain": [
              "((159, 5), (159,))"
            ]
          },
          "metadata": {},
          "execution_count": 58
        }
      ]
    },
    {
      "cell_type": "markdown",
      "source": [
        "- 훈련 세트와 테스트 데이터 분리"
      ],
      "metadata": {
        "id": "s2pcdC7Wy-2e"
      }
    },
    {
      "cell_type": "code",
      "source": [
        "from sklearn.model_selection import train_test_split\n",
        "train_input, test_input, train_target, test_target = train_test_split(\n",
        "    # input, target, 옵션...\n",
        "    fish_input, fish_target, random_state = 42\n",
        ")"
      ],
      "metadata": {
        "id": "ed0Cgm2yye-2"
      },
      "execution_count": 59,
      "outputs": []
    },
    {
      "cell_type": "markdown",
      "source": [
        "- 훈련 세트와 테스트 세트의 특성 표준화\n",
        "  + 무게, 길이, 대각선 길이, 높이, 너비\n",
        "- 표준화 처리 진"
      ],
      "metadata": {
        "id": "2xqmTRCVy3z-"
      }
    },
    {
      "cell_type": "code",
      "source": [
        "from sklearn.preprocessing import StandardScaler\n",
        "ss = StandardScaler()\n",
        "ss.fit(train_input)\n",
        "\n",
        "train_scaled = ss.transform(train_input)\n",
        "test_scaled = ss.transform(test_input)\n",
        "\n",
        "train_scaled[:5]"
      ],
      "metadata": {
        "colab": {
          "base_uri": "https://localhost:8080/"
        },
        "id": "vSeHzY7LzFVt",
        "outputId": "988f0b74-610d-4c78-a65f-6be682eeb861"
      },
      "execution_count": 60,
      "outputs": [
        {
          "output_type": "execute_result",
          "data": {
            "text/plain": [
              "array([[ 0.91965782,  0.60943175,  0.81041221,  1.85194896,  1.00075672],\n",
              "       [ 0.30041219,  1.54653445,  1.45316551, -0.46981663,  0.27291745],\n",
              "       [-1.0858536 , -1.68646987, -1.70848587, -1.70159849, -2.0044758 ],\n",
              "       [-0.79734143, -0.60880176, -0.67486907, -0.82480589, -0.27631471],\n",
              "       [-0.71289885, -0.73062511, -0.70092664, -0.0802298 , -0.7033869 ]])"
            ]
          },
          "metadata": {},
          "execution_count": 60
        }
      ]
    },
    {
      "cell_type": "markdown",
      "source": [
        "## 모델링\n",
        "- 확률적 경사 하강법"
      ],
      "metadata": {
        "id": "bxloJ1y3zqq1"
      }
    },
    {
      "cell_type": "code",
      "source": [
        "from sklearn.linear_model import SGDClassifier\n",
        "sc = SGDClassifier(loss = 'log', max_iter = 10, random_state = 42)\n",
        "\n",
        "sc.fit(train_scaled, train_target)\n",
        "print(sc.score(train_scaled, train_target))\n",
        "print(sc.score(test_scaled, test_target))"
      ],
      "metadata": {
        "colab": {
          "base_uri": "https://localhost:8080/"
        },
        "id": "H-16bhv-zt_s",
        "outputId": "ee6fd69a-a38f-4870-d55a-26d94795e0e3"
      },
      "execution_count": 61,
      "outputs": [
        {
          "output_type": "stream",
          "name": "stdout",
          "text": [
            "0.773109243697479\n",
            "0.775\n"
          ]
        },
        {
          "output_type": "stream",
          "name": "stderr",
          "text": [
            "/usr/local/lib/python3.7/dist-packages/sklearn/linear_model/_stochastic_gradient.py:700: ConvergenceWarning: Maximum number of iteration reached before convergence. Consider increasing max_iter to improve the fit.\n",
            "  ConvergenceWarning,\n"
          ]
        }
      ]
    },
    {
      "cell_type": "markdown",
      "source": [
        "- partial_fit() 메서드 사용하면 추가 학습"
      ],
      "metadata": {
        "id": "PYKolLjt0t1M"
      }
    },
    {
      "cell_type": "code",
      "source": [
        "sc.partial_fit(train_scaled, train_target)\n",
        "print(sc.score(train_scaled, train_target))\n",
        "print(sc.score(test_scaled, test_target))"
      ],
      "metadata": {
        "colab": {
          "base_uri": "https://localhost:8080/"
        },
        "id": "r_mYqFBB1TRV",
        "outputId": "0d7a2e42-716a-41f0-eccc-92303dfe6361"
      },
      "execution_count": 62,
      "outputs": [
        {
          "output_type": "stream",
          "name": "stdout",
          "text": [
            "0.8151260504201681\n",
            "0.85\n"
          ]
        }
      ]
    },
    {
      "cell_type": "markdown",
      "source": [
        "## 에포크와 과대/과소적합\n",
        "- 에포크 숫자가 적으면 -> 덜 학습\n",
        "- early_stopping\n",
        "  + 에포크 숫자를 1000, 손실 10, 9, 8, , 3\n",
        "  + 3에 도달한 시점이 150\n",
        "-"
      ],
      "metadata": {
        "id": "XqjR0PJe1ioF"
      }
    },
    {
      "cell_type": "code",
      "source": [
        "import numpy as np \n",
        "sc = SGDClassifier(loss='log', random_state = 42)\n",
        "train_score = []\n",
        "test_score = []\n",
        "\n",
        "classes = np.unique(train_target)\n",
        "\n",
        "# 300번 에포크 훈련을 반복\n",
        "# 훈련 할 때마다, train_score, test_score 추가를 한다. \n",
        "for _ in range(0, 300):\n",
        "  sc.partial_fit(train_scaled, train_target, classes = classes)\n",
        "  train_score.append(sc.score(train_scaled, train_target))\n",
        "  test_score.append(sc.score(test_scaled, test_target)) \n",
        "  "
      ],
      "metadata": {
        "id": "DHPt59rJ4BM7"
      },
      "execution_count": 63,
      "outputs": []
    },
    {
      "cell_type": "markdown",
      "source": [
        "-시각화"
      ],
      "metadata": {
        "id": "RpxZ9uwe5Jzj"
      }
    },
    {
      "cell_type": "code",
      "source": [
        "import matplotlib.pyplot as plt\n",
        "plt.plot(train_score)\n",
        "plt.plot(test_score)\n",
        "plt.legend([\"train\", \"test\"])\n",
        "plt.show()"
      ],
      "metadata": {
        "colab": {
          "base_uri": "https://localhost:8080/",
          "height": 265
        },
        "id": "9ntjTDv340uj",
        "outputId": "fc7e4aca-5ee7-4bb4-ade9-76f73ff32181"
      },
      "execution_count": 64,
      "outputs": [
        {
          "output_type": "display_data",
          "data": {
            "text/plain": [
              "<Figure size 432x288 with 1 Axes>"
            ],
            "image/png": "[encoded data removed]"
          },
          "metadata": {
            "needs_background": "light"
          }
        }
      ]
    },
    {
      "cell_type": "markdown",
      "source": [
        "## 결정트리\n",
        "- wine 데이터 가져오기"
      ],
      "metadata": {
        "id": "4B88qFjc94F5"
      }
    },
    {
      "cell_type": "code",
      "source": [
        "import pandas as pd\n",
        "wine = pd.read_csv('https://bit.ly/wine_csv_data')\n",
        "\n",
        "print(wine.head())"
      ],
      "metadata": {
        "colab": {
          "base_uri": "https://localhost:8080/"
        },
        "id": "gphSAQqF96uw",
        "outputId": "ca1d36c0-2ef3-4d2b-e435-f9536fd963a2"
      },
      "execution_count": 65,
      "outputs": [
        {
          "output_type": "stream",
          "name": "stdout",
          "text": [
            "   alcohol  sugar    pH  class\n",
            "0      9.4    1.9  3.51    0.0\n",
            "1      9.8    2.6  3.20    0.0\n",
            "2      9.8    2.3  3.26    0.0\n",
            "3      9.8    1.9  3.16    0.0\n",
            "4      9.4    1.9  3.51    0.0\n"
          ]
        }
      ]
    },
    {
      "cell_type": "markdown",
      "source": [
        "- 데이터 가공하기"
      ],
      "metadata": {
        "id": "W7njkGpR-LHR"
      }
    },
    {
      "cell_type": "code",
      "source": [
        "data = wine[['alcohol', 'sugar', 'pH']].to_numpy()\n",
        "target = wine['class'].to_numpy()"
      ],
      "metadata": {
        "id": "xVM9tGVt-MVh"
      },
      "execution_count": 66,
      "outputs": []
    },
    {
      "cell_type": "markdown",
      "source": [
        "- 훈련데이터 분리"
      ],
      "metadata": {
        "id": "Tu3FZ4WJ_ctC"
      }
    },
    {
      "cell_type": "code",
      "source": [
        "from sklearn.model_selection import train_test_split\n",
        "\n",
        "train_input, test_input, train_target, test_target = train_test_split(\n",
        "    data, target, test_size = 0.2, random_state = 42\n",
        ")\n",
        "\n",
        "train_input.shape, test_input.shape, train_target.shape, test_target.shape"
      ],
      "metadata": {
        "colab": {
          "base_uri": "https://localhost:8080/"
        },
        "id": "sGDw3NU9_dqQ",
        "outputId": "7610b59a-6c1c-4f6e-cc0a-2771d4faf9c8"
      },
      "execution_count": 67,
      "outputs": [
        {
          "output_type": "execute_result",
          "data": {
            "text/plain": [
              "((5197, 3), (1300, 3), (5197,), (1300,))"
            ]
          },
          "metadata": {},
          "execution_count": 67
        }
      ]
    },
    {
      "cell_type": "markdown",
      "source": [
        "- 표준화 처리"
      ],
      "metadata": {
        "id": "GyYj7Lh8AS9A"
      }
    },
    {
      "cell_type": "code",
      "source": [
        "from sklearn.preprocessing import StandardScaler\n",
        "ss = StandardScaler()\n",
        "ss.fit(train_input)\n",
        "train_scaled = ss.transform(train_input)\n",
        "test_scaled = ss.transform(test_input)"
      ],
      "metadata": {
        "id": "SzIvNw7qAUJm"
      },
      "execution_count": 68,
      "outputs": []
    },
    {
      "cell_type": "markdown",
      "source": [
        "- 훈련 정확도는 99.6%\n",
        "- 테스트 정확도는 85.9%\n",
        "--> 과대적합이 일어남"
      ],
      "metadata": {
        "id": "usXPHLORDnzf"
      }
    },
    {
      "cell_type": "markdown",
      "source": [
        "- 로지스틱 회귀 모델"
      ],
      "metadata": {
        "id": "ZO-mvhD-Cb2_"
      }
    },
    {
      "cell_type": "code",
      "source": [
        "from sklearn.linear_model import LogisticRegression\n",
        "lr = LogisticRegression()\n",
        "lr.fit(train_scaled, train_target)\n",
        "print(lr.score(train_scaled, train_target))\n",
        "print(lr.score(test_scaled, test_target))"
      ],
      "metadata": {
        "colab": {
          "base_uri": "https://localhost:8080/"
        },
        "id": "VwFFYCzSCd42",
        "outputId": "0e3df1b0-a417-4cab-8825-2bae1e268a69"
      },
      "execution_count": 69,
      "outputs": [
        {
          "output_type": "stream",
          "name": "stdout",
          "text": [
            "0.7808350971714451\n",
            "0.7776923076923077\n"
          ]
        }
      ]
    },
    {
      "cell_type": "code",
      "source": [
        "print(lr.coef_, lr.intercept_)"
      ],
      "metadata": {
        "colab": {
          "base_uri": "https://localhost:8080/"
        },
        "id": "fwzvIEG1C_g1",
        "outputId": "f0426134-0cd6-4dec-c2fa-ac787ff933fa"
      },
      "execution_count": 70,
      "outputs": [
        {
          "output_type": "stream",
          "name": "stdout",
          "text": [
            "[[ 0.51270274  1.6733911  -0.68767781]] [1.81777902]\n"
          ]
        }
      ]
    },
    {
      "cell_type": "markdown",
      "source": [
        "- 모델 만들기"
      ],
      "metadata": {
        "id": "TX8zlZjSDQvP"
      }
    },
    {
      "cell_type": "code",
      "source": [
        "from sklearn.tree import DecisionTreeClassifier\n",
        "import matplotlib.pyplot as plt\n",
        "from sklearn.tree import plot_tree\n",
        "\n",
        "dt = DecisionTreeClassifier(criterion = 'entropy', max_depth = 8, random_state=42)\n",
        "dt.fit(train_scaled, train_target)\n",
        "print(dt.score(train_scaled, train_target))\n",
        "print(dt.score(test_scaled, test_target))\n",
        "\n",
        "plt.figure(figsize = (10,7))\n",
        "plot_tree(dt)\n",
        "plt.show()"
      ],
      "metadata": {
        "colab": {
          "base_uri": "https://localhost:8080/",
          "height": 448
        },
        "id": "ue26SZ65DSt_",
        "outputId": "fff5982d-012b-4192-b8c2-aee5f617043e"
      },
      "execution_count": 71,
      "outputs": [
        {
          "output_type": "stream",
          "name": "stdout",
          "text": [
            "0.89532422551472\n",
            "0.8569230769230769\n"
          ]
        },
        {
          "output_type": "display_data",
          "data": {
            "text/plain": [
              "<Figure size 720x504 with 1 Axes>"
            ],
            "image/png": "[encoded data removed]"
          },
          "metadata": {
            "needs_background": "light"
          }
        }
      ]
    },
    {
      "cell_type": "markdown",
      "source": [
        "## 노드란 무엇인가?\n",
        "- 0 이면 레드 와인\n",
        "- 1 이면 화이트 와인"
      ],
      "metadata": {
        "id": "tAdHTrl0kcZm"
      }
    },
    {
      "cell_type": "code",
      "source": [
        "plt.figure(figsize = (10, 7))\n",
        "plot_tree(dt,\n",
        "          max_depth = 1,\n",
        "          filled = True,\n",
        "          feature_names = ['alcohol', 'sugar', 'pH'])\n",
        "plt.show()"
      ],
      "metadata": {
        "colab": {
          "base_uri": "https://localhost:8080/",
          "height": 411
        },
        "id": "hItuu604kbAG",
        "outputId": "35c553c5-2441-4940-8024-d13b0cc0587c"
      },
      "execution_count": 72,
      "outputs": [
        {
          "output_type": "display_data",
          "data": {
            "text/plain": [
              "<Figure size 720x504 with 1 Axes>"
            ],
            "image/png": "[encoded data removed]"
          },
          "metadata": {
            "needs_background": "light"
          }
        }
      ]
    },
    {
      "cell_type": "markdown",
      "source": [
        "- 불순도\n",
        "    + 한 범주 안에서 서로 다른 데이터가 얼마나 섞여 있는지 나타냄\n",
        "\n",
        "- 불순도 gini 수치\n",
        "  + 비율\n",
        "  + 레드와인 5 : 화이트 와인 5  = 0.5\n",
        "\n",
        "- 엔트로피(Entropy)\n",
        "  + 불확실한 정도를 의미함 (0~1 사이)\n",
        "  + 흰색과 검은색이 각각 50개 섞여있다.\n",
        "    + 흰색 노드 엔트로피 최소 - 0\n",
        "    + 검은색 노드 엔트로피 최소 - 0\n",
        "\n"
      ],
      "metadata": {
        "id": "Sr8i9HiEognt"
      }
    },
    {
      "cell_type": "markdown",
      "source": [
        "### 특성 중요도\n",
        "- 어떤 특성이 결정 트리 모델에 영향을 주었는가?"
      ],
      "metadata": {
        "id": "ZAr7pznDr0_z"
      }
    },
    {
      "cell_type": "code",
      "source": [
        "print(dt.feature_importances_)"
      ],
      "metadata": {
        "colab": {
          "base_uri": "https://localhost:8080/"
        },
        "id": "r9i_VM_bsAUC",
        "outputId": "67a8471d-d804-4464-a0b9-e2d8e01ad55a"
      },
      "execution_count": 73,
      "outputs": [
        {
          "output_type": "stream",
          "name": "stdout",
          "text": [
            "[0.15533444 0.6675247  0.17714086]\n"
          ]
        }
      ]
    },
    {
      "cell_type": "markdown",
      "source": [
        "## 현업에서의 적용\n",
        "- 현업에서 DecisionTreeClassifier\n",
        "- 랜덤포레스트, XGBoost 하이퍼파라미터\n"
      ],
      "metadata": {
        "id": "e16nX28CyYle"
      }
    },
    {
      "cell_type": "markdown",
      "source": [
        "## 검증 세트\n",
        "- 훈련세트와 테스트세트\n",
        "- 훈련 : 교과서 공부하는 것 훈련세트, 모의평가\n",
        "- 검증 : 강남대성 모의고사 문제지\n",
        "- 테스트 : 6월 / 9월\n",
        "- 실전 : 수능"
      ],
      "metadata": {
        "id": "Tqnb7gs50jHp"
      }
    },
    {
      "cell_type": "code",
      "source": [
        "import pandas as pd\n",
        "wine = pd.read_csv('https://bit.ly/wine_csv_data')\n",
        "\n",
        "print(wine.head())\n",
        "\n",
        "\n",
        "data = wine[['alcohol', 'sugar', 'pH']].to_numpy()\n",
        "target = wine['class'].to_numpy()\n",
        "\n",
        "# 훈련 80%\n",
        "# 테스트 20%\n",
        "train_input, test_input, train_target, test_target = train_test_split(\n",
        "    data, target, test_size = 0.2, random_state = 42\n",
        ")\n",
        "\n",
        "train_input.shape, test_input.shape, train_target.shape, test_target.shape\n"
      ],
      "metadata": {
        "colab": {
          "base_uri": "https://localhost:8080/"
        },
        "id": "inJFHUwZ1_Pf",
        "outputId": "d9155036-9e02-40cc-9ecf-b12bcd219a7b"
      },
      "execution_count": 74,
      "outputs": [
        {
          "output_type": "stream",
          "name": "stdout",
          "text": [
            "   alcohol  sugar    pH  class\n",
            "0      9.4    1.9  3.51    0.0\n",
            "1      9.8    2.6  3.20    0.0\n",
            "2      9.8    2.3  3.26    0.0\n",
            "3      9.8    1.9  3.16    0.0\n",
            "4      9.4    1.9  3.51    0.0\n"
          ]
        },
        {
          "output_type": "execute_result",
          "data": {
            "text/plain": [
              "((5197, 3), (1300, 3), (5197,), (1300,))"
            ]
          },
          "metadata": {},
          "execution_count": 74
        }
      ]
    },
    {
      "cell_type": "code",
      "source": [
        "# 훈련 80%\n",
        "# 검증 20%\n",
        "\n",
        "sub_input, val_input, sub_target, val_target = train_test_split(\n",
        "    train_input, train_target, test_size = 0.2, random_state = 42\n",
        ")\n",
        "\n",
        "sub_input.shape, val_input.shape, sub_target.shape, val_target.shape"
      ],
      "metadata": {
        "colab": {
          "base_uri": "https://localhost:8080/"
        },
        "id": "t-gt6x_32eoq",
        "outputId": "bd285046-6713-45b5-a007-6f33cdd0b5b9"
      },
      "execution_count": 75,
      "outputs": [
        {
          "output_type": "execute_result",
          "data": {
            "text/plain": [
              "((4157, 3), (1040, 3), (4157,), (1040,))"
            ]
          },
          "metadata": {},
          "execution_count": 75
        }
      ]
    },
    {
      "cell_type": "markdown",
      "source": [
        "- 훈련데이터 : sub_input, sub_target\n",
        "- 검증데이터 : val_input, val_target\n",
        "- 테스트데이터 : test_input, test_target"
      ],
      "metadata": {
        "id": "M6RzEqiO27BW"
      }
    },
    {
      "cell_type": "markdown",
      "source": [
        "- 모형 만들기"
      ],
      "metadata": {
        "id": "GXWQrUYU3I8w"
      }
    },
    {
      "cell_type": "code",
      "source": [
        "from sklearn.tree import DecisionTreeClassifier\n",
        "dt = DecisionTreeClassifier(random_state = 42)\n",
        "dt.fit(sub_input, sub_target)\n",
        "print(\"훈련 성과 : \", dt.score(sub_input, sub_target))\n",
        "print(\"검증 성과 : \", dt.score(val_input, val_target))\n",
        "print(\"마지막 최종 : \", dt.score(test_input, test_target))"
      ],
      "metadata": {
        "colab": {
          "base_uri": "https://localhost:8080/"
        },
        "id": "qztXd98n2ei-",
        "outputId": "daac8e4e-7292-478f-961a-c535cb979faa"
      },
      "execution_count": 76,
      "outputs": [
        {
          "output_type": "stream",
          "name": "stdout",
          "text": [
            "훈련 성과 :  0.9971133028626413\n",
            "검증 성과 :  0.864423076923077\n",
            "마지막 최종 :  0.8569230769230769\n"
          ]
        }
      ]
    },
    {
      "cell_type": "markdown",
      "source": [
        "- 훈련 : 99% (과대적합)\n",
        "- 검증 : 86%\n",
        "---\n",
        "- 최종 : 85%\n"
      ],
      "metadata": {
        "id": "dpS_xlMk3yjP"
      }
    },
    {
      "cell_type": "markdown",
      "source": [
        "### 교차 검증\n",
        "- 데이터 셋을 반복 분할\n",
        "- For loop\n",
        "- 편향적인 샘플링을 방지하기 위해\n",
        "- 교차검증 한다 해서 정확도가 무조건 올라간다? (x)\n",
        "- 모형을 안정적으로 만들어 준다\n",
        "  + 과대적합 방지"
      ],
      "metadata": {
        "id": "-hplVAyp40eY"
      }
    },
    {
      "cell_type": "code",
      "source": [
        "import numpy as np\n",
        "from sklearn.model_selection import KFold\n",
        "\n",
        "df = np.array([1, 2, 3, 4, 5, 6, 7, 8, 9, 10])\n",
        "\n",
        "# 데이터를 K 폴드로 나눈다\n",
        "folds = KFold(n_splits = 5, shuffle = True)\n",
        "for train_idx, valid_idx in folds.split(df):\n",
        "  print(f'훈련데이터 : {df[train_idx]}, 검증데이터 : {df[valid_idx]}')"
      ],
      "metadata": {
        "colab": {
          "base_uri": "https://localhost:8080/"
        },
        "id": "E2FdxsUG_TMN",
        "outputId": "5eafac1c-8eeb-43e3-fe7c-0d338ac21439"
      },
      "execution_count": 77,
      "outputs": [
        {
          "output_type": "stream",
          "name": "stdout",
          "text": [
            "훈련데이터 : [ 1  2  5  6  7  8  9 10], 검증데이터 : [3 4]\n",
            "훈련데이터 : [ 1  3  4  5  7  8  9 10], 검증데이터 : [2 6]\n",
            "훈련데이터 : [1 2 3 4 5 6 7 8], 검증데이터 : [ 9 10]\n",
            "훈련데이터 : [ 1  2  3  4  5  6  9 10], 검증데이터 : [7 8]\n",
            "훈련데이터 : [ 2  3  4  6  7  8  9 10], 검증데이터 : [1 5]\n"
          ]
        }
      ]
    },
    {
      "cell_type": "markdown",
      "source": [
        "- 교차 검증 함수"
      ],
      "metadata": {
        "id": "zgxmMl5cAjDr"
      }
    },
    {
      "cell_type": "code",
      "source": [
        "from sklearn.model_selection import cross_validate\n",
        "scores = cross_validate(dt, train_input, train_target)\n",
        "print(scores)\n",
        "print(\"평균 : \", np.mean(scores['test_score']))"
      ],
      "metadata": {
        "colab": {
          "base_uri": "https://localhost:8080/"
        },
        "id": "3w7IEs16AkRC",
        "outputId": "7d5dc3a6-16db-404f-a6bf-4dba81165b55"
      },
      "execution_count": 78,
      "outputs": [
        {
          "output_type": "stream",
          "name": "stdout",
          "text": [
            "{'fit_time': array([0.00856519, 0.00699925, 0.00773931, 0.00728726, 0.00691032]), 'score_time': array([0.00073147, 0.00065422, 0.00068235, 0.00068927, 0.00064707]), 'test_score': array([0.86923077, 0.84615385, 0.87680462, 0.84889317, 0.83541867])}\n",
            "평균 :  0.855300214703487\n"
          ]
        }
      ]
    },
    {
      "cell_type": "markdown",
      "source": [
        "- StratifiedKFold 사용"
      ],
      "metadata": {
        "id": "Le3a3utIBVBq"
      }
    },
    {
      "cell_type": "code",
      "source": [
        "from sklearn.model_selection import cross_validate\n",
        "scores = cross_validate(dt, train_input, train_target)\n",
        "print(scores)\n",
        "print(\"평균 : \", np.mean(scores['test_score']))"
      ],
      "metadata": {
        "id": "Ze7w19s_B_zC",
        "colab": {
          "base_uri": "https://localhost:8080/"
        },
        "outputId": "50c53275-1d79-4d82-cbd3-ce40dfa070c8"
      },
      "execution_count": 79,
      "outputs": [
        {
          "output_type": "stream",
          "name": "stdout",
          "text": [
            "{'fit_time': array([0.00971413, 0.00710511, 0.00734305, 0.00743556, 0.00686908]), 'score_time': array([0.00079894, 0.00071692, 0.00080347, 0.00065923, 0.00062037]), 'test_score': array([0.86923077, 0.84615385, 0.87680462, 0.84889317, 0.83541867])}\n",
            "평균 :  0.855300214703487\n"
          ]
        }
      ]
    },
    {
      "cell_type": "code",
      "source": [
        "from sklearn.model_selection import StratifiedKFold\n",
        "splitter = StratifiedKFold(n_splits = 10, shuffle = True, random_state = 42)\n",
        "scores = cross_validate(dt, train_input, train_target, cv = splitter)\n",
        "print(scores)\n",
        "print(\"평균 : \", np.mean(scores['test_score']))"
      ],
      "metadata": {
        "colab": {
          "base_uri": "https://localhost:8080/"
        },
        "id": "CqgsabR1BZaT",
        "outputId": "76b5ab4b-1440-4ade-c7b0-36700fa6b542"
      },
      "execution_count": 80,
      "outputs": [
        {
          "output_type": "stream",
          "name": "stdout",
          "text": [
            "{'fit_time': array([0.01107836, 0.00849605, 0.00829625, 0.00798273, 0.00783992,\n",
            "       0.00794697, 0.00931644, 0.0090518 , 0.00789452, 0.00777817]), 'score_time': array([0.00063372, 0.00058699, 0.00054407, 0.00053525, 0.00053144,\n",
            "       0.00053644, 0.0019145 , 0.00052881, 0.00053692, 0.00055456]), 'test_score': array([0.83461538, 0.87884615, 0.85384615, 0.85384615, 0.84615385,\n",
            "       0.87307692, 0.85961538, 0.85549133, 0.85163776, 0.86705202])}\n",
            "평균 :  0.8574181117533719\n"
          ]
        }
      ]
    },
    {
      "cell_type": "markdown",
      "source": [
        "## 하이퍼파라미터 튜닝\n",
        "-  그리드 서치\n",
        "  + 사람이 수동으로 입력\n",
        "  + max_depth : [1, 3, 7]\n",
        "- 랜덤 서치\n",
        "  + 사람이 범위만 지정\n",
        "  + max_depth : 1~10 / by random\n",
        "- 사람의 개입 없이 하이퍼파라미터 튜닝을 자동으로 수행하는 기술을 AutoML이라고 함\n",
        "  + 예) PyCaret\n",
        "- 각 모델마다 적게는 1-2개에서 많게는 5-6개의 매개변수를 제공한다.\n",
        "  + XGBoost -> 수백개\n",
        "- 하이퍼파라미터와 동시에 교차검증을 수행\n",
        "\n",
        "교차검증 5번\n",
        "교차검증 1번 돌 때, Max Depth 3번 적용\n",
        "- 총 결과값 3*5*2 = 30\n",
        "\n",
        "- Max Depth = 1, 3, 7\n",
        "- Criterion = gini, entropy\n"
      ],
      "metadata": {
        "id": "iow4Ep8lDO57"
      }
    },
    {
      "cell_type": "code",
      "source": [
        "from sklearn.model_selection import GridSearchCV\n",
        "params = {\n",
        "    'criterion' : ['gini', 'entropy'],\n",
        "    'max_depth' : [1, 3, 7],\n",
        "    'min_impurity_decrease' : [0.0001, 0.0002, 0.0003, 0.0004, 0.0005]\n",
        "}\n",
        "\n",
        "gs = GridSearchCV(DecisionTreeClassifier(random_state = 42), params, n_jobs = -1)\n",
        "gs.fit(train_input, train_target)"
      ],
      "metadata": {
        "colab": {
          "base_uri": "https://localhost:8080/"
        },
        "id": "Pz8ZkFU6HH64",
        "outputId": "6a470a17-83df-4d43-808b-d85515591024"
      },
      "execution_count": 81,
      "outputs": [
        {
          "output_type": "execute_result",
          "data": {
            "text/plain": [
              "GridSearchCV(estimator=DecisionTreeClassifier(random_state=42), n_jobs=-1,\n",
              "             param_grid={'criterion': ['gini', 'entropy'],\n",
              "                         'max_depth': [1, 3, 7],\n",
              "                         'min_impurity_decrease': [0.0001, 0.0002, 0.0003,\n",
              "                                                   0.0004, 0.0005]})"
            ]
          },
          "metadata": {},
          "execution_count": 81
        }
      ]
    },
    {
      "cell_type": "code",
      "source": [
        "print(\"best :\" , gs.best_estimator_)\n",
        "dt = gs.best_estimator_"
      ],
      "metadata": {
        "colab": {
          "base_uri": "https://localhost:8080/"
        },
        "id": "wHfTsvEKHpCp",
        "outputId": "a80c076b-6606-40d7-d776-41023a41b304"
      },
      "execution_count": 82,
      "outputs": [
        {
          "output_type": "stream",
          "name": "stdout",
          "text": [
            "best : DecisionTreeClassifier(max_depth=7, min_impurity_decrease=0.0005,\n",
            "                       random_state=42)\n"
          ]
        }
      ]
    }
  ]
}